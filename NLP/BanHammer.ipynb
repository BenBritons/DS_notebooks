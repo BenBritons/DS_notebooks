{
  "cells": [
    {
      "cell_type": "markdown",
      "metadata": {
        "id": "view-in-github",
        "colab_type": "text"
      },
      "source": [
        "<a href=\"https://colab.research.google.com/github/BenBritons/DS_notebooks/blob/main/NLP/BanHammer.ipynb\" target=\"_parent\"><img src=\"https://colab.research.google.com/assets/colab-badge.svg\" alt=\"Open In Colab\"/></a>"
      ]
    },
    {
      "cell_type": "code",
      "execution_count": 3,
      "metadata": {
        "id": "7GnYENBc0Zdm"
      },
      "outputs": [],
      "source": [
        "import numpy as np\n",
        "import matplotlib.pyplot as plt\n",
        "%matplotlib inline"
      ]
    },
    {
      "cell_type": "markdown",
      "metadata": {
        "id": "ofZXOYUg0Zdq"
      },
      "source": [
        "###Prohibited Comment Classification\n",
        "\n",
        "![img](https://github.com/yandexdataschool/nlp_course/raw/master/resources/banhammer.jpg)\n",
        "\n",
        "__In this notebook__ I will build an algorithm that classifies social media comments into normal or toxic.\n",
        "Like in many real-world cases, I only have a small (10^3) dataset of hand-labeled examples to work with. We'll tackle this problem using both classical nlp methods and embedding-based approach."
      ]
    },
    {
      "cell_type": "code",
      "execution_count": 4,
      "metadata": {
        "id": "vdaA6mDy0Zdu",
        "outputId": "9ff129ad-d28d-43ea-cf38-67ea5d942f1a",
        "colab": {
          "base_uri": "https://localhost:8080/",
          "height": 206
        }
      },
      "outputs": [
        {
          "output_type": "execute_result",
          "data": {
            "text/plain": [
              "     should_ban                                       comment_text\n",
              "50            0  \"Those who're in advantageous positions are th...\n",
              "250           1          Fartsalot56 says f**k you motherclucker!!\n",
              "450           1  Are you a fool? \\n\\nI am sorry, but you seem t...\n",
              "650           1    I AM NOT A VANDAL!!!!!!!!!!!!!!!!!!!!!!!!!!!!!!\n",
              "850           0  Citing sources\\n\\nCheck out the Wikipedia:Citi..."
            ],
            "text/html": [
              "\n",
              "  <div id=\"df-3b83d9d7-ddc2-49d2-9bf1-2bc4f0135eed\" class=\"colab-df-container\">\n",
              "    <div>\n",
              "<style scoped>\n",
              "    .dataframe tbody tr th:only-of-type {\n",
              "        vertical-align: middle;\n",
              "    }\n",
              "\n",
              "    .dataframe tbody tr th {\n",
              "        vertical-align: top;\n",
              "    }\n",
              "\n",
              "    .dataframe thead th {\n",
              "        text-align: right;\n",
              "    }\n",
              "</style>\n",
              "<table border=\"1\" class=\"dataframe\">\n",
              "  <thead>\n",
              "    <tr style=\"text-align: right;\">\n",
              "      <th></th>\n",
              "      <th>should_ban</th>\n",
              "      <th>comment_text</th>\n",
              "    </tr>\n",
              "  </thead>\n",
              "  <tbody>\n",
              "    <tr>\n",
              "      <th>50</th>\n",
              "      <td>0</td>\n",
              "      <td>\"Those who're in advantageous positions are th...</td>\n",
              "    </tr>\n",
              "    <tr>\n",
              "      <th>250</th>\n",
              "      <td>1</td>\n",
              "      <td>Fartsalot56 says f**k you motherclucker!!</td>\n",
              "    </tr>\n",
              "    <tr>\n",
              "      <th>450</th>\n",
              "      <td>1</td>\n",
              "      <td>Are you a fool? \\n\\nI am sorry, but you seem t...</td>\n",
              "    </tr>\n",
              "    <tr>\n",
              "      <th>650</th>\n",
              "      <td>1</td>\n",
              "      <td>I AM NOT A VANDAL!!!!!!!!!!!!!!!!!!!!!!!!!!!!!!</td>\n",
              "    </tr>\n",
              "    <tr>\n",
              "      <th>850</th>\n",
              "      <td>0</td>\n",
              "      <td>Citing sources\\n\\nCheck out the Wikipedia:Citi...</td>\n",
              "    </tr>\n",
              "  </tbody>\n",
              "</table>\n",
              "</div>\n",
              "    <div class=\"colab-df-buttons\">\n",
              "\n",
              "  <div class=\"colab-df-container\">\n",
              "    <button class=\"colab-df-convert\" onclick=\"convertToInteractive('df-3b83d9d7-ddc2-49d2-9bf1-2bc4f0135eed')\"\n",
              "            title=\"Convert this dataframe to an interactive table.\"\n",
              "            style=\"display:none;\">\n",
              "\n",
              "  <svg xmlns=\"http://www.w3.org/2000/svg\" height=\"24px\" viewBox=\"0 -960 960 960\">\n",
              "    <path d=\"M120-120v-720h720v720H120Zm60-500h600v-160H180v160Zm220 220h160v-160H400v160Zm0 220h160v-160H400v160ZM180-400h160v-160H180v160Zm440 0h160v-160H620v160ZM180-180h160v-160H180v160Zm440 0h160v-160H620v160Z\"/>\n",
              "  </svg>\n",
              "    </button>\n",
              "\n",
              "  <style>\n",
              "    .colab-df-container {\n",
              "      display:flex;\n",
              "      gap: 12px;\n",
              "    }\n",
              "\n",
              "    .colab-df-convert {\n",
              "      background-color: #E8F0FE;\n",
              "      border: none;\n",
              "      border-radius: 50%;\n",
              "      cursor: pointer;\n",
              "      display: none;\n",
              "      fill: #1967D2;\n",
              "      height: 32px;\n",
              "      padding: 0 0 0 0;\n",
              "      width: 32px;\n",
              "    }\n",
              "\n",
              "    .colab-df-convert:hover {\n",
              "      background-color: #E2EBFA;\n",
              "      box-shadow: 0px 1px 2px rgba(60, 64, 67, 0.3), 0px 1px 3px 1px rgba(60, 64, 67, 0.15);\n",
              "      fill: #174EA6;\n",
              "    }\n",
              "\n",
              "    .colab-df-buttons div {\n",
              "      margin-bottom: 4px;\n",
              "    }\n",
              "\n",
              "    [theme=dark] .colab-df-convert {\n",
              "      background-color: #3B4455;\n",
              "      fill: #D2E3FC;\n",
              "    }\n",
              "\n",
              "    [theme=dark] .colab-df-convert:hover {\n",
              "      background-color: #434B5C;\n",
              "      box-shadow: 0px 1px 3px 1px rgba(0, 0, 0, 0.15);\n",
              "      filter: drop-shadow(0px 1px 2px rgba(0, 0, 0, 0.3));\n",
              "      fill: #FFFFFF;\n",
              "    }\n",
              "  </style>\n",
              "\n",
              "    <script>\n",
              "      const buttonEl =\n",
              "        document.querySelector('#df-3b83d9d7-ddc2-49d2-9bf1-2bc4f0135eed button.colab-df-convert');\n",
              "      buttonEl.style.display =\n",
              "        google.colab.kernel.accessAllowed ? 'block' : 'none';\n",
              "\n",
              "      async function convertToInteractive(key) {\n",
              "        const element = document.querySelector('#df-3b83d9d7-ddc2-49d2-9bf1-2bc4f0135eed');\n",
              "        const dataTable =\n",
              "          await google.colab.kernel.invokeFunction('convertToInteractive',\n",
              "                                                    [key], {});\n",
              "        if (!dataTable) return;\n",
              "\n",
              "        const docLinkHtml = 'Like what you see? Visit the ' +\n",
              "          '<a target=\"_blank\" href=https://colab.research.google.com/notebooks/data_table.ipynb>data table notebook</a>'\n",
              "          + ' to learn more about interactive tables.';\n",
              "        element.innerHTML = '';\n",
              "        dataTable['output_type'] = 'display_data';\n",
              "        await google.colab.output.renderOutput(dataTable, element);\n",
              "        const docLink = document.createElement('div');\n",
              "        docLink.innerHTML = docLinkHtml;\n",
              "        element.appendChild(docLink);\n",
              "      }\n",
              "    </script>\n",
              "  </div>\n",
              "\n",
              "\n",
              "<div id=\"df-725d80a6-c43f-4a05-9ff6-f9426edefdc5\">\n",
              "  <button class=\"colab-df-quickchart\" onclick=\"quickchart('df-725d80a6-c43f-4a05-9ff6-f9426edefdc5')\"\n",
              "            title=\"Suggest charts.\"\n",
              "            style=\"display:none;\">\n",
              "\n",
              "<svg xmlns=\"http://www.w3.org/2000/svg\" height=\"24px\"viewBox=\"0 0 24 24\"\n",
              "     width=\"24px\">\n",
              "    <g>\n",
              "        <path d=\"M19 3H5c-1.1 0-2 .9-2 2v14c0 1.1.9 2 2 2h14c1.1 0 2-.9 2-2V5c0-1.1-.9-2-2-2zM9 17H7v-7h2v7zm4 0h-2V7h2v10zm4 0h-2v-4h2v4z\"/>\n",
              "    </g>\n",
              "</svg>\n",
              "  </button>\n",
              "\n",
              "<style>\n",
              "  .colab-df-quickchart {\n",
              "      --bg-color: #E8F0FE;\n",
              "      --fill-color: #1967D2;\n",
              "      --hover-bg-color: #E2EBFA;\n",
              "      --hover-fill-color: #174EA6;\n",
              "      --disabled-fill-color: #AAA;\n",
              "      --disabled-bg-color: #DDD;\n",
              "  }\n",
              "\n",
              "  [theme=dark] .colab-df-quickchart {\n",
              "      --bg-color: #3B4455;\n",
              "      --fill-color: #D2E3FC;\n",
              "      --hover-bg-color: #434B5C;\n",
              "      --hover-fill-color: #FFFFFF;\n",
              "      --disabled-bg-color: #3B4455;\n",
              "      --disabled-fill-color: #666;\n",
              "  }\n",
              "\n",
              "  .colab-df-quickchart {\n",
              "    background-color: var(--bg-color);\n",
              "    border: none;\n",
              "    border-radius: 50%;\n",
              "    cursor: pointer;\n",
              "    display: none;\n",
              "    fill: var(--fill-color);\n",
              "    height: 32px;\n",
              "    padding: 0;\n",
              "    width: 32px;\n",
              "  }\n",
              "\n",
              "  .colab-df-quickchart:hover {\n",
              "    background-color: var(--hover-bg-color);\n",
              "    box-shadow: 0 1px 2px rgba(60, 64, 67, 0.3), 0 1px 3px 1px rgba(60, 64, 67, 0.15);\n",
              "    fill: var(--button-hover-fill-color);\n",
              "  }\n",
              "\n",
              "  .colab-df-quickchart-complete:disabled,\n",
              "  .colab-df-quickchart-complete:disabled:hover {\n",
              "    background-color: var(--disabled-bg-color);\n",
              "    fill: var(--disabled-fill-color);\n",
              "    box-shadow: none;\n",
              "  }\n",
              "\n",
              "  .colab-df-spinner {\n",
              "    border: 2px solid var(--fill-color);\n",
              "    border-color: transparent;\n",
              "    border-bottom-color: var(--fill-color);\n",
              "    animation:\n",
              "      spin 1s steps(1) infinite;\n",
              "  }\n",
              "\n",
              "  @keyframes spin {\n",
              "    0% {\n",
              "      border-color: transparent;\n",
              "      border-bottom-color: var(--fill-color);\n",
              "      border-left-color: var(--fill-color);\n",
              "    }\n",
              "    20% {\n",
              "      border-color: transparent;\n",
              "      border-left-color: var(--fill-color);\n",
              "      border-top-color: var(--fill-color);\n",
              "    }\n",
              "    30% {\n",
              "      border-color: transparent;\n",
              "      border-left-color: var(--fill-color);\n",
              "      border-top-color: var(--fill-color);\n",
              "      border-right-color: var(--fill-color);\n",
              "    }\n",
              "    40% {\n",
              "      border-color: transparent;\n",
              "      border-right-color: var(--fill-color);\n",
              "      border-top-color: var(--fill-color);\n",
              "    }\n",
              "    60% {\n",
              "      border-color: transparent;\n",
              "      border-right-color: var(--fill-color);\n",
              "    }\n",
              "    80% {\n",
              "      border-color: transparent;\n",
              "      border-right-color: var(--fill-color);\n",
              "      border-bottom-color: var(--fill-color);\n",
              "    }\n",
              "    90% {\n",
              "      border-color: transparent;\n",
              "      border-bottom-color: var(--fill-color);\n",
              "    }\n",
              "  }\n",
              "</style>\n",
              "\n",
              "  <script>\n",
              "    async function quickchart(key) {\n",
              "      const quickchartButtonEl =\n",
              "        document.querySelector('#' + key + ' button');\n",
              "      quickchartButtonEl.disabled = true;  // To prevent multiple clicks.\n",
              "      quickchartButtonEl.classList.add('colab-df-spinner');\n",
              "      try {\n",
              "        const charts = await google.colab.kernel.invokeFunction(\n",
              "            'suggestCharts', [key], {});\n",
              "      } catch (error) {\n",
              "        console.error('Error during call to suggestCharts:', error);\n",
              "      }\n",
              "      quickchartButtonEl.classList.remove('colab-df-spinner');\n",
              "      quickchartButtonEl.classList.add('colab-df-quickchart-complete');\n",
              "    }\n",
              "    (() => {\n",
              "      let quickchartButtonEl =\n",
              "        document.querySelector('#df-725d80a6-c43f-4a05-9ff6-f9426edefdc5 button');\n",
              "      quickchartButtonEl.style.display =\n",
              "        google.colab.kernel.accessAllowed ? 'block' : 'none';\n",
              "    })();\n",
              "  </script>\n",
              "</div>\n",
              "    </div>\n",
              "  </div>\n"
            ]
          },
          "metadata": {},
          "execution_count": 4
        }
      ],
      "source": [
        "import pandas as pd\n",
        "data = pd.read_csv(\"comments.tsv\", sep='\\t')\n",
        "\n",
        "texts = data['comment_text'].values\n",
        "target = data['should_ban'].values\n",
        "data[50::200]"
      ]
    },
    {
      "cell_type": "code",
      "source": [
        "len(data)"
      ],
      "metadata": {
        "colab": {
          "base_uri": "https://localhost:8080/"
        },
        "id": "J9IksFUWGv7t",
        "outputId": "a3c0d6d3-ef14-4a1a-f4d2-3ae27b711e3c"
      },
      "execution_count": 5,
      "outputs": [
        {
          "output_type": "execute_result",
          "data": {
            "text/plain": [
              "1000"
            ]
          },
          "metadata": {},
          "execution_count": 5
        }
      ]
    },
    {
      "cell_type": "code",
      "execution_count": 6,
      "metadata": {
        "id": "2v1hFfAi0Zdx"
      },
      "outputs": [],
      "source": [
        "from sklearn.model_selection import train_test_split\n",
        "texts_train, texts_test, y_train, y_test = train_test_split(texts, target, test_size=0.5, random_state=42)"
      ]
    },
    {
      "cell_type": "markdown",
      "metadata": {
        "id": "9_0n23aN0Zdx"
      },
      "source": [
        "__Note:__ it is generally a good idea to split data into train/test before anything is done to them.\n",
        "\n",
        "It guards you against possible data leakage in the preprocessing stage. For example, should you decide to select words present in obscene tweets as features, you should only count those words over the training set. Otherwise your algoritm can cheat evaluation."
      ]
    },
    {
      "cell_type": "markdown",
      "metadata": {
        "id": "rG8fdp8e0Zdy"
      },
      "source": [
        "### Preprocessing and tokenization\n",
        "\n",
        "Comments contain raw text with punctuation, upper/lowercase letters and even newline symbols.\n",
        "\n",
        "To simplify all further steps, we'll split text into space-separated tokens using one of nltk tokenizers."
      ]
    },
    {
      "cell_type": "code",
      "execution_count": 7,
      "metadata": {
        "id": "hjL8EXAT0Zdy",
        "colab": {
          "base_uri": "https://localhost:8080/"
        },
        "outputId": "41b38dba-e1e6-49bc-fcdc-364347697026"
      },
      "outputs": [
        {
          "output_type": "stream",
          "name": "stdout",
          "text": [
            "before: How to be a grown-up at work: replace \"fuck you\" with \"Ok, great!\".\n",
            "after: how to be a grown-up at work : replace \" fuck you \" with \" ok , great ! \" .\n"
          ]
        }
      ],
      "source": [
        "from nltk.tokenize import TweetTokenizer\n",
        "tokenizer = TweetTokenizer()\n",
        "preprocess = lambda text: ' '.join(tokenizer.tokenize(text.lower()))\n",
        "\n",
        "text = 'How to be a grown-up at work: replace \"fuck you\" with \"Ok, great!\".'\n",
        "print(\"before:\", text,)\n",
        "print(\"after:\", preprocess(text),)"
      ]
    },
    {
      "cell_type": "code",
      "execution_count": 8,
      "metadata": {
        "id": "U3W_jhDA0Zdz"
      },
      "outputs": [],
      "source": [
        "#preprocess each comment in train and test\n",
        "\n",
        "texts_train = [preprocess(x) for x in texts_train]\n",
        "texts_test = [preprocess(x) for x in texts_test]"
      ]
    },
    {
      "cell_type": "code",
      "execution_count": 9,
      "metadata": {
        "id": "Rql6aFfL0Zd0"
      },
      "outputs": [],
      "source": [
        "assert texts_train[5] ==  'who cares anymore . they attack with impunity .'\n",
        "assert texts_test[89] == 'hey todds ! quick q ? why are you so gay'\n",
        "assert len(texts_test) == len(y_test)"
      ]
    },
    {
      "cell_type": "code",
      "source": [
        "len(texts_test)"
      ],
      "metadata": {
        "colab": {
          "base_uri": "https://localhost:8080/"
        },
        "id": "uGzfZWZuGd1v",
        "outputId": "b2a1ee0f-c7a1-4f5f-d85a-bc79a3731144"
      },
      "execution_count": 10,
      "outputs": [
        {
          "output_type": "execute_result",
          "data": {
            "text/plain": [
              "500"
            ]
          },
          "metadata": {},
          "execution_count": 10
        }
      ]
    },
    {
      "cell_type": "code",
      "source": [
        "texts_train[5].split()"
      ],
      "metadata": {
        "colab": {
          "base_uri": "https://localhost:8080/"
        },
        "id": "-bAnN--9HKsw",
        "outputId": "6a6d4ee0-3c1e-4b96-b5dd-088bee92a464"
      },
      "execution_count": 11,
      "outputs": [
        {
          "output_type": "execute_result",
          "data": {
            "text/plain": [
              "['who', 'cares', 'anymore', '.', 'they', 'attack', 'with', 'impunity', '.']"
            ]
          },
          "metadata": {},
          "execution_count": 11
        }
      ]
    },
    {
      "cell_type": "markdown",
      "metadata": {
        "id": "XuSIqe9A0Zd0"
      },
      "source": [
        "### Solving it: bag of words\n",
        "\n",
        "![img](http://www.novuslight.com/uploads/n/BagofWords.jpg)\n",
        "\n",
        "One traditional approach to such problem is to use bag of words features:\n",
        "1. build a vocabulary of frequent words (use train data only)\n",
        "2. for each training sample, count the number of times a word occurs in it (for each word in vocabulary).\n",
        "3. consider this count a feature for some classifier\n",
        "\n",
        "__Note:__ in practice, you can compute such features using sklearn. Please don't do that in the current assignment, though.\n",
        "* `from sklearn.feature_extraction.text import CountVectorizer, TfidfVectorizer`"
      ]
    },
    {
      "cell_type": "code",
      "execution_count": 12,
      "metadata": {
        "id": "lZkEZenn0Zd1",
        "colab": {
          "base_uri": "https://localhost:8080/"
        },
        "outputId": "e655cde2-3213-4a88-95b1-658a75b297e4"
      },
      "outputs": [
        {
          "output_type": "stream",
          "name": "stdout",
          "text": [
            "example features: [('!', 703), ('09:59', 1), ('19,000', 1), ('35', 2), ('94.8', 2), ('accuse', 2), ('affecting', 1), ('allows', 1), ('anywhere', 1), ('arseface', 1), ('automatically', 6), ('beauties', 1), ('bit', 14), ('brainsick', 1), ('bypassing', 1), ('censor', 1), ('chopra', 1), ('coincidence', 1), ('condoms', 1), ('control', 7), ('credited', 1), ('dated', 1), ('demonstrate', 2), (\"didn't\", 10), ('disruptor', 1), ('duplicate', 1), ('elelctric', 1), ('erase', 1), ('expand', 1), ('fascism', 1), ('fire', 3), ('forth', 1), ('galloway', 3), ('golden', 1), ('h', 4), ('heart', 1), ('hoax.cierekim', 1), (\"i'd\", 7), ('inactive', 1), ('instruments', 1), (\"israel's\", 1), ('justification', 4), ('lamina', 1), ('lexemes', 1), ('logic', 6), ('management', 1), ('meets', 2), ('mistaken', 1), ('msnbc.com', 1), ('nerd', 1), ('nothing', 16), ('oh', 17), ('ov', 1), ('pending', 2), ('pimping', 2), ('position', 7), ('probably', 8), ('psp', 1), ('randi', 1), ('ref', 1), ('repeatedly', 2), ('revaling', 1), ('ruin', 1), ('scored', 1), ('sexually', 2), ('silk', 1), ('snot', 1), ('speedy', 6), ('stockings', 2), ('sucker', 1), ('systemic', 1), ('term', 4), ('thousand', 1), ('totd', 1), ('tv', 1), ('unjustified', 1), ('vandal-fighting', 1), ('waddle', 1), ('western', 6), ('wishes', 2), ('yank', 1), ('சேர்க்க', 1)]\n"
          ]
        }
      ],
      "source": [
        "# task: find up to k most frequent tokens in texts_train,\n",
        "# sort them by number of occurences (highest first)\n",
        "k = 5500\n",
        "from collections import Counter\n",
        "\n",
        "cnt = Counter()\n",
        "for i in texts_train:\n",
        "  cnt.update(i.split(' '))\n",
        "\n",
        "\n",
        "bow_vocabulary = sorted(dict(cnt).items(), key=lambda x:x[1])[::-1]\n",
        "print('example features:', sorted(bow_vocabulary)[::70])\n",
        "bow_vocabulary = [x[0] for x in bow_vocabulary][:k]\n",
        "bow_vocabulary = ['UNK', 'PAD'] + bow_vocabulary"
      ]
    },
    {
      "cell_type": "code",
      "source": [
        "'bitches' in bow_vocabulary"
      ],
      "metadata": {
        "colab": {
          "base_uri": "https://localhost:8080/"
        },
        "id": "ldc18qHtFrZG",
        "outputId": "b9615e54-f332-473f-a382-9f3aa9c7b3bd"
      },
      "execution_count": 13,
      "outputs": [
        {
          "output_type": "execute_result",
          "data": {
            "text/plain": [
              "True"
            ]
          },
          "metadata": {},
          "execution_count": 13
        }
      ]
    },
    {
      "cell_type": "code",
      "source": [
        "len(bow_vocabulary)"
      ],
      "metadata": {
        "colab": {
          "base_uri": "https://localhost:8080/"
        },
        "id": "bnPA_equQS3-",
        "outputId": "8753f9da-10b8-47dd-cce6-e9a99b42f1bf"
      },
      "execution_count": 14,
      "outputs": [
        {
          "output_type": "execute_result",
          "data": {
            "text/plain": [
              "5502"
            ]
          },
          "metadata": {},
          "execution_count": 14
        }
      ]
    },
    {
      "cell_type": "code",
      "source": [
        "bow_vocabulary[::1500]"
      ],
      "metadata": {
        "colab": {
          "base_uri": "https://localhost:8080/"
        },
        "id": "77QdVOFNYML6",
        "outputId": "663d0a70-749c-4682-9575-ce534d723860"
      },
      "execution_count": 15,
      "outputs": [
        {
          "output_type": "execute_result",
          "data": {
            "text/plain": [
              "['UNK', 'ownership', 'foul', 'belt']"
            ]
          },
          "metadata": {},
          "execution_count": 15
        }
      ]
    },
    {
      "cell_type": "code",
      "execution_count": 16,
      "metadata": {
        "id": "ujz4iyru0Zd2"
      },
      "outputs": [],
      "source": [
        "def text_to_bow(text):\n",
        "    \"\"\" convert text string to an array of token counts. Use bow_vocabulary. \"\"\"\n",
        "    bow = [0]* len(bow_vocabulary)\n",
        "    for i in text.split():\n",
        "      if i in bow_vocabulary:\n",
        "        bow[bow_vocabulary.index(i)] += 1\n",
        "      else:\n",
        "        bow[0] += 1\n",
        "\n",
        "    return np.array(bow, 'float32')"
      ]
    },
    {
      "cell_type": "code",
      "source": [
        "print(str(len(texts_train[5].split())) + \" \" + str(len(text_to_bow(texts_train[5]))))"
      ],
      "metadata": {
        "colab": {
          "base_uri": "https://localhost:8080/"
        },
        "id": "mwGamJwIMVdE",
        "outputId": "b2d257df-1906-4764-94e8-c5cb327db828"
      },
      "execution_count": 17,
      "outputs": [
        {
          "output_type": "stream",
          "name": "stdout",
          "text": [
            "9 5502\n"
          ]
        }
      ]
    },
    {
      "cell_type": "code",
      "source": [
        "texts_train[5]"
      ],
      "metadata": {
        "colab": {
          "base_uri": "https://localhost:8080/",
          "height": 36
        },
        "id": "VZuzO7LqMvtK",
        "outputId": "c047bfa8-4ea5-478f-ec40-7f8b67673536"
      },
      "execution_count": 18,
      "outputs": [
        {
          "output_type": "execute_result",
          "data": {
            "text/plain": [
              "'who cares anymore . they attack with impunity .'"
            ],
            "application/vnd.google.colaboratory.intrinsic+json": {
              "type": "string"
            }
          },
          "metadata": {},
          "execution_count": 18
        }
      ]
    },
    {
      "cell_type": "code",
      "source": [
        "text_to_bow(texts_train[5])"
      ],
      "metadata": {
        "colab": {
          "base_uri": "https://localhost:8080/"
        },
        "id": "_SsAVfQBMJiX",
        "outputId": "b1bac0c5-3161-450c-ef71-2f30370a9fb4"
      },
      "execution_count": 19,
      "outputs": [
        {
          "output_type": "execute_result",
          "data": {
            "text/plain": [
              "array([2., 0., 2., ..., 0., 0., 0.], dtype=float32)"
            ]
          },
          "metadata": {},
          "execution_count": 19
        }
      ]
    },
    {
      "cell_type": "code",
      "source": [
        "list(map(text_to_bow, texts_train))"
      ],
      "metadata": {
        "colab": {
          "base_uri": "https://localhost:8080/"
        },
        "id": "VjCytg_FQrgS",
        "outputId": "2e3efbbe-8522-42d4-b423-ed1375c58371"
      },
      "execution_count": 20,
      "outputs": [
        {
          "output_type": "execute_result",
          "data": {
            "text/plain": [
              "[array([2., 0., 0., ..., 0., 0., 0.], dtype=float32),\n",
              " array([14.,  0.,  9., ...,  0.,  0.,  0.], dtype=float32),\n",
              " array([2., 0., 1., ..., 0., 0., 0.], dtype=float32),\n",
              " array([4., 0., 5., ..., 0., 0., 0.], dtype=float32),\n",
              " array([2., 0., 0., ..., 0., 0., 0.], dtype=float32),\n",
              " array([2., 0., 2., ..., 0., 0., 0.], dtype=float32),\n",
              " array([16.,  0., 14., ...,  0.,  0.,  0.], dtype=float32),\n",
              " array([0., 0., 1., ..., 0., 0., 0.], dtype=float32),\n",
              " array([3., 0., 3., ..., 0., 0., 0.], dtype=float32),\n",
              " array([3., 0., 3., ..., 0., 0., 0.], dtype=float32),\n",
              " array([0., 0., 0., ..., 0., 0., 0.], dtype=float32),\n",
              " array([4., 0., 1., ..., 0., 0., 0.], dtype=float32),\n",
              " array([2., 0., 0., ..., 0., 0., 0.], dtype=float32),\n",
              " array([5., 0., 4., ..., 0., 0., 0.], dtype=float32),\n",
              " array([1., 0., 0., ..., 0., 0., 0.], dtype=float32),\n",
              " array([17.,  0.,  8., ...,  0.,  0.,  0.], dtype=float32),\n",
              " array([10.,  0.,  4., ...,  0.,  0.,  0.], dtype=float32),\n",
              " array([0., 0., 0., ..., 0., 0., 0.], dtype=float32),\n",
              " array([4., 0., 1., ..., 0., 0., 0.], dtype=float32),\n",
              " array([6., 0., 5., ..., 0., 0., 0.], dtype=float32),\n",
              " array([4., 0., 0., ..., 0., 0., 0.], dtype=float32),\n",
              " array([2., 0., 1., ..., 0., 0., 0.], dtype=float32),\n",
              " array([12.,  0.,  6., ...,  0.,  0.,  0.], dtype=float32),\n",
              " array([4., 0., 1., ..., 0., 0., 0.], dtype=float32),\n",
              " array([2., 0., 2., ..., 0., 0., 0.], dtype=float32),\n",
              " array([1., 0., 1., ..., 0., 0., 0.], dtype=float32),\n",
              " array([6., 0., 5., ..., 0., 0., 0.], dtype=float32),\n",
              " array([0., 0., 0., ..., 0., 0., 0.], dtype=float32),\n",
              " array([0., 0., 1., ..., 0., 0., 0.], dtype=float32),\n",
              " array([6., 0., 5., ..., 0., 0., 0.], dtype=float32),\n",
              " array([3., 0., 2., ..., 0., 0., 0.], dtype=float32),\n",
              " array([1., 0., 0., ..., 0., 0., 0.], dtype=float32),\n",
              " array([3., 0., 0., ..., 0., 0., 0.], dtype=float32),\n",
              " array([3., 0., 0., ..., 0., 0., 0.], dtype=float32),\n",
              " array([12.,  0.,  0., ...,  0.,  0.,  0.], dtype=float32),\n",
              " array([18.,  0.,  7., ...,  0.,  0.,  0.], dtype=float32),\n",
              " array([6., 0., 5., ..., 0., 0., 0.], dtype=float32),\n",
              " array([4., 0., 0., ..., 0., 0., 0.], dtype=float32),\n",
              " array([4., 0., 0., ..., 0., 0., 0.], dtype=float32),\n",
              " array([3., 0., 1., ..., 0., 0., 0.], dtype=float32),\n",
              " array([0., 0., 0., ..., 0., 0., 0.], dtype=float32),\n",
              " array([9., 0., 2., ..., 0., 0., 0.], dtype=float32),\n",
              " array([9., 0., 3., ..., 0., 0., 0.], dtype=float32),\n",
              " array([ 0.,  0., 10., ...,  1.,  1.,  1.], dtype=float32),\n",
              " array([0., 0., 0., ..., 0., 0., 0.], dtype=float32),\n",
              " array([0., 0., 5., ..., 0., 0., 0.], dtype=float32),\n",
              " array([0., 0., 7., ..., 0., 0., 0.], dtype=float32),\n",
              " array([0., 0., 0., ..., 0., 0., 0.], dtype=float32),\n",
              " array([0., 0., 2., ..., 0., 0., 0.], dtype=float32),\n",
              " array([0., 0., 1., ..., 0., 0., 0.], dtype=float32),\n",
              " array([0., 0., 4., ..., 0., 0., 0.], dtype=float32),\n",
              " array([0., 0., 2., ..., 0., 0., 0.], dtype=float32),\n",
              " array([0., 0., 3., ..., 0., 0., 0.], dtype=float32),\n",
              " array([0., 0., 2., ..., 0., 0., 0.], dtype=float32),\n",
              " array([0., 0., 0., ..., 0., 0., 0.], dtype=float32),\n",
              " array([0., 0., 2., ..., 0., 0., 0.], dtype=float32),\n",
              " array([0., 0., 1., ..., 0., 0., 0.], dtype=float32),\n",
              " array([0., 0., 3., ..., 0., 0., 0.], dtype=float32),\n",
              " array([0., 0., 0., ..., 0., 0., 0.], dtype=float32),\n",
              " array([0., 0., 3., ..., 0., 0., 0.], dtype=float32),\n",
              " array([0., 0., 4., ..., 0., 0., 0.], dtype=float32),\n",
              " array([0., 0., 2., ..., 0., 0., 0.], dtype=float32),\n",
              " array([0., 0., 5., ..., 0., 0., 0.], dtype=float32),\n",
              " array([0., 0., 0., ..., 0., 0., 0.], dtype=float32),\n",
              " array([0., 0., 1., ..., 0., 0., 0.], dtype=float32),\n",
              " array([0., 0., 2., ..., 0., 0., 0.], dtype=float32),\n",
              " array([0., 0., 3., ..., 0., 0., 0.], dtype=float32),\n",
              " array([0., 0., 6., ..., 0., 0., 0.], dtype=float32),\n",
              " array([0., 0., 3., ..., 0., 0., 0.], dtype=float32),\n",
              " array([0., 0., 0., ..., 0., 0., 0.], dtype=float32),\n",
              " array([0., 0., 3., ..., 0., 0., 0.], dtype=float32),\n",
              " array([0., 0., 1., ..., 0., 0., 0.], dtype=float32),\n",
              " array([0., 0., 1., ..., 0., 0., 0.], dtype=float32),\n",
              " array([0., 0., 7., ..., 0., 0., 0.], dtype=float32),\n",
              " array([ 0.,  0., 12., ...,  0.,  0.,  0.], dtype=float32),\n",
              " array([0., 0., 7., ..., 0., 0., 0.], dtype=float32),\n",
              " array([0., 0., 0., ..., 0., 0., 0.], dtype=float32),\n",
              " array([0., 0., 5., ..., 0., 0., 0.], dtype=float32),\n",
              " array([0., 0., 1., ..., 0., 0., 0.], dtype=float32),\n",
              " array([0., 0., 1., ..., 0., 0., 0.], dtype=float32),\n",
              " array([0., 0., 3., ..., 0., 0., 0.], dtype=float32),\n",
              " array([0., 0., 2., ..., 0., 0., 0.], dtype=float32),\n",
              " array([0., 0., 5., ..., 0., 0., 0.], dtype=float32),\n",
              " array([0., 0., 0., ..., 0., 0., 0.], dtype=float32),\n",
              " array([0., 0., 1., ..., 0., 0., 0.], dtype=float32),\n",
              " array([0., 0., 0., ..., 0., 0., 0.], dtype=float32),\n",
              " array([0., 0., 3., ..., 0., 0., 0.], dtype=float32),\n",
              " array([0., 0., 0., ..., 0., 0., 0.], dtype=float32),\n",
              " array([0., 0., 2., ..., 0., 0., 0.], dtype=float32),\n",
              " array([ 0.,  0., 13., ...,  0.,  0.,  0.], dtype=float32),\n",
              " array([0., 0., 1., ..., 0., 0., 0.], dtype=float32),\n",
              " array([0., 0., 4., ..., 0., 0., 0.], dtype=float32),\n",
              " array([0., 0., 1., ..., 0., 0., 0.], dtype=float32),\n",
              " array([0., 0., 5., ..., 0., 0., 0.], dtype=float32),\n",
              " array([0., 0., 0., ..., 0., 0., 0.], dtype=float32),\n",
              " array([0., 0., 0., ..., 0., 0., 0.], dtype=float32),\n",
              " array([0., 0., 2., ..., 0., 0., 0.], dtype=float32),\n",
              " array([0., 0., 5., ..., 0., 0., 0.], dtype=float32),\n",
              " array([0., 0., 0., ..., 0., 0., 0.], dtype=float32),\n",
              " array([0., 0., 2., ..., 0., 0., 0.], dtype=float32),\n",
              " array([0., 0., 5., ..., 0., 0., 0.], dtype=float32),\n",
              " array([0., 0., 5., ..., 0., 0., 0.], dtype=float32),\n",
              " array([0., 0., 1., ..., 0., 0., 0.], dtype=float32),\n",
              " array([0., 0., 2., ..., 0., 0., 0.], dtype=float32),\n",
              " array([0., 0., 5., ..., 0., 0., 0.], dtype=float32),\n",
              " array([0., 0., 6., ..., 0., 0., 0.], dtype=float32),\n",
              " array([0., 0., 0., ..., 0., 0., 0.], dtype=float32),\n",
              " array([0., 0., 0., ..., 0., 0., 0.], dtype=float32),\n",
              " array([0., 0., 5., ..., 0., 0., 0.], dtype=float32),\n",
              " array([0., 0., 5., ..., 0., 0., 0.], dtype=float32),\n",
              " array([0., 0., 3., ..., 0., 0., 0.], dtype=float32),\n",
              " array([0., 0., 2., ..., 0., 0., 0.], dtype=float32),\n",
              " array([0., 0., 0., ..., 0., 0., 0.], dtype=float32),\n",
              " array([0., 0., 0., ..., 0., 0., 0.], dtype=float32),\n",
              " array([0., 0., 2., ..., 0., 0., 0.], dtype=float32),\n",
              " array([0., 0., 3., ..., 0., 0., 0.], dtype=float32),\n",
              " array([0., 0., 1., ..., 0., 0., 0.], dtype=float32),\n",
              " array([0., 0., 2., ..., 0., 0., 0.], dtype=float32),\n",
              " array([0., 0., 1., ..., 0., 0., 0.], dtype=float32),\n",
              " array([0., 0., 0., ..., 0., 0., 0.], dtype=float32),\n",
              " array([0., 0., 4., ..., 0., 0., 0.], dtype=float32),\n",
              " array([0., 0., 1., ..., 0., 0., 0.], dtype=float32),\n",
              " array([0., 0., 6., ..., 0., 0., 0.], dtype=float32),\n",
              " array([0., 0., 5., ..., 0., 0., 0.], dtype=float32),\n",
              " array([0., 0., 0., ..., 0., 0., 0.], dtype=float32),\n",
              " array([0., 0., 0., ..., 0., 0., 0.], dtype=float32),\n",
              " array([0., 0., 0., ..., 0., 0., 0.], dtype=float32),\n",
              " array([0., 0., 4., ..., 0., 0., 0.], dtype=float32),\n",
              " array([0., 0., 1., ..., 0., 0., 0.], dtype=float32),\n",
              " array([0., 0., 0., ..., 0., 0., 0.], dtype=float32),\n",
              " array([0., 0., 2., ..., 0., 0., 0.], dtype=float32),\n",
              " array([0., 0., 8., ..., 0., 0., 0.], dtype=float32),\n",
              " array([0., 0., 0., ..., 0., 0., 0.], dtype=float32),\n",
              " array([0., 0., 2., ..., 0., 0., 0.], dtype=float32),\n",
              " array([0., 0., 0., ..., 0., 0., 0.], dtype=float32),\n",
              " array([ 0.,  0., 45., ...,  0.,  0.,  0.], dtype=float32),\n",
              " array([0., 0., 5., ..., 0., 0., 0.], dtype=float32),\n",
              " array([0., 0., 1., ..., 0., 0., 0.], dtype=float32),\n",
              " array([0., 0., 1., ..., 0., 0., 0.], dtype=float32),\n",
              " array([0., 0., 4., ..., 0., 0., 0.], dtype=float32),\n",
              " array([0., 0., 0., ..., 0., 0., 0.], dtype=float32),\n",
              " array([0., 0., 0., ..., 0., 0., 0.], dtype=float32),\n",
              " array([0., 0., 0., ..., 0., 0., 0.], dtype=float32),\n",
              " array([0., 0., 0., ..., 0., 0., 0.], dtype=float32),\n",
              " array([0., 0., 1., ..., 0., 0., 0.], dtype=float32),\n",
              " array([0., 0., 1., ..., 0., 0., 0.], dtype=float32),\n",
              " array([0., 0., 3., ..., 0., 0., 0.], dtype=float32),\n",
              " array([0., 0., 2., ..., 0., 0., 0.], dtype=float32),\n",
              " array([0., 0., 0., ..., 0., 0., 0.], dtype=float32),\n",
              " array([0., 0., 0., ..., 0., 0., 0.], dtype=float32),\n",
              " array([0., 0., 0., ..., 0., 0., 0.], dtype=float32),\n",
              " array([0., 0., 3., ..., 0., 0., 0.], dtype=float32),\n",
              " array([0., 0., 2., ..., 0., 0., 0.], dtype=float32),\n",
              " array([0., 0., 1., ..., 0., 0., 0.], dtype=float32),\n",
              " array([0., 0., 1., ..., 0., 0., 0.], dtype=float32),\n",
              " array([0., 0., 9., ..., 0., 0., 0.], dtype=float32),\n",
              " array([0., 0., 4., ..., 0., 0., 0.], dtype=float32),\n",
              " array([0., 0., 0., ..., 0., 0., 0.], dtype=float32),\n",
              " array([0., 0., 4., ..., 0., 0., 0.], dtype=float32),\n",
              " array([0., 0., 5., ..., 0., 0., 0.], dtype=float32),\n",
              " array([0., 0., 4., ..., 0., 0., 0.], dtype=float32),\n",
              " array([0., 0., 1., ..., 0., 0., 0.], dtype=float32),\n",
              " array([0., 0., 3., ..., 0., 0., 0.], dtype=float32),\n",
              " array([0., 0., 1., ..., 0., 0., 0.], dtype=float32),\n",
              " array([0., 0., 1., ..., 0., 0., 0.], dtype=float32),\n",
              " array([0., 0., 1., ..., 0., 0., 0.], dtype=float32),\n",
              " array([0., 0., 3., ..., 0., 0., 0.], dtype=float32),\n",
              " array([0., 0., 1., ..., 0., 0., 0.], dtype=float32),\n",
              " array([0., 0., 2., ..., 0., 0., 0.], dtype=float32),\n",
              " array([0., 0., 1., ..., 0., 0., 0.], dtype=float32),\n",
              " array([0., 0., 0., ..., 0., 0., 0.], dtype=float32),\n",
              " array([0., 0., 1., ..., 0., 0., 0.], dtype=float32),\n",
              " array([0., 0., 2., ..., 0., 0., 0.], dtype=float32),\n",
              " array([0., 0., 1., ..., 0., 0., 0.], dtype=float32),\n",
              " array([0., 0., 1., ..., 0., 0., 0.], dtype=float32),\n",
              " array([0., 0., 1., ..., 0., 0., 0.], dtype=float32),\n",
              " array([0., 0., 9., ..., 0., 0., 0.], dtype=float32),\n",
              " array([0., 0., 2., ..., 0., 0., 0.], dtype=float32),\n",
              " array([0., 0., 4., ..., 0., 0., 0.], dtype=float32),\n",
              " array([0., 0., 0., ..., 0., 0., 0.], dtype=float32),\n",
              " array([0., 0., 0., ..., 0., 0., 0.], dtype=float32),\n",
              " array([0., 0., 2., ..., 0., 0., 0.], dtype=float32),\n",
              " array([0., 0., 3., ..., 0., 0., 0.], dtype=float32),\n",
              " array([0., 0., 1., ..., 0., 0., 0.], dtype=float32),\n",
              " array([ 0.,  0., 12., ...,  0.,  0.,  0.], dtype=float32),\n",
              " array([0., 0., 3., ..., 0., 0., 0.], dtype=float32),\n",
              " array([0., 0., 5., ..., 0., 0., 0.], dtype=float32),\n",
              " array([0., 0., 0., ..., 0., 0., 0.], dtype=float32),\n",
              " array([0., 0., 4., ..., 0., 0., 0.], dtype=float32),\n",
              " array([0., 0., 1., ..., 0., 0., 0.], dtype=float32),\n",
              " array([0., 0., 5., ..., 0., 0., 0.], dtype=float32),\n",
              " array([0., 0., 0., ..., 0., 0., 0.], dtype=float32),\n",
              " array([0., 0., 9., ..., 0., 0., 0.], dtype=float32),\n",
              " array([ 0.,  0., 30., ...,  0.,  0.,  0.], dtype=float32),\n",
              " array([0., 0., 3., ..., 0., 0., 0.], dtype=float32),\n",
              " array([0., 0., 4., ..., 0., 0., 0.], dtype=float32),\n",
              " array([0., 0., 2., ..., 0., 0., 0.], dtype=float32),\n",
              " array([0., 0., 4., ..., 0., 0., 0.], dtype=float32),\n",
              " array([0., 0., 0., ..., 0., 0., 0.], dtype=float32),\n",
              " array([0., 0., 0., ..., 0., 0., 0.], dtype=float32),\n",
              " array([0., 0., 0., ..., 0., 0., 0.], dtype=float32),\n",
              " array([0., 0., 3., ..., 0., 0., 0.], dtype=float32),\n",
              " array([0., 0., 0., ..., 0., 0., 0.], dtype=float32),\n",
              " array([0., 0., 1., ..., 0., 0., 0.], dtype=float32),\n",
              " array([0., 0., 2., ..., 0., 0., 0.], dtype=float32),\n",
              " array([0., 0., 0., ..., 0., 0., 0.], dtype=float32),\n",
              " array([0., 0., 8., ..., 0., 0., 0.], dtype=float32),\n",
              " array([0., 0., 5., ..., 0., 0., 0.], dtype=float32),\n",
              " array([0., 0., 0., ..., 0., 0., 0.], dtype=float32),\n",
              " array([0., 0., 2., ..., 0., 0., 0.], dtype=float32),\n",
              " array([0., 0., 1., ..., 0., 0., 0.], dtype=float32),\n",
              " array([0., 0., 0., ..., 0., 0., 0.], dtype=float32),\n",
              " array([0., 0., 1., ..., 0., 0., 0.], dtype=float32),\n",
              " array([0., 0., 0., ..., 0., 0., 0.], dtype=float32),\n",
              " array([0., 0., 1., ..., 0., 0., 0.], dtype=float32),\n",
              " array([0., 0., 0., ..., 0., 0., 0.], dtype=float32),\n",
              " array([0., 0., 0., ..., 0., 0., 0.], dtype=float32),\n",
              " array([0., 0., 2., ..., 0., 0., 0.], dtype=float32),\n",
              " array([ 0.,  0., 18., ...,  0.,  0.,  0.], dtype=float32),\n",
              " array([ 0.,  0., 10., ...,  0.,  0.,  0.], dtype=float32),\n",
              " array([0., 0., 1., ..., 0., 0., 0.], dtype=float32),\n",
              " array([0., 0., 0., ..., 0., 0., 0.], dtype=float32),\n",
              " array([0., 0., 4., ..., 0., 0., 0.], dtype=float32),\n",
              " array([ 0.,  0., 36., ...,  0.,  0.,  0.], dtype=float32),\n",
              " array([0., 0., 4., ..., 0., 0., 0.], dtype=float32),\n",
              " array([0., 0., 0., ..., 0., 0., 0.], dtype=float32),\n",
              " array([0., 0., 2., ..., 0., 0., 0.], dtype=float32),\n",
              " array([0., 0., 1., ..., 0., 0., 0.], dtype=float32),\n",
              " array([0., 0., 0., ..., 0., 0., 0.], dtype=float32),\n",
              " array([0., 0., 1., ..., 0., 0., 0.], dtype=float32),\n",
              " array([ 0.,  0., 24., ...,  0.,  0.,  0.], dtype=float32),\n",
              " array([0., 0., 3., ..., 0., 0., 0.], dtype=float32),\n",
              " array([0., 0., 2., ..., 0., 0., 0.], dtype=float32),\n",
              " array([0., 0., 1., ..., 0., 0., 0.], dtype=float32),\n",
              " array([0., 0., 0., ..., 0., 0., 0.], dtype=float32),\n",
              " array([0., 0., 1., ..., 0., 0., 0.], dtype=float32),\n",
              " array([0., 0., 3., ..., 0., 0., 0.], dtype=float32),\n",
              " array([0., 0., 3., ..., 0., 0., 0.], dtype=float32),\n",
              " array([0., 0., 6., ..., 0., 0., 0.], dtype=float32),\n",
              " array([0., 0., 4., ..., 0., 0., 0.], dtype=float32),\n",
              " array([0., 0., 2., ..., 0., 0., 0.], dtype=float32),\n",
              " array([0., 0., 0., ..., 0., 0., 0.], dtype=float32),\n",
              " array([0., 0., 0., ..., 0., 0., 0.], dtype=float32),\n",
              " array([0., 0., 1., ..., 0., 0., 0.], dtype=float32),\n",
              " array([0., 0., 0., ..., 0., 0., 0.], dtype=float32),\n",
              " array([0., 0., 0., ..., 0., 0., 0.], dtype=float32),\n",
              " array([0., 0., 3., ..., 0., 0., 0.], dtype=float32),\n",
              " array([0., 0., 1., ..., 0., 0., 0.], dtype=float32),\n",
              " array([0., 0., 2., ..., 0., 0., 0.], dtype=float32),\n",
              " array([0., 0., 0., ..., 0., 0., 0.], dtype=float32),\n",
              " array([0., 0., 1., ..., 0., 0., 0.], dtype=float32),\n",
              " array([0., 0., 2., ..., 0., 0., 0.], dtype=float32),\n",
              " array([0., 0., 0., ..., 0., 0., 0.], dtype=float32),\n",
              " array([0., 0., 8., ..., 0., 0., 0.], dtype=float32),\n",
              " array([ 0.,  0., 12., ...,  0.,  0.,  0.], dtype=float32),\n",
              " array([0., 0., 4., ..., 0., 0., 0.], dtype=float32),\n",
              " array([0., 0., 4., ..., 0., 0., 0.], dtype=float32),\n",
              " array([0., 0., 1., ..., 0., 0., 0.], dtype=float32),\n",
              " array([0., 0., 6., ..., 0., 0., 0.], dtype=float32),\n",
              " array([0., 0., 3., ..., 0., 0., 0.], dtype=float32),\n",
              " array([0., 0., 0., ..., 0., 0., 0.], dtype=float32),\n",
              " array([0., 0., 1., ..., 0., 0., 0.], dtype=float32),\n",
              " array([0., 0., 2., ..., 0., 0., 0.], dtype=float32),\n",
              " array([0., 0., 3., ..., 0., 0., 0.], dtype=float32),\n",
              " array([0., 0., 0., ..., 0., 0., 0.], dtype=float32),\n",
              " array([0., 0., 0., ..., 0., 0., 0.], dtype=float32),\n",
              " array([0., 0., 5., ..., 0., 0., 0.], dtype=float32),\n",
              " array([0., 0., 2., ..., 0., 0., 0.], dtype=float32),\n",
              " array([0., 0., 2., ..., 0., 0., 0.], dtype=float32),\n",
              " array([0., 0., 2., ..., 0., 0., 0.], dtype=float32),\n",
              " array([0., 0., 0., ..., 0., 0., 0.], dtype=float32),\n",
              " array([0., 0., 3., ..., 0., 0., 0.], dtype=float32),\n",
              " array([0., 0., 4., ..., 0., 0., 0.], dtype=float32),\n",
              " array([0., 0., 2., ..., 0., 0., 0.], dtype=float32),\n",
              " array([0., 0., 4., ..., 0., 0., 0.], dtype=float32),\n",
              " array([0., 0., 1., ..., 0., 0., 0.], dtype=float32),\n",
              " array([0., 0., 1., ..., 0., 0., 0.], dtype=float32),\n",
              " array([0., 0., 0., ..., 0., 0., 0.], dtype=float32),\n",
              " array([0., 0., 2., ..., 0., 0., 0.], dtype=float32),\n",
              " array([0., 0., 2., ..., 0., 0., 0.], dtype=float32),\n",
              " array([0., 0., 3., ..., 0., 0., 0.], dtype=float32),\n",
              " array([0., 0., 1., ..., 0., 0., 0.], dtype=float32),\n",
              " array([0., 0., 0., ..., 0., 0., 0.], dtype=float32),\n",
              " array([0., 0., 3., ..., 0., 0., 0.], dtype=float32),\n",
              " array([ 0.,  0., 12., ...,  0.,  0.,  0.], dtype=float32),\n",
              " array([0., 0., 4., ..., 0., 0., 0.], dtype=float32),\n",
              " array([0., 0., 2., ..., 0., 0., 0.], dtype=float32),\n",
              " array([0., 0., 5., ..., 0., 0., 0.], dtype=float32),\n",
              " array([0., 0., 0., ..., 0., 0., 0.], dtype=float32),\n",
              " array([0., 0., 0., ..., 0., 0., 0.], dtype=float32),\n",
              " array([0., 0., 2., ..., 0., 0., 0.], dtype=float32),\n",
              " array([0., 0., 1., ..., 0., 0., 0.], dtype=float32),\n",
              " array([0., 0., 1., ..., 0., 0., 0.], dtype=float32),\n",
              " array([0., 0., 6., ..., 0., 0., 0.], dtype=float32),\n",
              " array([0., 0., 4., ..., 0., 0., 0.], dtype=float32),\n",
              " array([0., 0., 0., ..., 0., 0., 0.], dtype=float32),\n",
              " array([0., 0., 8., ..., 0., 0., 0.], dtype=float32),\n",
              " array([0., 0., 2., ..., 0., 0., 0.], dtype=float32),\n",
              " array([0., 0., 3., ..., 0., 0., 0.], dtype=float32),\n",
              " array([ 0.,  0., 34., ...,  0.,  0.,  0.], dtype=float32),\n",
              " array([0., 0., 1., ..., 0., 0., 0.], dtype=float32),\n",
              " array([0., 0., 3., ..., 0., 0., 0.], dtype=float32),\n",
              " array([0., 0., 2., ..., 0., 0., 0.], dtype=float32),\n",
              " array([0., 0., 2., ..., 0., 0., 0.], dtype=float32),\n",
              " array([0., 0., 0., ..., 0., 0., 0.], dtype=float32),\n",
              " array([0., 0., 0., ..., 0., 0., 0.], dtype=float32),\n",
              " array([0., 0., 1., ..., 0., 0., 0.], dtype=float32),\n",
              " array([0., 0., 5., ..., 0., 0., 0.], dtype=float32),\n",
              " array([0., 0., 2., ..., 0., 0., 0.], dtype=float32),\n",
              " array([0., 0., 2., ..., 0., 0., 0.], dtype=float32),\n",
              " array([0., 0., 3., ..., 0., 0., 0.], dtype=float32),\n",
              " array([0., 0., 1., ..., 0., 0., 0.], dtype=float32),\n",
              " array([0., 0., 0., ..., 0., 0., 0.], dtype=float32),\n",
              " array([0., 0., 0., ..., 0., 0., 0.], dtype=float32),\n",
              " array([0., 0., 2., ..., 0., 0., 0.], dtype=float32),\n",
              " array([0., 0., 3., ..., 0., 0., 0.], dtype=float32),\n",
              " array([0., 0., 2., ..., 0., 0., 0.], dtype=float32),\n",
              " array([0., 0., 2., ..., 0., 0., 0.], dtype=float32),\n",
              " array([0., 0., 1., ..., 0., 0., 0.], dtype=float32),\n",
              " array([0., 0., 1., ..., 0., 0., 0.], dtype=float32),\n",
              " array([0., 0., 5., ..., 0., 0., 0.], dtype=float32),\n",
              " array([0., 0., 6., ..., 0., 0., 0.], dtype=float32),\n",
              " array([0., 0., 4., ..., 0., 0., 0.], dtype=float32),\n",
              " array([0., 0., 3., ..., 0., 0., 0.], dtype=float32),\n",
              " array([0., 0., 5., ..., 0., 0., 0.], dtype=float32),\n",
              " array([0., 0., 1., ..., 0., 0., 0.], dtype=float32),\n",
              " array([0., 0., 9., ..., 0., 0., 0.], dtype=float32),\n",
              " array([0., 0., 1., ..., 0., 0., 0.], dtype=float32),\n",
              " array([0., 0., 0., ..., 0., 0., 0.], dtype=float32),\n",
              " array([0., 0., 1., ..., 0., 0., 0.], dtype=float32),\n",
              " array([0., 0., 0., ..., 0., 0., 0.], dtype=float32),\n",
              " array([0., 0., 1., ..., 0., 0., 0.], dtype=float32),\n",
              " array([0., 0., 3., ..., 0., 0., 0.], dtype=float32),\n",
              " array([0., 0., 3., ..., 0., 0., 0.], dtype=float32),\n",
              " array([0., 0., 1., ..., 0., 0., 0.], dtype=float32),\n",
              " array([0., 0., 1., ..., 0., 0., 0.], dtype=float32),\n",
              " array([0., 0., 5., ..., 0., 0., 0.], dtype=float32),\n",
              " array([0., 0., 2., ..., 0., 0., 0.], dtype=float32),\n",
              " array([0., 0., 1., ..., 0., 0., 0.], dtype=float32),\n",
              " array([0., 0., 3., ..., 0., 0., 0.], dtype=float32),\n",
              " array([0., 0., 5., ..., 0., 0., 0.], dtype=float32),\n",
              " array([0., 0., 3., ..., 0., 0., 0.], dtype=float32),\n",
              " array([0., 0., 5., ..., 0., 0., 0.], dtype=float32),\n",
              " array([0., 0., 1., ..., 0., 0., 0.], dtype=float32),\n",
              " array([0., 0., 4., ..., 0., 0., 0.], dtype=float32),\n",
              " array([0., 0., 2., ..., 0., 0., 0.], dtype=float32),\n",
              " array([0., 0., 4., ..., 0., 0., 0.], dtype=float32),\n",
              " array([0., 0., 1., ..., 0., 0., 0.], dtype=float32),\n",
              " array([0., 0., 6., ..., 0., 0., 0.], dtype=float32),\n",
              " array([0., 0., 3., ..., 0., 0., 0.], dtype=float32),\n",
              " array([0., 0., 2., ..., 0., 0., 0.], dtype=float32),\n",
              " array([0., 0., 5., ..., 0., 0., 0.], dtype=float32),\n",
              " array([0., 0., 2., ..., 0., 0., 0.], dtype=float32),\n",
              " array([0., 0., 3., ..., 0., 0., 0.], dtype=float32),\n",
              " array([0., 0., 1., ..., 0., 0., 0.], dtype=float32),\n",
              " array([0., 0., 2., ..., 0., 0., 0.], dtype=float32),\n",
              " array([0., 0., 4., ..., 0., 0., 0.], dtype=float32),\n",
              " array([0., 0., 0., ..., 0., 0., 0.], dtype=float32),\n",
              " array([ 0.,  0., 16., ...,  0.,  0.,  0.], dtype=float32),\n",
              " array([0., 0., 2., ..., 0., 0., 0.], dtype=float32),\n",
              " array([0., 0., 2., ..., 0., 0., 0.], dtype=float32),\n",
              " array([0., 0., 1., ..., 0., 0., 0.], dtype=float32),\n",
              " array([0., 0., 6., ..., 0., 0., 0.], dtype=float32),\n",
              " array([0., 0., 6., ..., 0., 0., 0.], dtype=float32),\n",
              " array([0., 0., 0., ..., 0., 0., 0.], dtype=float32),\n",
              " array([0., 0., 3., ..., 0., 0., 0.], dtype=float32),\n",
              " array([ 0.,  0., 12., ...,  0.,  0.,  0.], dtype=float32),\n",
              " array([0., 0., 4., ..., 0., 0., 0.], dtype=float32),\n",
              " array([ 0.,  0., 34., ...,  0.,  0.,  0.], dtype=float32),\n",
              " array([0., 0., 1., ..., 0., 0., 0.], dtype=float32),\n",
              " array([0., 0., 1., ..., 0., 0., 0.], dtype=float32),\n",
              " array([0., 0., 5., ..., 0., 0., 0.], dtype=float32),\n",
              " array([0., 0., 2., ..., 0., 0., 0.], dtype=float32),\n",
              " array([0., 0., 0., ..., 0., 0., 0.], dtype=float32),\n",
              " array([0., 0., 1., ..., 0., 0., 0.], dtype=float32),\n",
              " array([0., 0., 0., ..., 0., 0., 0.], dtype=float32),\n",
              " array([0., 0., 2., ..., 0., 0., 0.], dtype=float32),\n",
              " array([0., 0., 2., ..., 0., 0., 0.], dtype=float32),\n",
              " array([0., 0., 2., ..., 0., 0., 0.], dtype=float32),\n",
              " array([0., 0., 0., ..., 0., 0., 0.], dtype=float32),\n",
              " array([ 0.,  0., 10., ...,  0.,  0.,  0.], dtype=float32),\n",
              " array([0., 0., 8., ..., 0., 0., 0.], dtype=float32),\n",
              " array([0., 0., 4., ..., 0., 0., 0.], dtype=float32),\n",
              " array([0., 0., 0., ..., 0., 0., 0.], dtype=float32),\n",
              " array([0., 0., 2., ..., 0., 0., 0.], dtype=float32),\n",
              " array([0., 0., 2., ..., 0., 0., 0.], dtype=float32),\n",
              " array([0., 0., 1., ..., 0., 0., 0.], dtype=float32),\n",
              " array([ 0.,  0., 12., ...,  0.,  0.,  0.], dtype=float32),\n",
              " array([0., 0., 3., ..., 0., 0., 0.], dtype=float32),\n",
              " array([0., 0., 2., ..., 0., 0., 0.], dtype=float32),\n",
              " array([0., 0., 4., ..., 0., 0., 0.], dtype=float32),\n",
              " array([0., 0., 2., ..., 0., 0., 0.], dtype=float32),\n",
              " array([0., 0., 0., ..., 0., 0., 0.], dtype=float32),\n",
              " array([0., 0., 3., ..., 0., 0., 0.], dtype=float32),\n",
              " array([0., 0., 1., ..., 0., 0., 0.], dtype=float32),\n",
              " array([0., 0., 1., ..., 0., 0., 0.], dtype=float32),\n",
              " array([0., 0., 3., ..., 0., 0., 0.], dtype=float32),\n",
              " array([0., 0., 1., ..., 0., 0., 0.], dtype=float32),\n",
              " array([0., 0., 0., ..., 0., 0., 0.], dtype=float32),\n",
              " array([0., 0., 9., ..., 0., 0., 0.], dtype=float32),\n",
              " array([0., 0., 0., ..., 0., 0., 0.], dtype=float32),\n",
              " array([0., 0., 2., ..., 0., 0., 0.], dtype=float32),\n",
              " array([0., 0., 1., ..., 0., 0., 0.], dtype=float32),\n",
              " array([0., 0., 0., ..., 0., 0., 0.], dtype=float32),\n",
              " array([0., 0., 1., ..., 0., 0., 0.], dtype=float32),\n",
              " array([0., 0., 0., ..., 0., 0., 0.], dtype=float32),\n",
              " array([0., 0., 3., ..., 0., 0., 0.], dtype=float32),\n",
              " array([0., 0., 5., ..., 0., 0., 0.], dtype=float32),\n",
              " array([0., 0., 2., ..., 0., 0., 0.], dtype=float32),\n",
              " array([0., 0., 2., ..., 0., 0., 0.], dtype=float32),\n",
              " array([0., 0., 0., ..., 0., 0., 0.], dtype=float32),\n",
              " array([0., 0., 0., ..., 0., 0., 0.], dtype=float32),\n",
              " array([0., 0., 0., ..., 0., 0., 0.], dtype=float32),\n",
              " array([ 0.,  0., 11., ...,  0.,  0.,  0.], dtype=float32),\n",
              " array([0., 0., 0., ..., 0., 0., 0.], dtype=float32),\n",
              " array([0., 0., 1., ..., 0., 0., 0.], dtype=float32),\n",
              " array([0., 0., 3., ..., 0., 0., 0.], dtype=float32),\n",
              " array([0., 0., 4., ..., 0., 0., 0.], dtype=float32),\n",
              " array([0., 0., 0., ..., 0., 0., 0.], dtype=float32),\n",
              " array([0., 0., 0., ..., 0., 0., 0.], dtype=float32),\n",
              " array([0., 0., 1., ..., 0., 0., 0.], dtype=float32),\n",
              " array([0., 0., 3., ..., 0., 0., 0.], dtype=float32),\n",
              " array([0., 0., 1., ..., 0., 0., 0.], dtype=float32),\n",
              " array([0., 0., 0., ..., 0., 0., 0.], dtype=float32),\n",
              " array([0., 0., 4., ..., 0., 0., 0.], dtype=float32),\n",
              " array([0., 0., 8., ..., 0., 0., 0.], dtype=float32),\n",
              " array([0., 0., 2., ..., 0., 0., 0.], dtype=float32),\n",
              " array([0., 0., 2., ..., 0., 0., 0.], dtype=float32),\n",
              " array([0., 0., 2., ..., 0., 0., 0.], dtype=float32),\n",
              " array([0., 0., 1., ..., 0., 0., 0.], dtype=float32),\n",
              " array([0., 0., 5., ..., 0., 0., 0.], dtype=float32),\n",
              " array([0., 0., 2., ..., 0., 0., 0.], dtype=float32),\n",
              " array([0., 0., 4., ..., 0., 0., 0.], dtype=float32),\n",
              " array([0., 0., 2., ..., 0., 0., 0.], dtype=float32),\n",
              " array([0., 0., 7., ..., 0., 0., 0.], dtype=float32),\n",
              " array([0., 0., 3., ..., 0., 0., 0.], dtype=float32),\n",
              " array([0., 0., 3., ..., 0., 0., 0.], dtype=float32),\n",
              " array([0., 0., 3., ..., 0., 0., 0.], dtype=float32),\n",
              " array([0., 0., 1., ..., 0., 0., 0.], dtype=float32),\n",
              " array([0., 0., 1., ..., 0., 0., 0.], dtype=float32),\n",
              " array([0., 0., 0., ..., 0., 0., 0.], dtype=float32),\n",
              " array([ 0.,  0., 12., ...,  0.,  0.,  0.], dtype=float32),\n",
              " array([0., 0., 0., ..., 0., 0., 0.], dtype=float32),\n",
              " array([0., 0., 1., ..., 0., 0., 0.], dtype=float32),\n",
              " array([0., 0., 1., ..., 0., 0., 0.], dtype=float32),\n",
              " array([0., 0., 0., ..., 0., 0., 0.], dtype=float32),\n",
              " array([0., 0., 1., ..., 0., 0., 0.], dtype=float32),\n",
              " array([0., 0., 1., ..., 0., 0., 0.], dtype=float32),\n",
              " array([0., 0., 1., ..., 0., 0., 0.], dtype=float32),\n",
              " array([0., 0., 2., ..., 0., 0., 0.], dtype=float32),\n",
              " array([0., 0., 0., ..., 0., 0., 0.], dtype=float32),\n",
              " array([0., 0., 4., ..., 0., 0., 0.], dtype=float32),\n",
              " array([0., 0., 0., ..., 0., 0., 0.], dtype=float32),\n",
              " array([0., 0., 1., ..., 0., 0., 0.], dtype=float32),\n",
              " array([0., 0., 1., ..., 0., 0., 0.], dtype=float32),\n",
              " array([0., 0., 1., ..., 0., 0., 0.], dtype=float32),\n",
              " array([0., 0., 2., ..., 0., 0., 0.], dtype=float32),\n",
              " array([ 0.,  0., 10., ...,  0.,  0.,  0.], dtype=float32),\n",
              " array([0., 0., 1., ..., 0., 0., 0.], dtype=float32),\n",
              " array([ 0.,  0., 18., ...,  0.,  0.,  0.], dtype=float32),\n",
              " array([0., 0., 1., ..., 0., 0., 0.], dtype=float32),\n",
              " array([0., 0., 1., ..., 0., 0., 0.], dtype=float32),\n",
              " array([0., 0., 2., ..., 0., 0., 0.], dtype=float32),\n",
              " array([0., 0., 1., ..., 0., 0., 0.], dtype=float32),\n",
              " array([0., 0., 3., ..., 0., 0., 0.], dtype=float32),\n",
              " array([ 0.,  0., 29., ...,  0.,  0.,  0.], dtype=float32),\n",
              " array([0., 0., 0., ..., 0., 0., 0.], dtype=float32),\n",
              " array([0., 0., 7., ..., 0., 0., 0.], dtype=float32),\n",
              " array([0., 0., 0., ..., 0., 0., 0.], dtype=float32),\n",
              " array([0., 0., 4., ..., 0., 0., 0.], dtype=float32),\n",
              " array([0., 0., 1., ..., 0., 0., 0.], dtype=float32),\n",
              " array([0., 0., 6., ..., 0., 0., 0.], dtype=float32),\n",
              " array([0., 0., 0., ..., 0., 0., 0.], dtype=float32),\n",
              " array([0., 0., 8., ..., 0., 0., 0.], dtype=float32),\n",
              " array([0., 0., 2., ..., 0., 0., 0.], dtype=float32),\n",
              " array([0., 0., 0., ..., 0., 0., 0.], dtype=float32),\n",
              " array([0., 0., 1., ..., 0., 0., 0.], dtype=float32),\n",
              " array([0., 0., 4., ..., 0., 0., 0.], dtype=float32),\n",
              " array([0., 0., 2., ..., 0., 0., 0.], dtype=float32),\n",
              " array([0., 0., 6., ..., 0., 0., 0.], dtype=float32),\n",
              " array([0., 0., 1., ..., 0., 0., 0.], dtype=float32),\n",
              " array([0., 0., 3., ..., 0., 0., 0.], dtype=float32),\n",
              " array([0., 0., 1., ..., 0., 0., 0.], dtype=float32),\n",
              " array([0., 0., 1., ..., 0., 0., 0.], dtype=float32),\n",
              " array([0., 0., 1., ..., 0., 0., 0.], dtype=float32),\n",
              " array([0., 0., 5., ..., 0., 0., 0.], dtype=float32),\n",
              " array([ 0.,  0., 14., ...,  0.,  0.,  0.], dtype=float32),\n",
              " array([0., 0., 0., ..., 0., 0., 0.], dtype=float32),\n",
              " array([0., 0., 7., ..., 0., 0., 0.], dtype=float32),\n",
              " array([0., 0., 3., ..., 0., 0., 0.], dtype=float32),\n",
              " array([0., 0., 2., ..., 0., 0., 0.], dtype=float32),\n",
              " array([0., 0., 0., ..., 0., 0., 0.], dtype=float32),\n",
              " array([0., 0., 1., ..., 0., 0., 0.], dtype=float32),\n",
              " array([0., 0., 4., ..., 0., 0., 0.], dtype=float32),\n",
              " array([0., 0., 3., ..., 0., 0., 0.], dtype=float32),\n",
              " array([0., 0., 1., ..., 0., 0., 0.], dtype=float32),\n",
              " array([0., 0., 1., ..., 0., 0., 0.], dtype=float32),\n",
              " array([0., 0., 4., ..., 0., 0., 0.], dtype=float32),\n",
              " array([ 0.,  0., 35., ...,  0.,  0.,  0.], dtype=float32),\n",
              " array([0., 0., 2., ..., 0., 0., 0.], dtype=float32)]"
            ]
          },
          "metadata": {},
          "execution_count": 20
        }
      ]
    },
    {
      "cell_type": "code",
      "execution_count": 21,
      "metadata": {
        "id": "a6AZCNw40Zd3"
      },
      "outputs": [],
      "source": [
        "X_train_bow = np.stack(list(map(text_to_bow, texts_train)))\n",
        "X_test_bow = np.stack(list(map(text_to_bow, texts_test)))"
      ]
    },
    {
      "cell_type": "code",
      "source": [
        "X_train_bow.shape"
      ],
      "metadata": {
        "colab": {
          "base_uri": "https://localhost:8080/"
        },
        "id": "Hwn1f1nrb_yp",
        "outputId": "bfdc115b-2712-4aa6-979b-5800b1c76bc9"
      },
      "execution_count": 22,
      "outputs": [
        {
          "output_type": "execute_result",
          "data": {
            "text/plain": [
              "(500, 5502)"
            ]
          },
          "metadata": {},
          "execution_count": 22
        }
      ]
    },
    {
      "cell_type": "code",
      "source": [
        "k_max = len(set(' '.join(texts_train).split()))\n",
        "k_max"
      ],
      "metadata": {
        "colab": {
          "base_uri": "https://localhost:8080/"
        },
        "id": "iRf7UdkBcK9c",
        "outputId": "e89592d8-c40a-4e86-8f69-28142c468152"
      },
      "execution_count": 23,
      "outputs": [
        {
          "output_type": "execute_result",
          "data": {
            "text/plain": [
              "5707"
            ]
          },
          "metadata": {},
          "execution_count": 23
        }
      ]
    },
    {
      "cell_type": "code",
      "source": [
        "[len(s.split()) for s in texts_train[5:10]]"
      ],
      "metadata": {
        "colab": {
          "base_uri": "https://localhost:8080/"
        },
        "id": "qH1EKrnZdHG7",
        "outputId": "fd0443f5-99c9-4e24-be7d-a8c1acba6a80"
      },
      "execution_count": 24,
      "outputs": [
        {
          "output_type": "execute_result",
          "data": {
            "text/plain": [
              "[9, 202, 15, 51, 41]"
            ]
          },
          "metadata": {},
          "execution_count": 24
        }
      ]
    },
    {
      "cell_type": "code",
      "source": [
        "X_train_bow[5:10].sum(-1)"
      ],
      "metadata": {
        "colab": {
          "base_uri": "https://localhost:8080/"
        },
        "id": "cBqgvU67fL8P",
        "outputId": "0a2cac1f-1ad7-4c44-b79e-c3e1a428152a"
      },
      "execution_count": 25,
      "outputs": [
        {
          "output_type": "execute_result",
          "data": {
            "text/plain": [
              "array([  9., 202.,  15.,  51.,  41.], dtype=float32)"
            ]
          },
          "metadata": {},
          "execution_count": 25
        }
      ]
    },
    {
      "cell_type": "code",
      "execution_count": 26,
      "metadata": {
        "id": "jkl-jjIa0Zd4"
      },
      "outputs": [],
      "source": [
        "k_max = len(set(' '.join(texts_train).split()))\n",
        "assert X_train_bow.shape == (len(texts_train), min(k + 2, k_max))\n",
        "assert X_test_bow.shape == (len(texts_test), min(k + 2, k_max))\n",
        "assert np.all(X_train_bow[5:10].sum(-1) == np.array([len(s.split()) for s in texts_train[5:10]]))\n",
        "assert len(bow_vocabulary) <= min(k + 2, k_max)\n",
        "assert X_train_bow[6, bow_vocabulary.index('.')] == texts_train[6].split().count('.')"
      ]
    },
    {
      "cell_type": "markdown",
      "metadata": {
        "id": "HOkdgGx10Zd4"
      },
      "source": [
        "__Naive bayes:__ perhaps the simplest model that can solve your problem is the so called Naive Bayes Classifier.\n",
        "Its a trivial linear model that assumes the independence of input features and computes the coefficients by, well, counting probabilities.\n",
        "\n",
        "If you don't remember the math behind Naive Bayes, read [this chunk](https://lena-voita.github.io/nlp_course/text_classification.html#naive_bayes) to help refresh your memory. Done? Good! Now let's implement that :)"
      ]
    },
    {
      "cell_type": "code",
      "execution_count": 27,
      "metadata": {
        "id": "IobjIBQX0Zd5"
      },
      "outputs": [],
      "source": [
        "class BinaryNaiveBayes:\n",
        "    delta = 1.0  # add this to all word counts to smoothe probabilities\n",
        "\n",
        "    def fit(self, X, y):\n",
        "        \"\"\"\n",
        "        Fit a NaiveBayes classifier for two classes\n",
        "        :param X: [batch_size, vocab_size] of bag-of-words features\n",
        "        :param y: [batch_size] of binary targets {0, 1}\n",
        "        \"\"\"\n",
        "        # first, compute marginal probabilities of every class, p(y=k) for k = 0,1\n",
        "        self.p_y = np.array([(len(y) - y.sum())/len(y), y.sum()/len(y)])\n",
        "\n",
        "        # count occurences of each word in texts with label 1 and label 0 separately\n",
        "        word_counts_positive = np.array([0] * X.shape[1])\n",
        "        for pos, i in enumerate(y):\n",
        "          if i == 1:\n",
        "            word_counts_positive = np.add(X[pos], word_counts_positive)\n",
        "\n",
        "        word_counts_negative = np.array([0] * X.shape[1])\n",
        "        for pos, i in enumerate(y):\n",
        "          if i == 0:\n",
        "            word_counts_negative = np.add(X[pos], word_counts_negative)\n",
        "        # ^-- both must be vectors of shape [vocab_size].\n",
        "\n",
        "        # finally, lets use those counts to estimate p(x | y = k) for k = 0, 1\n",
        "\n",
        "        self.p_x_given_positive = np.add(np.full((X.shape[1]), self.delta), word_counts_positive) / np.full((X.shape[1]), self.delta * len(word_counts_positive) + word_counts_positive.sum()\n",
        "        )\n",
        "        self.p_x_given_negative = np.add(np.full((X.shape[1]), self.delta), word_counts_negative) / np.full((X.shape[1]), self.delta * len(word_counts_negative) + word_counts_negative.sum()\n",
        "        )\n",
        "        # both must be of shape [vocab_size]; and don't forget to add self.delta!\n",
        "\n",
        "        return self\n",
        "\n",
        "    def predict_scores(self, X):\n",
        "        \"\"\"\n",
        "        :param X: [batch_size, vocab_size] of bag-of-words features\n",
        "        :returns: a matrix of scores [batch_size, k] of scores for k-th class\n",
        "        \"\"\"\n",
        "        # compute scores for positive and negative classes separately.\n",
        "        # these scores should be proportional to log-probabilities of the respective target {0, 1}\n",
        "        # note: if you apply logarithm to p_x_given_*, the total log-probability can be written\n",
        "        # as a dot-product with X\n",
        "        neg_scr = np.array([])\n",
        "        for i in X:\n",
        "          tmp = 0\n",
        "          for _, j in enumerate(i):\n",
        "            if j != 0:\n",
        "              tmp += self.p_x_given_negative[_]\n",
        "          neg_scr = np.append(neg_scr, tmp)\n",
        "\n",
        "        pos_scr = np.array([])\n",
        "        for i in X:\n",
        "          tmp = 0\n",
        "          for _, j in enumerate(i):\n",
        "            if j != 0:\n",
        "              tmp += self.p_x_given_positive[_]\n",
        "          pos_scr = np.append(pos_scr, tmp)\n",
        "\n",
        "        score_negative = self.p_y[0] * neg_scr\n",
        "        score_positive = self.p_y[1] * pos_scr\n",
        "\n",
        "        # you can compute total p(x | y=k) with a dot product\n",
        "        return np.stack([score_negative, score_positive], axis=-1)\n",
        "\n",
        "    def predict(self, X):\n",
        "        return self.predict_scores(X).argmax(axis=-1)"
      ]
    },
    {
      "cell_type": "code",
      "execution_count": 28,
      "metadata": {
        "id": "wU6d8fdG0Zd6"
      },
      "outputs": [],
      "source": [
        "naive_model = BinaryNaiveBayes().fit(X_train_bow, y_train)"
      ]
    },
    {
      "cell_type": "code",
      "source": [
        "naive_model.p_x_given_positive.sum()"
      ],
      "metadata": {
        "id": "gbKw7naQ8jY7",
        "outputId": "af647c73-78ac-4e5d-93ef-62fe2791a317",
        "colab": {
          "base_uri": "https://localhost:8080/"
        }
      },
      "execution_count": 29,
      "outputs": [
        {
          "output_type": "execute_result",
          "data": {
            "text/plain": [
              "0.9999999999999999"
            ]
          },
          "metadata": {},
          "execution_count": 29
        }
      ]
    },
    {
      "cell_type": "code",
      "source": [
        "naive_model.p_x_given_negative.sum()"
      ],
      "metadata": {
        "id": "ErDutmc38m2j",
        "outputId": "c108fa21-c58e-44bd-d5ae-d238563c2cab",
        "colab": {
          "base_uri": "https://localhost:8080/"
        }
      },
      "execution_count": 30,
      "outputs": [
        {
          "output_type": "execute_result",
          "data": {
            "text/plain": [
              "1.0"
            ]
          },
          "metadata": {},
          "execution_count": 30
        }
      ]
    },
    {
      "cell_type": "code",
      "source": [
        "f_index = bow_vocabulary.index('fuck')\n",
        "naive_model.p_x_given_positive[f_index]"
      ],
      "metadata": {
        "id": "tl36wFZn_jfp",
        "outputId": "c8035676-007f-42d1-8d04-8bd406717c5b",
        "colab": {
          "base_uri": "https://localhost:8080/"
        }
      },
      "execution_count": 31,
      "outputs": [
        {
          "output_type": "execute_result",
          "data": {
            "text/plain": [
              "0.0018593644354293441"
            ]
          },
          "metadata": {},
          "execution_count": 31
        }
      ]
    },
    {
      "cell_type": "code",
      "source": [
        "naive_model.p_x_given_negative[f_index]\n"
      ],
      "metadata": {
        "id": "ceJ4r2Y7_sg_",
        "outputId": "22a6b742-97f9-4b88-8310-2b29687917cc",
        "colab": {
          "base_uri": "https://localhost:8080/"
        }
      },
      "execution_count": 32,
      "outputs": [
        {
          "output_type": "execute_result",
          "data": {
            "text/plain": [
              "3.451846738004832e-05"
            ]
          },
          "metadata": {},
          "execution_count": 32
        }
      ]
    },
    {
      "cell_type": "code",
      "execution_count": 33,
      "metadata": {
        "id": "QSsR42aR0Zd6"
      },
      "outputs": [],
      "source": [
        "assert naive_model.p_y.shape == (2,) and naive_model.p_y.sum() == 1 and naive_model.p_y[0] > naive_model.p_y[1]\n",
        "assert naive_model.p_x_given_positive.shape == naive_model.p_x_given_negative.shape == X_train_bow.shape[1:]\n",
        "assert np.allclose(naive_model.p_x_given_positive.sum(), 1.0)\n",
        "assert np.allclose(naive_model.p_x_given_negative.sum(), 1.0)\n",
        "assert naive_model.p_x_given_negative.min() > 0, \"did you forget to add delta?\"\n",
        "\n",
        "f_index = bow_vocabulary.index('fuck')  # offensive tweets should contain more of this\n",
        "assert naive_model.p_x_given_positive[f_index] > naive_model.p_x_given_negative[f_index]\n",
        "\n",
        "g_index = bow_vocabulary.index('good')  # offensive tweets should contain less of this\n",
        "assert naive_model.p_x_given_positive[g_index] < naive_model.p_x_given_negative[g_index]"
      ]
    },
    {
      "cell_type": "code",
      "execution_count": 34,
      "metadata": {
        "id": "YfPeOFfF0Zd7",
        "colab": {
          "base_uri": "https://localhost:8080/",
          "height": 466
        },
        "outputId": "dc00b4c4-754c-42a6-8823-b5f50ec36d96"
      },
      "outputs": [
        {
          "output_type": "stream",
          "name": "stdout",
          "text": [
            "Model accuracy: 0.682\n",
            "Well done!\n"
          ]
        },
        {
          "output_type": "display_data",
          "data": {
            "text/plain": [
              "<Figure size 640x480 with 1 Axes>"
            ],
            "image/png": "[encoded data removed]"
          },
          "metadata": {}
        }
      ],
      "source": [
        "from sklearn.metrics import roc_auc_score, roc_curve\n",
        "\n",
        "for name, X, y, model in [\n",
        "    ('train', X_train_bow, y_train, naive_model),\n",
        "    ('test ', X_test_bow, y_test, naive_model)\n",
        "]:\n",
        "    proba = model.predict_scores(X)[:, 1] - model.predict_scores(X)[:, 0]\n",
        "    auc = roc_auc_score(y, proba)\n",
        "    plt.plot(*roc_curve(y, proba)[:2], label='%s AUC=%.4f' % (name, auc))\n",
        "\n",
        "plt.plot([0, 1], [0, 1], '--', color='black',)\n",
        "plt.legend(fontsize='large')\n",
        "plt.grid()\n",
        "\n",
        "test_accuracy = np.mean(naive_model.predict(X_test_bow) == y_test)\n",
        "print(f\"Model accuracy: {test_accuracy:.3f}\")\n",
        "assert test_accuracy > 0.65, \"Accuracy too low. There's likely a mistake in the code.\"\n",
        "print(\"Well done!\")"
      ]
    },
    {
      "cell_type": "markdown",
      "metadata": {
        "id": "jGrhXcjf0Zd7"
      },
      "source": [
        "Okay, it definitely learned *something*. Now let's figure out what exactly it learned. The simplest way to do that is by highlighting which words have a greatest ratio of positive to negative probability or vice versa. We'll go with the positive one [because reasons](https://www.urbandictionary.com/define.php?term=because%20reasons).\n",
        "\n",
        "__Your task__ is to compute top-25 words that have the __highest__ ratio of ${p(x_i | y=1)} \\over {p(x_i | y=0)}$. Enjoy!"
      ]
    },
    {
      "cell_type": "code",
      "source": [
        "\n",
        "probability_ratio = model.p_x_given_positive / model.p_x_given_negative\n",
        "ind = np.argsort(probability_ratio)[::-1][:25]"
      ],
      "metadata": {
        "id": "wXYVqCosi0JP"
      },
      "execution_count": 73,
      "outputs": []
    },
    {
      "cell_type": "code",
      "source": [
        "np.array(bow_vocabulary)[ind]"
      ],
      "metadata": {
        "id": "MnHi9PH4kL2M",
        "outputId": "81b86818-7424-4cb2-8d66-cc3e4f49a86f",
        "colab": {
          "base_uri": "https://localhost:8080/"
        }
      },
      "execution_count": 75,
      "outputs": [
        {
          "output_type": "execute_result",
          "data": {
            "text/plain": [
              "array(['hitler', 'heil', 'offfuck', 'suck', 'nigger', 'j.delanoy', 'dick',\n",
              "       'fggt', 'bitch', 'fuck', 'slap', 'shit', 'fucking', 'ass',\n",
              "       'stupid', '=', 'college', '*', 'asshole', 'u', 'bastard', 'hit',\n",
              "       '@', 'idiot', 'beautiful'], dtype='<U128')"
            ]
          },
          "metadata": {},
          "execution_count": 75
        }
      ]
    },
    {
      "cell_type": "code",
      "execution_count": 76,
      "metadata": {
        "id": "cPqmE0570Zd7",
        "colab": {
          "base_uri": "https://localhost:8080/"
        },
        "outputId": "a21f7910-0594-4392-a8f1-c5cd8871a5be"
      },
      "outputs": [
        {
          "output_type": "stream",
          "name": "stdout",
          "text": [
            "#0\t    hitler\t(ratio=476.2225321162948)\n",
            "#1\t      heil\t(ratio=472.5498647734957)\n",
            "#2\t   offfuck\t(ratio=441.9443035835024)\n",
            "#3\t      suck\t(ratio=315.2372802569304)\n",
            "#4\t    nigger\t(ratio=224.03270791075053)\n",
            "#5\t j.delanoy\t(ratio=220.36004056795133)\n",
            "#6\t      dick\t(ratio=187.30603448275863)\n",
            "#7\t      fggt\t(ratio=97.93779580797838)\n",
            "#8\t     bitch\t(ratio=59.98689993238675)\n",
            "#9\t      fuck\t(ratio=53.8657876943881)\n",
            "#10\t      slap\t(ratio=44.072008113590265)\n",
            "#11\t      shit\t(ratio=44.072008113590265)\n",
            "#12\t   fucking\t(ratio=31.82978363759297)\n",
            "#13\t       ass\t(ratio=26.93289384719405)\n",
            "#14\t    stupid\t(ratio=18.363336713995945)\n",
            "#15\t         =\t(ratio=17.56759212305612)\n",
            "#16\t   college\t(ratio=17.139114266396216)\n",
            "#17\t         *\t(ratio=17.139114266396216)\n",
            "#18\t   asshole\t(ratio=15.914891818796486)\n",
            "#19\t         u\t(ratio=15.302780594996621)\n",
            "#20\t   bastard\t(ratio=14.690669371196755)\n",
            "#21\t       hit\t(ratio=14.690669371196755)\n",
            "#22\t         @\t(ratio=13.466446923597026)\n",
            "#23\t     idiot\t(ratio=13.466446923597026)\n",
            "#24\t beautiful\t(ratio=12.242224475997297)\n"
          ]
        }
      ],
      "source": [
        "top_negative_words = np.array(bow_vocabulary)[ind]\n",
        "\n",
        "\n",
        "\n",
        "assert len(top_negative_words) == 25 and [isinstance(w, str) for w in top_negative_words]\n",
        "assert 'j.delanoy' in top_negative_words and 'college' in top_negative_words\n",
        "\n",
        "for i, word in enumerate(top_negative_words):\n",
        "    print(f\"#{i}\\t{word.rjust(10, ' ')}\\t(ratio={probability_ratio[bow_vocabulary.index(word)]})\")"
      ]
    },
    {
      "cell_type": "markdown",
      "metadata": {
        "id": "ofuq3-6f0Zd8"
      },
      "source": [
        "Now lets try something less prehistoric: __Logistic Regression__. Turns out, if you're using silicon instead of an abacus, you can find model weights by optimizing the log-probability of the answer. Though, of course, you don't even need to write it by hand anymore. Let's sklearn it!"
      ]
    },
    {
      "cell_type": "code",
      "source": [
        "from sklearn.preprocessing import StandardScaler\n",
        "X_train_bow = StandardScaler().fit_transform(X_train_bow)\n",
        "X_test_bow = StandardScaler().fit_transform(X_test_bow)"
      ],
      "metadata": {
        "id": "l04CJFtX6fI-"
      },
      "execution_count": 129,
      "outputs": []
    },
    {
      "cell_type": "code",
      "execution_count": 132,
      "metadata": {
        "id": "66fEvU8S0Zd8",
        "colab": {
          "base_uri": "https://localhost:8080/"
        },
        "outputId": "f59e03f1-59ed-4994-a6a4-8aec7c615296"
      },
      "outputs": [
        {
          "output_type": "execute_result",
          "data": {
            "text/plain": [
              "{'C': 0.3}"
            ]
          },
          "metadata": {},
          "execution_count": 132
        }
      ],
      "source": [
        "from sklearn.linear_model import LogisticRegression\n",
        "from sklearn.model_selection import GridSearchCV\n",
        "bow_model = LogisticRegression()\n",
        "bow_model.fit(X_train_bow, y_train)\n",
        "parameters = {'C':[0.1, 0.3, 0.5, 0.7, 0.9]}\n",
        "gs = GridSearchCV(bow_model, parameters)\n",
        "gs.fit(X_train_bow, y_train)\n",
        "gs.best_params_"
      ]
    },
    {
      "cell_type": "code",
      "source": [
        "bow_model = gs.best_estimator_\n",
        "bow_model.fit(X_train_bow, y_train)"
      ],
      "metadata": {
        "colab": {
          "base_uri": "https://localhost:8080/",
          "height": 74
        },
        "id": "kZDi-_Cwoaq_",
        "outputId": "299811e8-fe1e-44ab-d9fe-323af650d1a3"
      },
      "execution_count": 133,
      "outputs": [
        {
          "output_type": "execute_result",
          "data": {
            "text/plain": [
              "LogisticRegression(C=0.3)"
            ],
            "text/html": [
              "<style>#sk-container-id-3 {color: black;background-color: white;}#sk-container-id-3 pre{padding: 0;}#sk-container-id-3 div.sk-toggleable {background-color: white;}#sk-container-id-3 label.sk-toggleable__label {cursor: pointer;display: block;width: 100%;margin-bottom: 0;padding: 0.3em;box-sizing: border-box;text-align: center;}#sk-container-id-3 label.sk-toggleable__label-arrow:before {content: \"▸\";float: left;margin-right: 0.25em;color: #696969;}#sk-container-id-3 label.sk-toggleable__label-arrow:hover:before {color: black;}#sk-container-id-3 div.sk-estimator:hover label.sk-toggleable__label-arrow:before {color: black;}#sk-container-id-3 div.sk-toggleable__content {max-height: 0;max-width: 0;overflow: hidden;text-align: left;background-color: #f0f8ff;}#sk-container-id-3 div.sk-toggleable__content pre {margin: 0.2em;color: black;border-radius: 0.25em;background-color: #f0f8ff;}#sk-container-id-3 input.sk-toggleable__control:checked~div.sk-toggleable__content {max-height: 200px;max-width: 100%;overflow: auto;}#sk-container-id-3 input.sk-toggleable__control:checked~label.sk-toggleable__label-arrow:before {content: \"▾\";}#sk-container-id-3 div.sk-estimator input.sk-toggleable__control:checked~label.sk-toggleable__label {background-color: #d4ebff;}#sk-container-id-3 div.sk-label input.sk-toggleable__control:checked~label.sk-toggleable__label {background-color: #d4ebff;}#sk-container-id-3 input.sk-hidden--visually {border: 0;clip: rect(1px 1px 1px 1px);clip: rect(1px, 1px, 1px, 1px);height: 1px;margin: -1px;overflow: hidden;padding: 0;position: absolute;width: 1px;}#sk-container-id-3 div.sk-estimator {font-family: monospace;background-color: #f0f8ff;border: 1px dotted black;border-radius: 0.25em;box-sizing: border-box;margin-bottom: 0.5em;}#sk-container-id-3 div.sk-estimator:hover {background-color: #d4ebff;}#sk-container-id-3 div.sk-parallel-item::after {content: \"\";width: 100%;border-bottom: 1px solid gray;flex-grow: 1;}#sk-container-id-3 div.sk-label:hover label.sk-toggleable__label {background-color: #d4ebff;}#sk-container-id-3 div.sk-serial::before {content: \"\";position: absolute;border-left: 1px solid gray;box-sizing: border-box;top: 0;bottom: 0;left: 50%;z-index: 0;}#sk-container-id-3 div.sk-serial {display: flex;flex-direction: column;align-items: center;background-color: white;padding-right: 0.2em;padding-left: 0.2em;position: relative;}#sk-container-id-3 div.sk-item {position: relative;z-index: 1;}#sk-container-id-3 div.sk-parallel {display: flex;align-items: stretch;justify-content: center;background-color: white;position: relative;}#sk-container-id-3 div.sk-item::before, #sk-container-id-3 div.sk-parallel-item::before {content: \"\";position: absolute;border-left: 1px solid gray;box-sizing: border-box;top: 0;bottom: 0;left: 50%;z-index: -1;}#sk-container-id-3 div.sk-parallel-item {display: flex;flex-direction: column;z-index: 1;position: relative;background-color: white;}#sk-container-id-3 div.sk-parallel-item:first-child::after {align-self: flex-end;width: 50%;}#sk-container-id-3 div.sk-parallel-item:last-child::after {align-self: flex-start;width: 50%;}#sk-container-id-3 div.sk-parallel-item:only-child::after {width: 0;}#sk-container-id-3 div.sk-dashed-wrapped {border: 1px dashed gray;margin: 0 0.4em 0.5em 0.4em;box-sizing: border-box;padding-bottom: 0.4em;background-color: white;}#sk-container-id-3 div.sk-label label {font-family: monospace;font-weight: bold;display: inline-block;line-height: 1.2em;}#sk-container-id-3 div.sk-label-container {text-align: center;}#sk-container-id-3 div.sk-container {/* jupyter's `normalize.less` sets `[hidden] { display: none; }` but bootstrap.min.css set `[hidden] { display: none !important; }` so we also need the `!important` here to be able to override the default hidden behavior on the sphinx rendered scikit-learn.org. See: https://github.com/scikit-learn/scikit-learn/issues/21755 */display: inline-block !important;position: relative;}#sk-container-id-3 div.sk-text-repr-fallback {display: none;}</style><div id=\"sk-container-id-3\" class=\"sk-top-container\"><div class=\"sk-text-repr-fallback\"><pre>LogisticRegression(C=0.3)</pre><b>In a Jupyter environment, please rerun this cell to show the HTML representation or trust the notebook. <br />On GitHub, the HTML representation is unable to render, please try loading this page with nbviewer.org.</b></div><div class=\"sk-container\" hidden><div class=\"sk-item\"><div class=\"sk-estimator sk-toggleable\"><input class=\"sk-toggleable__control sk-hidden--visually\" id=\"sk-estimator-id-3\" type=\"checkbox\" checked><label for=\"sk-estimator-id-3\" class=\"sk-toggleable__label sk-toggleable__label-arrow\">LogisticRegression</label><div class=\"sk-toggleable__content\"><pre>LogisticRegression(C=0.3)</pre></div></div></div></div></div>"
            ]
          },
          "metadata": {},
          "execution_count": 133
        }
      ]
    },
    {
      "cell_type": "code",
      "source": [],
      "metadata": {
        "id": "GoPupflN6XLL"
      },
      "execution_count": 133,
      "outputs": []
    },
    {
      "cell_type": "code",
      "execution_count": 135,
      "metadata": {
        "id": "jaMZqXng0Zd8",
        "colab": {
          "base_uri": "https://localhost:8080/",
          "height": 466
        },
        "outputId": "0fcb6382-be04-45cc-f105-6143026f498e"
      },
      "outputs": [
        {
          "output_type": "stream",
          "name": "stdout",
          "text": [
            "Model accuracy: 0.722\n",
            "Well done!\n"
          ]
        },
        {
          "output_type": "display_data",
          "data": {
            "text/plain": [
              "<Figure size 640x480 with 1 Axes>"
            ],
            "image/png": "[encoded data removed]"
          },
          "metadata": {}
        }
      ],
      "source": [
        "from sklearn.metrics import roc_auc_score, roc_curve\n",
        "\n",
        "for name, X, y, model in [\n",
        "    ('train', X_train_bow, y_train, bow_model),\n",
        "    ('test ', X_test_bow, y_test, bow_model)\n",
        "]:\n",
        "    proba = model.predict_proba(X)[:, 1]\n",
        "    auc = roc_auc_score(y, proba)\n",
        "    plt.plot(*roc_curve(y, proba)[:2], label='%s AUC=%.4f' % (name, auc))\n",
        "\n",
        "plt.plot([0, 1], [0, 1], '--', color='black',)\n",
        "plt.legend(fontsize='large')\n",
        "plt.grid()\n",
        "\n",
        "test_accuracy = np.mean(bow_model.predict(X_test_bow) == y_test)\n",
        "print(f\"Model accuracy: {test_accuracy:.3f}\")\n",
        "assert test_accuracy > 0.70, \"Hint: tune the parameter C to improve performance\"\n",
        "print(\"Well done!\")"
      ]
    },
    {
      "cell_type": "markdown",
      "metadata": {
        "id": "0HNm4FUU0Zd9"
      },
      "source": [
        "### Task: implement TF-IDF features\n",
        "\n",
        "Not all words are equally useful. One can prioritize rare words and downscale words like \"and\"/\"or\" by using __tf-idf features__. This abbreviation stands for __text frequency/inverse document frequence__ and means exactly that:\n",
        "\n",
        "$$ feature_i = { Count(word_i \\in x) \\times { log {N \\over Count(word_i \\in D) + \\alpha} }} $$\n",
        "\n",
        "\n",
        ", where x is a single text, D is your dataset (a collection of texts), N is a total number of documents and $\\alpha$ is a smoothing hyperparameter (typically 1).\n",
        "And $Count(word_i \\in D)$ is the number of documents where $word_i$ appears.\n",
        "\n",
        "It may also be a good idea to normalize each data sample after computing tf-idf features.\n",
        "\n",
        "__Your task:__ implement tf-idf features, train a model and evaluate ROC curve. Compare it with basic BagOfWords model from above.\n",
        "\n",
        "Please don't use sklearn/nltk builtin tf-idf vectorizers in your solution :) You can still use 'em for debugging though."
      ]
    },
    {
      "cell_type": "code",
      "source": [
        "def to_tf_idf(X_train_bow, alfa = 1):\n",
        "  from sklearn.preprocessing import StandardScaler\n",
        "  sc = StandardScaler()\n",
        "  tf = X_train_bow\n",
        "\n",
        "  count = X_train_bow.T[:].sum()\n",
        "\n",
        "  idf = np.log(X_train_bow.shape[0] / (count + alfa))\n",
        "  tf_idf = tf * idf\n",
        "  return sc.fit_transform(tf_idf)"
      ],
      "metadata": {
        "id": "yWgmYVEp0IHv"
      },
      "execution_count": 119,
      "outputs": []
    },
    {
      "cell_type": "code",
      "source": [
        "X_tf_idf_train = to_tf_idf(X_train_bow)\n",
        "X_tf_idf_test = to_tf_idf(X_test_bow)"
      ],
      "metadata": {
        "id": "xGIL97Yc0qA3"
      },
      "execution_count": 122,
      "outputs": []
    },
    {
      "cell_type": "code",
      "source": [
        "from sklearn.linear_model import LogisticRegression\n",
        "from sklearn.model_selection import GridSearchCV\n",
        "tfidf_model = LogisticRegression()\n",
        "parameters = {'C':[0.1, 0.3, 0.5, 0.7, 0.9]}\n",
        "gs = GridSearchCV(bow_model, parameters)\n",
        "gs.fit(X_tf_idf_train, y_train)\n",
        "gs.best_params_"
      ],
      "metadata": {
        "id": "Ry7FElGH436F",
        "outputId": "0dd4970f-a993-4e19-e963-b3ff57d8cc8c",
        "colab": {
          "base_uri": "https://localhost:8080/"
        }
      },
      "execution_count": 125,
      "outputs": [
        {
          "output_type": "execute_result",
          "data": {
            "text/plain": [
              "{'C': 0.3}"
            ]
          },
          "metadata": {},
          "execution_count": 125
        }
      ]
    },
    {
      "cell_type": "code",
      "source": [
        "tfidf_model = gs.best_estimator_"
      ],
      "metadata": {
        "id": "wa7MF-cn6HB0"
      },
      "execution_count": 127,
      "outputs": []
    },
    {
      "cell_type": "code",
      "source": [
        "from sklearn.metrics import roc_auc_score, roc_curve\n",
        "\n",
        "for name, X, y, model in [\n",
        "    ('train', X_tf_idf_train, y_train, tfidf_model),\n",
        "    ('test ', X_tf_idf_test, y_test, tfidf_model)\n",
        "]:\n",
        "    proba = model.predict_proba(X)[:, 1]\n",
        "    auc = roc_auc_score(y, proba)\n",
        "    plt.plot(*roc_curve(y, proba)[:2], label='%s AUC=%.4f' % (name, auc))\n",
        "\n",
        "plt.plot([0, 1], [0, 1], '--', color='black',)\n",
        "plt.legend(fontsize='large')\n",
        "plt.grid()\n",
        "\n",
        "test_accuracy = np.mean(bow_model.predict(X_test_bow) == y_test)\n",
        "print(f\"Model accuracy: {test_accuracy:.3f}\")\n",
        "assert test_accuracy > 0.76, \"Hint: tune the parameter C to improve performance\"\n",
        "print(\"Well done!\")"
      ],
      "metadata": {
        "id": "T8zmZKFy51Wy",
        "outputId": "051ecea5-d025-451c-eaca-d5a854a9aa14",
        "colab": {
          "base_uri": "https://localhost:8080/",
          "height": 466
        }
      },
      "execution_count": 128,
      "outputs": [
        {
          "output_type": "stream",
          "name": "stdout",
          "text": [
            "Model accuracy: 0.768\n",
            "Well done!\n"
          ]
        },
        {
          "output_type": "display_data",
          "data": {
            "text/plain": [
              "<Figure size 640x480 with 1 Axes>"
            ],
            "image/png": "[encoded data removed]"
          },
          "metadata": {}
        }
      ]
    },
    {
      "cell_type": "markdown",
      "metadata": {
        "id": "_4i0q_Jp0Zd9"
      },
      "source": [
        "```\n",
        "\n",
        "```\n",
        "\n",
        "```\n",
        "\n",
        "```\n",
        "\n",
        "```\n",
        "\n",
        "```\n",
        "\n",
        "```\n",
        "\n",
        "```\n",
        "\n",
        "```\n",
        "\n",
        "```\n",
        "\n",
        "```\n",
        "\n",
        "```\n",
        "\n",
        "```\n",
        "\n",
        "```\n",
        "\n",
        "```\n",
        "\n",
        "```\n",
        "\n",
        "\n",
        "### Solving it better: word vectors\n",
        "\n",
        "Let's try another approach: instead of counting per-word frequencies, we shall map all words to pre-trained word vectors and average over them to get text features.\n",
        "\n",
        "This should give us two key advantages: (1) we now have 10^2 features instead of 10^4 and (2) our model can generalize to word that are not in training dataset.\n",
        "\n",
        "We begin with a standard approach with pre-trained word vectors. However, you may also try\n",
        "* training embeddings from scratch on relevant (unlabeled) data\n",
        "* multiplying word vectors by inverse word frequency in dataset (like tf-idf).\n",
        "* concatenating several embeddings\n",
        "    * call `gensim.downloader.info()['models'].keys()` to get a list of available models\n",
        "* clusterizing words by their word-vectors and try bag of cluster_ids\n",
        "\n",
        "__Note:__ loading pre-trained model may take a while. It's a perfect opportunity to refill your cup of tea/coffee and grab some extra cookies. Or binge-watch some tv series if you're slow on internet connection"
      ]
    },
    {
      "cell_type": "code",
      "source": [
        "import gensim.downloader\n",
        "gensim.downloader.info()['models'].keys()"
      ],
      "metadata": {
        "id": "nGpUIt0EucwR",
        "outputId": "1bf48c12-02d7-4e78-de91-4afd2b6cb554",
        "colab": {
          "base_uri": "https://localhost:8080/"
        }
      },
      "execution_count": 137,
      "outputs": [
        {
          "output_type": "execute_result",
          "data": {
            "text/plain": [
              "dict_keys(['fasttext-wiki-news-subwords-300', 'conceptnet-numberbatch-17-06-300', 'word2vec-ruscorpora-300', 'word2vec-google-news-300', 'glove-wiki-gigaword-50', 'glove-wiki-gigaword-100', 'glove-wiki-gigaword-200', 'glove-wiki-gigaword-300', 'glove-twitter-25', 'glove-twitter-50', 'glove-twitter-100', 'glove-twitter-200', '__testing_word2vec-matrix-synopsis'])"
            ]
          },
          "metadata": {},
          "execution_count": 137
        }
      ]
    },
    {
      "cell_type": "code",
      "execution_count": 138,
      "metadata": {
        "collapsed": true,
        "scrolled": false,
        "id": "9pNXuMJP0Zd-",
        "colab": {
          "base_uri": "https://localhost:8080/"
        },
        "outputId": "0363c806-5384-415e-8648-96bd9f875903"
      },
      "outputs": [
        {
          "output_type": "stream",
          "name": "stdout",
          "text": [
            "[==================================================] 100.0% 958.5/958.4MB downloaded\n"
          ]
        }
      ],
      "source": [
        "embeddings = gensim.downloader.load(\"fasttext-wiki-news-subwords-300\")\n",
        "\n",
        "# If you're low on RAM or download speed, use \"glove-wiki-gigaword-100\" instead. Ignore all further asserts."
      ]
    },
    {
      "cell_type": "code",
      "execution_count": 169,
      "metadata": {
        "collapsed": true,
        "id": "jrl0cagW0Zd-"
      },
      "outputs": [],
      "source": [
        "def vectorize_sum(comment):\n",
        "    \"\"\"\n",
        "    implement a function that converts preprocessed comment to a sum of token vectors\n",
        "    \"\"\"\n",
        "    embedding_dim = embeddings.vector_size\n",
        "    features = np.zeros([embedding_dim], dtype='float32')\n",
        "\n",
        "    for i in comment.split():\n",
        "      if i in embeddings:\n",
        "        emb = embeddings[i]\n",
        "        features += emb;\n",
        "\n",
        "    return features\n",
        "\n",
        "assert np.allclose(\n",
        "    vectorize_sum(\"who cares anymore . they attack with impunity .\")[::70],\n",
        "    np.array([ 0.0108616 ,  0.0261663 ,  0.13855131, -0.18510573, -0.46380025])\n",
        ")"
      ]
    },
    {
      "cell_type": "code",
      "execution_count": 170,
      "metadata": {
        "collapsed": true,
        "id": "4Nt7Ygz40Zd-"
      },
      "outputs": [],
      "source": [
        "X_train_wv = np.stack([vectorize_sum(text) for text in texts_train])\n",
        "X_test_wv = np.stack([vectorize_sum(text) for text in texts_test])"
      ]
    },
    {
      "cell_type": "code",
      "execution_count": 177,
      "metadata": {
        "id": "NSUqEtrT0Zd_",
        "outputId": "d5137863-d6e0-4ae1-eb54-260d08b146ce",
        "colab": {
          "base_uri": "https://localhost:8080/",
          "height": 576
        }
      },
      "outputs": [
        {
          "output_type": "stream",
          "name": "stderr",
          "text": [
            "/usr/local/lib/python3.10/dist-packages/sklearn/linear_model/_logistic.py:458: ConvergenceWarning: lbfgs failed to converge (status=1):\n",
            "STOP: TOTAL NO. of ITERATIONS REACHED LIMIT.\n",
            "\n",
            "Increase the number of iterations (max_iter) or scale the data as shown in:\n",
            "    https://scikit-learn.org/stable/modules/preprocessing.html\n",
            "Please also refer to the documentation for alternative solver options:\n",
            "    https://scikit-learn.org/stable/modules/linear_model.html#logistic-regression\n",
            "  n_iter_i = _check_optimize_result(\n"
          ]
        },
        {
          "output_type": "display_data",
          "data": {
            "text/plain": [
              "<Figure size 640x480 with 1 Axes>"
            ],
            "image/png": "[encoded data removed]"
          },
          "metadata": {}
        }
      ],
      "source": [
        "wv_model = LogisticRegression().fit(X_train_wv, y_train)\n",
        "\n",
        "for name, X, y, model in [\n",
        "    ('bow train', X_train_bow, y_train, bow_model),\n",
        "    ('bow test ', X_test_bow, y_test, bow_model),\n",
        "    ('vec train', X_train_wv, y_train, wv_model),\n",
        "    ('vec test ', X_test_wv, y_test, wv_model),\n",
        "    ('tfidf train', X_tf_idf_train, y_train, tfidf_model),\n",
        "    ('tfidf test ', X_tf_idf_test, y_test, tfidf_model)\n",
        "]:\n",
        "    proba = model.predict_proba(X)[:, 1]\n",
        "    auc = roc_auc_score(y, proba)\n",
        "    plt.plot(*roc_curve(y, proba)[:2], label='%s AUC=%.4f' % (name, auc))\n",
        "\n",
        "plt.plot([0, 1], [0, 1], '--', color='black',)\n",
        "plt.legend(fontsize='large')\n",
        "plt.grid()\n",
        "\n",
        "assert roc_auc_score(y_test, wv_model.predict_proba(X_test_wv)[:, 1]) > 0.92, \"something's wrong with your features\""
      ]
    },
    {
      "cell_type": "code",
      "source": [
        "roc_auc_score(y_test, wv_model.predict_proba(X_test_wv)[:, 1])"
      ],
      "metadata": {
        "id": "XjO2z7RTOol-",
        "outputId": "3dd01cf7-42a9-43f4-d741-35688dc50075",
        "colab": {
          "base_uri": "https://localhost:8080/"
        }
      },
      "execution_count": 172,
      "outputs": [
        {
          "output_type": "execute_result",
          "data": {
            "text/plain": [
              "0.9316371360981026"
            ]
          },
          "metadata": {},
          "execution_count": 172
        }
      ]
    },
    {
      "cell_type": "markdown",
      "metadata": {
        "id": "QcOL28Cs0ZeA"
      },
      "source": []
    }
  ],
  "metadata": {
    "kernelspec": {
      "display_name": "Python 3",
      "language": "python",
      "name": "python3"
    },
    "language_info": {
      "codemirror_mode": {
        "name": "ipython",
        "version": 3
      },
      "file_extension": ".py",
      "mimetype": "text/x-python",
      "name": "python",
      "nbconvert_exporter": "python",
      "pygments_lexer": "ipython3",
      "version": "3.8.1"
    },
    "colab": {
      "provenance": [],
      "include_colab_link": true
    }
  },
  "nbformat": 4,
  "nbformat_minor": 0
}