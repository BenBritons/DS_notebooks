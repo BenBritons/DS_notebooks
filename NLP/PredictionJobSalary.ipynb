{
  "metadata": {
    "kernelspec": {
      "name": "python3",
      "display_name": "Python 3",
      "language": "python"
    },
    "language_info": {
      "name": "python",
      "version": "3.10.12",
      "mimetype": "text/x-python",
      "codemirror_mode": {
        "name": "ipython",
        "version": 3
      },
      "pygments_lexer": "ipython3",
      "nbconvert_exporter": "python",
      "file_extension": ".py"
    },
    "colab": {
      "provenance": [],
      "gpuType": "T4",
      "include_colab_link": true
    },
    "accelerator": "GPU",
    "widgets": {
      "application/vnd.jupyter.widget-state+json": {
        "a1302c3766f7425a99d59d7b22bb1724": {
          "model_module": "@jupyter-widgets/controls",
          "model_name": "HBoxModel",
          "model_module_version": "1.5.0",
          "state": {
            "_dom_classes": [],
            "_model_module": "@jupyter-widgets/controls",
            "_model_module_version": "1.5.0",
            "_model_name": "HBoxModel",
            "_view_count": null,
            "_view_module": "@jupyter-widgets/controls",
            "_view_module_version": "1.5.0",
            "_view_name": "HBoxView",
            "box_style": "",
            "children": [
              "IPY_MODEL_4c93fb4737214a7a9e5a63c7ceccae3f",
              "IPY_MODEL_c13d7358bc794c409a961ab1b479ba31",
              "IPY_MODEL_dd64abfaf44b48d3bf0d9b8105f81f2c"
            ],
            "layout": "IPY_MODEL_4f8dbb8ba57a4d1f82f2e8d77bcd2d83"
          }
        },
        "4c93fb4737214a7a9e5a63c7ceccae3f": {
          "model_module": "@jupyter-widgets/controls",
          "model_name": "HTMLModel",
          "model_module_version": "1.5.0",
          "state": {
            "_dom_classes": [],
            "_model_module": "@jupyter-widgets/controls",
            "_model_module_version": "1.5.0",
            "_model_name": "HTMLModel",
            "_view_count": null,
            "_view_module": "@jupyter-widgets/controls",
            "_view_module_version": "1.5.0",
            "_view_name": "HTMLView",
            "description": "",
            "description_tooltip": null,
            "layout": "IPY_MODEL_3688c6c5e56a498da93820a559888fe0",
            "placeholder": "​",
            "style": "IPY_MODEL_4a52d4c3a2a54ffbbb417344c909740b",
            "value": "  0%"
          }
        },
        "c13d7358bc794c409a961ab1b479ba31": {
          "model_module": "@jupyter-widgets/controls",
          "model_name": "FloatProgressModel",
          "model_module_version": "1.5.0",
          "state": {
            "_dom_classes": [],
            "_model_module": "@jupyter-widgets/controls",
            "_model_module_version": "1.5.0",
            "_model_name": "FloatProgressModel",
            "_view_count": null,
            "_view_module": "@jupyter-widgets/controls",
            "_view_module_version": "1.5.0",
            "_view_name": "ProgressView",
            "bar_style": "",
            "description": "",
            "description_tooltip": null,
            "layout": "IPY_MODEL_28cbac16da334193be36df61ad2a6678",
            "max": 12238,
            "min": 0,
            "orientation": "horizontal",
            "style": "IPY_MODEL_a985b5b7a0ca4ef8bedef9f7dece5ed1",
            "value": 39
          }
        },
        "dd64abfaf44b48d3bf0d9b8105f81f2c": {
          "model_module": "@jupyter-widgets/controls",
          "model_name": "HTMLModel",
          "model_module_version": "1.5.0",
          "state": {
            "_dom_classes": [],
            "_model_module": "@jupyter-widgets/controls",
            "_model_module_version": "1.5.0",
            "_model_name": "HTMLModel",
            "_view_count": null,
            "_view_module": "@jupyter-widgets/controls",
            "_view_module_version": "1.5.0",
            "_view_name": "HTMLView",
            "description": "",
            "description_tooltip": null,
            "layout": "IPY_MODEL_6794ce02697243c3b7e4349ceafbf2c7",
            "placeholder": "​",
            "style": "IPY_MODEL_eb8d2c9946d34320a4616089b51ef4b7",
            "value": " 39/12238 [00:03&lt;17:22, 11.71it/s]"
          }
        },
        "4f8dbb8ba57a4d1f82f2e8d77bcd2d83": {
          "model_module": "@jupyter-widgets/base",
          "model_name": "LayoutModel",
          "model_module_version": "1.2.0",
          "state": {
            "_model_module": "@jupyter-widgets/base",
            "_model_module_version": "1.2.0",
            "_model_name": "LayoutModel",
            "_view_count": null,
            "_view_module": "@jupyter-widgets/base",
            "_view_module_version": "1.2.0",
            "_view_name": "LayoutView",
            "align_content": null,
            "align_items": null,
            "align_self": null,
            "border": null,
            "bottom": null,
            "display": null,
            "flex": null,
            "flex_flow": null,
            "grid_area": null,
            "grid_auto_columns": null,
            "grid_auto_flow": null,
            "grid_auto_rows": null,
            "grid_column": null,
            "grid_gap": null,
            "grid_row": null,
            "grid_template_areas": null,
            "grid_template_columns": null,
            "grid_template_rows": null,
            "height": null,
            "justify_content": null,
            "justify_items": null,
            "left": null,
            "margin": null,
            "max_height": null,
            "max_width": null,
            "min_height": null,
            "min_width": null,
            "object_fit": null,
            "object_position": null,
            "order": null,
            "overflow": null,
            "overflow_x": null,
            "overflow_y": null,
            "padding": null,
            "right": null,
            "top": null,
            "visibility": null,
            "width": null
          }
        },
        "3688c6c5e56a498da93820a559888fe0": {
          "model_module": "@jupyter-widgets/base",
          "model_name": "LayoutModel",
          "model_module_version": "1.2.0",
          "state": {
            "_model_module": "@jupyter-widgets/base",
            "_model_module_version": "1.2.0",
            "_model_name": "LayoutModel",
            "_view_count": null,
            "_view_module": "@jupyter-widgets/base",
            "_view_module_version": "1.2.0",
            "_view_name": "LayoutView",
            "align_content": null,
            "align_items": null,
            "align_self": null,
            "border": null,
            "bottom": null,
            "display": null,
            "flex": null,
            "flex_flow": null,
            "grid_area": null,
            "grid_auto_columns": null,
            "grid_auto_flow": null,
            "grid_auto_rows": null,
            "grid_column": null,
            "grid_gap": null,
            "grid_row": null,
            "grid_template_areas": null,
            "grid_template_columns": null,
            "grid_template_rows": null,
            "height": null,
            "justify_content": null,
            "justify_items": null,
            "left": null,
            "margin": null,
            "max_height": null,
            "max_width": null,
            "min_height": null,
            "min_width": null,
            "object_fit": null,
            "object_position": null,
            "order": null,
            "overflow": null,
            "overflow_x": null,
            "overflow_y": null,
            "padding": null,
            "right": null,
            "top": null,
            "visibility": null,
            "width": null
          }
        },
        "4a52d4c3a2a54ffbbb417344c909740b": {
          "model_module": "@jupyter-widgets/controls",
          "model_name": "DescriptionStyleModel",
          "model_module_version": "1.5.0",
          "state": {
            "_model_module": "@jupyter-widgets/controls",
            "_model_module_version": "1.5.0",
            "_model_name": "DescriptionStyleModel",
            "_view_count": null,
            "_view_module": "@jupyter-widgets/base",
            "_view_module_version": "1.2.0",
            "_view_name": "StyleView",
            "description_width": ""
          }
        },
        "28cbac16da334193be36df61ad2a6678": {
          "model_module": "@jupyter-widgets/base",
          "model_name": "LayoutModel",
          "model_module_version": "1.2.0",
          "state": {
            "_model_module": "@jupyter-widgets/base",
            "_model_module_version": "1.2.0",
            "_model_name": "LayoutModel",
            "_view_count": null,
            "_view_module": "@jupyter-widgets/base",
            "_view_module_version": "1.2.0",
            "_view_name": "LayoutView",
            "align_content": null,
            "align_items": null,
            "align_self": null,
            "border": null,
            "bottom": null,
            "display": null,
            "flex": null,
            "flex_flow": null,
            "grid_area": null,
            "grid_auto_columns": null,
            "grid_auto_flow": null,
            "grid_auto_rows": null,
            "grid_column": null,
            "grid_gap": null,
            "grid_row": null,
            "grid_template_areas": null,
            "grid_template_columns": null,
            "grid_template_rows": null,
            "height": null,
            "justify_content": null,
            "justify_items": null,
            "left": null,
            "margin": null,
            "max_height": null,
            "max_width": null,
            "min_height": null,
            "min_width": null,
            "object_fit": null,
            "object_position": null,
            "order": null,
            "overflow": null,
            "overflow_x": null,
            "overflow_y": null,
            "padding": null,
            "right": null,
            "top": null,
            "visibility": null,
            "width": null
          }
        },
        "a985b5b7a0ca4ef8bedef9f7dece5ed1": {
          "model_module": "@jupyter-widgets/controls",
          "model_name": "ProgressStyleModel",
          "model_module_version": "1.5.0",
          "state": {
            "_model_module": "@jupyter-widgets/controls",
            "_model_module_version": "1.5.0",
            "_model_name": "ProgressStyleModel",
            "_view_count": null,
            "_view_module": "@jupyter-widgets/base",
            "_view_module_version": "1.2.0",
            "_view_name": "StyleView",
            "bar_color": null,
            "description_width": ""
          }
        },
        "6794ce02697243c3b7e4349ceafbf2c7": {
          "model_module": "@jupyter-widgets/base",
          "model_name": "LayoutModel",
          "model_module_version": "1.2.0",
          "state": {
            "_model_module": "@jupyter-widgets/base",
            "_model_module_version": "1.2.0",
            "_model_name": "LayoutModel",
            "_view_count": null,
            "_view_module": "@jupyter-widgets/base",
            "_view_module_version": "1.2.0",
            "_view_name": "LayoutView",
            "align_content": null,
            "align_items": null,
            "align_self": null,
            "border": null,
            "bottom": null,
            "display": null,
            "flex": null,
            "flex_flow": null,
            "grid_area": null,
            "grid_auto_columns": null,
            "grid_auto_flow": null,
            "grid_auto_rows": null,
            "grid_column": null,
            "grid_gap": null,
            "grid_row": null,
            "grid_template_areas": null,
            "grid_template_columns": null,
            "grid_template_rows": null,
            "height": null,
            "justify_content": null,
            "justify_items": null,
            "left": null,
            "margin": null,
            "max_height": null,
            "max_width": null,
            "min_height": null,
            "min_width": null,
            "object_fit": null,
            "object_position": null,
            "order": null,
            "overflow": null,
            "overflow_x": null,
            "overflow_y": null,
            "padding": null,
            "right": null,
            "top": null,
            "visibility": null,
            "width": null
          }
        },
        "eb8d2c9946d34320a4616089b51ef4b7": {
          "model_module": "@jupyter-widgets/controls",
          "model_name": "DescriptionStyleModel",
          "model_module_version": "1.5.0",
          "state": {
            "_model_module": "@jupyter-widgets/controls",
            "_model_module_version": "1.5.0",
            "_model_name": "DescriptionStyleModel",
            "_view_count": null,
            "_view_module": "@jupyter-widgets/base",
            "_view_module_version": "1.2.0",
            "_view_name": "StyleView",
            "description_width": ""
          }
        }
      }
    }
  },
  "nbformat_minor": 0,
  "nbformat": 4,
  "cells": [
    {
      "cell_type": "markdown",
      "metadata": {
        "id": "view-in-github",
        "colab_type": "text"
      },
      "source": [
        "<a href=\"https://colab.research.google.com/github/BenBritons/DS_notebooks/blob/main/NLP/PredictionJobSalary.ipynb\" target=\"_parent\"><img src=\"https://colab.research.google.com/assets/colab-badge.svg\" alt=\"Open In Colab\"/></a>"
      ]
    },
    {
      "cell_type": "markdown",
      "source": [
        "# Large scale text analysis with deep learning\n",
        "\n",
        "Today I'm gonna apply the newly learned tools for the task of predicting job salary.\n"
      ],
      "metadata": {
        "id": "GtqsqviYA7B7"
      }
    },
    {
      "cell_type": "code",
      "source": [
        "import numpy as np\n",
        "import pandas as pd\n",
        "import matplotlib.pyplot as plt\n",
        "%matplotlib inline"
      ],
      "metadata": {
        "id": "yA9Ah0ZJA7B_",
        "execution": {
          "iopub.status.busy": "2023-10-04T11:50:47.225567Z",
          "iopub.execute_input": "2023-10-04T11:50:47.225905Z",
          "iopub.status.idle": "2023-10-04T11:50:47.542106Z",
          "shell.execute_reply.started": "2023-10-04T11:50:47.225877Z",
          "shell.execute_reply": "2023-10-04T11:50:47.541241Z"
        },
        "trusted": true
      },
      "execution_count": null,
      "outputs": []
    },
    {
      "cell_type": "markdown",
      "source": [
        "### About the challenge\n",
        "let's download and unpack the data from [here].\n",
        "\n",
        "You can also get it from the competition [page](https://www.kaggle.com/c/job-salary-prediction/data) (pick `Train_rev1.*`)."
      ],
      "metadata": {
        "id": "wkLY489YA7CA"
      }
    },
    {
      "cell_type": "code",
      "source": [
        "! pip install -q kaggle"
      ],
      "metadata": {
        "id": "1sJiPfb8VV_d",
        "execution": {
          "iopub.status.busy": "2023-10-04T11:44:06.865570Z",
          "iopub.execute_input": "2023-10-04T11:44:06.866421Z",
          "iopub.status.idle": "2023-10-04T11:44:19.833032Z",
          "shell.execute_reply.started": "2023-10-04T11:44:06.866379Z",
          "shell.execute_reply": "2023-10-04T11:44:19.831444Z"
        },
        "trusted": true
      },
      "execution_count": null,
      "outputs": []
    },
    {
      "cell_type": "code",
      "source": [
        "from google.colab import files\n",
        "\n",
        "files.upload()"
      ],
      "metadata": {
        "colab": {
          "base_uri": "https://localhost:8080/",
          "height": 90
        },
        "id": "-Qu-BXhLWLoy",
        "outputId": "6d8d6b23-c704-46f9-cccc-d281bbdd07fe",
        "execution": {
          "iopub.status.busy": "2023-10-04T11:44:19.834950Z",
          "iopub.execute_input": "2023-10-04T11:44:19.835328Z",
          "iopub.status.idle": "2023-10-04T11:44:20.128724Z",
          "shell.execute_reply.started": "2023-10-04T11:44:19.835293Z",
          "shell.execute_reply": "2023-10-04T11:44:20.123480Z"
        },
        "trusted": true
      },
      "execution_count": null,
      "outputs": [
        {
          "traceback": [
            "\u001b[0;31m---------------------------------------------------------------------------\u001b[0m",
            "\u001b[0;31mModuleNotFoundError\u001b[0m                       Traceback (most recent call last)",
            "Cell \u001b[0;32mIn[3], line 1\u001b[0m\n\u001b[0;32m----> 1\u001b[0m \u001b[38;5;28;01mfrom\u001b[39;00m \u001b[38;5;21;01mgoogle\u001b[39;00m\u001b[38;5;21;01m.\u001b[39;00m\u001b[38;5;21;01mcolab\u001b[39;00m \u001b[38;5;28;01mimport\u001b[39;00m files\n\u001b[1;32m      3\u001b[0m files\u001b[38;5;241m.\u001b[39mupload()\n",
            "\u001b[0;31mModuleNotFoundError\u001b[0m: No module named 'google.colab'"
          ],
          "ename": "ModuleNotFoundError",
          "evalue": "No module named 'google.colab'",
          "output_type": "error"
        }
      ]
    },
    {
      "cell_type": "code",
      "source": [
        "! mkdir ~/.kaggle\n",
        "! cp kaggle.json ~/.kaggle/"
      ],
      "metadata": {
        "id": "xxcMIl9uWQXW",
        "execution": {
          "iopub.status.busy": "2023-10-04T11:44:53.642581Z",
          "iopub.execute_input": "2023-10-04T11:44:53.642940Z",
          "iopub.status.idle": "2023-10-04T11:44:55.892282Z",
          "shell.execute_reply.started": "2023-10-04T11:44:53.642914Z",
          "shell.execute_reply": "2023-10-04T11:44:55.890783Z"
        },
        "trusted": true,
        "outputId": "4e7f0665-a0f6-4b44-e945-343e8ea73c35"
      },
      "execution_count": null,
      "outputs": [
        {
          "name": "stdout",
          "text": "cp: cannot stat 'kaggle.json': No such file or directory\n",
          "output_type": "stream"
        }
      ]
    },
    {
      "cell_type": "code",
      "source": [
        "! chmod 600 ~/.kaggle/kaggle.json"
      ],
      "metadata": {
        "id": "c65ihSnnWm3J",
        "execution": {
          "iopub.status.busy": "2023-10-04T11:44:20.132449Z",
          "iopub.status.idle": "2023-10-04T11:44:20.132900Z",
          "shell.execute_reply.started": "2023-10-04T11:44:20.132715Z",
          "shell.execute_reply": "2023-10-04T11:44:20.132732Z"
        },
        "trusted": true
      },
      "execution_count": null,
      "outputs": []
    },
    {
      "cell_type": "code",
      "source": [
        "!kaggle competitions download -c job-salary-prediction"
      ],
      "metadata": {
        "colab": {
          "base_uri": "https://localhost:8080/"
        },
        "id": "ymWtoUFYWxV_",
        "outputId": "a006c85d-c95e-4f40-9cb8-351666eafc1f",
        "execution": {
          "iopub.status.busy": "2023-10-04T11:45:04.502233Z",
          "iopub.execute_input": "2023-10-04T11:45:04.502627Z",
          "iopub.status.idle": "2023-10-04T11:45:06.130436Z",
          "shell.execute_reply.started": "2023-10-04T11:45:04.502592Z",
          "shell.execute_reply": "2023-10-04T11:45:06.129262Z"
        },
        "trusted": true
      },
      "execution_count": null,
      "outputs": [
        {
          "name": "stdout",
          "text": "Traceback (most recent call last):\n  File \"/opt/conda/bin/kaggle\", line 5, in <module>\n    from kaggle.cli import main\n  File \"/opt/conda/lib/python3.10/site-packages/kaggle/__init__.py\", line 23, in <module>\n    api.authenticate()\n  File \"/opt/conda/lib/python3.10/site-packages/kaggle/api/kaggle_api_extended.py\", line 403, in authenticate\n    raise IOError('Could not find {}. Make sure it\\'s located in'\nOSError: Could not find kaggle.json. Make sure it's located in /root/.kaggle. Or use the environment method.\n",
          "output_type": "stream"
        }
      ]
    },
    {
      "cell_type": "code",
      "source": [
        "!unzip job-salary-prediction.zip"
      ],
      "metadata": {
        "id": "m60CC6JKW8Iu",
        "execution": {
          "iopub.status.busy": "2023-10-04T11:44:20.136919Z",
          "iopub.status.idle": "2023-10-04T11:44:20.137445Z",
          "shell.execute_reply.started": "2023-10-04T11:44:20.137268Z",
          "shell.execute_reply": "2023-10-04T11:44:20.137287Z"
        },
        "trusted": true
      },
      "execution_count": null,
      "outputs": []
    },
    {
      "cell_type": "code",
      "source": [
        "data = pd.read_csv(\"/kaggle/input/job-salary-prediction/Train_rev1.zip\", compression='zip', index_col=None)\n",
        "data.shape"
      ],
      "metadata": {
        "id": "KrD2tCCkA7CB",
        "colab": {
          "base_uri": "https://localhost:8080/"
        },
        "outputId": "86c08087-910a-42ec-e627-406744a7fe6e",
        "execution": {
          "iopub.status.busy": "2023-10-04T11:50:55.945506Z",
          "iopub.execute_input": "2023-10-04T11:50:55.945950Z",
          "iopub.status.idle": "2023-10-04T11:51:05.812106Z",
          "shell.execute_reply.started": "2023-10-04T11:50:55.945918Z",
          "shell.execute_reply": "2023-10-04T11:51:05.811062Z"
        },
        "trusted": true
      },
      "execution_count": null,
      "outputs": [
        {
          "execution_count": 3,
          "output_type": "execute_result",
          "data": {
            "text/plain": "(244768, 12)"
          },
          "metadata": {}
        }
      ]
    },
    {
      "cell_type": "code",
      "source": [
        "data.head()"
      ],
      "metadata": {
        "id": "hVUhw1oWA7CB",
        "colab": {
          "base_uri": "https://localhost:8080/",
          "height": 504
        },
        "outputId": "32056aa0-b77b-46dc-85a4-d8fa237a3f4e",
        "execution": {
          "iopub.status.busy": "2023-10-04T11:51:05.814490Z",
          "iopub.execute_input": "2023-10-04T11:51:05.815518Z",
          "iopub.status.idle": "2023-10-04T11:51:05.839672Z",
          "shell.execute_reply.started": "2023-10-04T11:51:05.815481Z",
          "shell.execute_reply": "2023-10-04T11:51:05.838565Z"
        },
        "trusted": true
      },
      "execution_count": null,
      "outputs": [
        {
          "execution_count": 4,
          "output_type": "execute_result",
          "data": {
            "text/plain": "         Id                                              Title  \\\n0  12612628                        Engineering Systems Analyst   \n1  12612830                            Stress Engineer Glasgow   \n2  12612844                   Modelling and simulation analyst   \n3  12613049  Engineering Systems Analyst / Mathematical Mod...   \n4  12613647         Pioneer, Miser Engineering Systems Analyst   \n\n                                     FullDescription  \\\n0  Engineering Systems Analyst Dorking Surrey Sal...   \n1  Stress Engineer Glasgow Salary **** to **** We...   \n2  Mathematical Modeller / Simulation Analyst / O...   \n3  Engineering Systems Analyst / Mathematical Mod...   \n4  Pioneer, Miser  Engineering Systems Analyst Do...   \n\n                         LocationRaw LocationNormalized ContractType  \\\n0            Dorking, Surrey, Surrey            Dorking          NaN   \n1        Glasgow, Scotland, Scotland            Glasgow          NaN   \n2  Hampshire, South East, South East          Hampshire          NaN   \n3     Surrey, South East, South East             Surrey          NaN   \n4     Surrey, South East, South East             Surrey          NaN   \n\n  ContractTime                       Company          Category  \\\n0    permanent  Gregory Martin International  Engineering Jobs   \n1    permanent  Gregory Martin International  Engineering Jobs   \n2    permanent  Gregory Martin International  Engineering Jobs   \n3    permanent  Gregory Martin International  Engineering Jobs   \n4    permanent  Gregory Martin International  Engineering Jobs   \n\n                                SalaryRaw  SalaryNormalized        SourceName  \n0              20000 - 30000/annum 20-30K             25000  cv-library.co.uk  \n1              25000 - 35000/annum 25-35K             30000  cv-library.co.uk  \n2              20000 - 40000/annum 20-40K             30000  cv-library.co.uk  \n3  25000 - 30000/annum 25K-30K negotiable             27500  cv-library.co.uk  \n4              20000 - 30000/annum 20-30K             25000  cv-library.co.uk  ",
            "text/html": "<div>\n<style scoped>\n    .dataframe tbody tr th:only-of-type {\n        vertical-align: middle;\n    }\n\n    .dataframe tbody tr th {\n        vertical-align: top;\n    }\n\n    .dataframe thead th {\n        text-align: right;\n    }\n</style>\n<table border=\"1\" class=\"dataframe\">\n  <thead>\n    <tr style=\"text-align: right;\">\n      <th></th>\n      <th>Id</th>\n      <th>Title</th>\n      <th>FullDescription</th>\n      <th>LocationRaw</th>\n      <th>LocationNormalized</th>\n      <th>ContractType</th>\n      <th>ContractTime</th>\n      <th>Company</th>\n      <th>Category</th>\n      <th>SalaryRaw</th>\n      <th>SalaryNormalized</th>\n      <th>SourceName</th>\n    </tr>\n  </thead>\n  <tbody>\n    <tr>\n      <th>0</th>\n      <td>12612628</td>\n      <td>Engineering Systems Analyst</td>\n      <td>Engineering Systems Analyst Dorking Surrey Sal...</td>\n      <td>Dorking, Surrey, Surrey</td>\n      <td>Dorking</td>\n      <td>NaN</td>\n      <td>permanent</td>\n      <td>Gregory Martin International</td>\n      <td>Engineering Jobs</td>\n      <td>20000 - 30000/annum 20-30K</td>\n      <td>25000</td>\n      <td>cv-library.co.uk</td>\n    </tr>\n    <tr>\n      <th>1</th>\n      <td>12612830</td>\n      <td>Stress Engineer Glasgow</td>\n      <td>Stress Engineer Glasgow Salary **** to **** We...</td>\n      <td>Glasgow, Scotland, Scotland</td>\n      <td>Glasgow</td>\n      <td>NaN</td>\n      <td>permanent</td>\n      <td>Gregory Martin International</td>\n      <td>Engineering Jobs</td>\n      <td>25000 - 35000/annum 25-35K</td>\n      <td>30000</td>\n      <td>cv-library.co.uk</td>\n    </tr>\n    <tr>\n      <th>2</th>\n      <td>12612844</td>\n      <td>Modelling and simulation analyst</td>\n      <td>Mathematical Modeller / Simulation Analyst / O...</td>\n      <td>Hampshire, South East, South East</td>\n      <td>Hampshire</td>\n      <td>NaN</td>\n      <td>permanent</td>\n      <td>Gregory Martin International</td>\n      <td>Engineering Jobs</td>\n      <td>20000 - 40000/annum 20-40K</td>\n      <td>30000</td>\n      <td>cv-library.co.uk</td>\n    </tr>\n    <tr>\n      <th>3</th>\n      <td>12613049</td>\n      <td>Engineering Systems Analyst / Mathematical Mod...</td>\n      <td>Engineering Systems Analyst / Mathematical Mod...</td>\n      <td>Surrey, South East, South East</td>\n      <td>Surrey</td>\n      <td>NaN</td>\n      <td>permanent</td>\n      <td>Gregory Martin International</td>\n      <td>Engineering Jobs</td>\n      <td>25000 - 30000/annum 25K-30K negotiable</td>\n      <td>27500</td>\n      <td>cv-library.co.uk</td>\n    </tr>\n    <tr>\n      <th>4</th>\n      <td>12613647</td>\n      <td>Pioneer, Miser Engineering Systems Analyst</td>\n      <td>Pioneer, Miser  Engineering Systems Analyst Do...</td>\n      <td>Surrey, South East, South East</td>\n      <td>Surrey</td>\n      <td>NaN</td>\n      <td>permanent</td>\n      <td>Gregory Martin International</td>\n      <td>Engineering Jobs</td>\n      <td>20000 - 30000/annum 20-30K</td>\n      <td>25000</td>\n      <td>cv-library.co.uk</td>\n    </tr>\n  </tbody>\n</table>\n</div>"
          },
          "metadata": {}
        }
      ]
    },
    {
      "cell_type": "markdown",
      "source": [
        "One problem with salary prediction is that it's oddly distributed: there are many people who are paid standard salaries and a few that get tons o money. The distribution is fat-tailed on the right side, which is inconvenient for MSE minimization.\n",
        "\n",
        "There are several techniques to combat this: using a different loss function, predicting log-target instead of raw target or even replacing targets with their percentiles among all salaries in the training set. We gonna use logarithm for now.\n",
        "\n",
        "_You can read more [in the official description](https://www.kaggle.com/c/job-salary-prediction#description)._"
      ],
      "metadata": {
        "id": "K7OWhujBA7CC"
      }
    },
    {
      "cell_type": "code",
      "source": [
        "data['Log1pSalary'] = np.log1p(data['SalaryNormalized']).astype('float32')\n",
        "\n",
        "plt.figure(figsize=[8, 4])\n",
        "plt.subplot(1, 2, 1)\n",
        "plt.hist(data[\"SalaryNormalized\"], bins=200);\n",
        "\n",
        "plt.subplot(1, 2, 2)\n",
        "plt.hist(data['Log1pSalary'], bins=200);"
      ],
      "metadata": {
        "id": "ZEx8RjqmA7CC",
        "colab": {
          "base_uri": "https://localhost:8080/",
          "height": 368
        },
        "outputId": "0a861f3e-88eb-4eaa-f3d5-65c355039b60",
        "execution": {
          "iopub.status.busy": "2023-10-04T11:51:05.841191Z",
          "iopub.execute_input": "2023-10-04T11:51:05.841760Z",
          "iopub.status.idle": "2023-10-04T11:51:06.834099Z",
          "shell.execute_reply.started": "2023-10-04T11:51:05.841726Z",
          "shell.execute_reply": "2023-10-04T11:51:06.833181Z"
        },
        "trusted": true
      },
      "execution_count": null,
      "outputs": [
        {
          "output_type": "display_data",
          "data": {
            "text/plain": "<Figure size 800x400 with 2 Axes>",
            "image/png": "[encoded data removed]"
          },
          "metadata": {}
        }
      ]
    },
    {
      "cell_type": "markdown",
      "source": [
        "Our task is to predict one number, __Log1pSalary__.\n",
        "\n",
        "To do so, our model can access a number of features:\n",
        "* Free text: __`Title`__ and  __`FullDescription`__\n",
        "* Categorical: __`Category`__, __`Company`__, __`LocationNormalized`__, __`ContractType`__, and __`ContractTime`__."
      ],
      "metadata": {
        "id": "2wdRjwy4A7CC"
      }
    },
    {
      "cell_type": "code",
      "source": [
        "text_columns = [\"Title\", \"FullDescription\"]\n",
        "categorical_columns = [\"Category\", \"Company\", \"LocationNormalized\", \"ContractType\", \"ContractTime\"]\n",
        "TARGET_COLUMN = \"Log1pSalary\"\n",
        "\n",
        "data[categorical_columns] = data[categorical_columns].fillna('NaN') # cast missing values to string \"NaN\"\n",
        "\n",
        "data.sample(3)"
      ],
      "metadata": {
        "id": "5z1f9dnrA7CD",
        "colab": {
          "base_uri": "https://localhost:8080/",
          "height": 319
        },
        "outputId": "0fbfe0b7-c3cc-44f3-8879-2dd3fbd173c8",
        "execution": {
          "iopub.status.busy": "2023-10-04T11:51:06.836828Z",
          "iopub.execute_input": "2023-10-04T11:51:06.837342Z",
          "iopub.status.idle": "2023-10-04T11:51:06.963997Z",
          "shell.execute_reply.started": "2023-10-04T11:51:06.837317Z",
          "shell.execute_reply": "2023-10-04T11:51:06.962894Z"
        },
        "trusted": true
      },
      "execution_count": null,
      "outputs": [
        {
          "execution_count": 6,
          "output_type": "execute_result",
          "data": {
            "text/plain": "              Id                                              Title  \\\n126759  70006767         Nurse : Staff Nurse  Guernsey AWS/GUER****   \n129147  70141661  Systems / IT Manager, MS Dynamics NAV, London,...   \n35248   68234531  Demi Chef de Parti  ****Hotel AA rosette  amaz...   \n\n                                          FullDescription  \\\n126759  Medical Staff Nurse  Guernsey ****  **** Enjoy...   \n129147  Systems / IT Manager, MS Dynamics NAV, London,...   \n35248   Demi chef de Partie  amazing opportunity  star...   \n\n                  LocationRaw LocationNormalized ContractType ContractTime  \\\n126759        Cornwall, Devon                 UK          NaN    permanent   \n129147  London Greater London             London          NaN    permanent   \n35248       London South East  South East London          NaN          NaN   \n\n                 Company                     Category  \\\n126759               NaN    Healthcare & Nursing Jobs   \n129147               NaN                      IT Jobs   \n35248   The Change Group  Hospitality & Catering Jobs   \n\n                                 SalaryRaw  SalaryNormalized  \\\n126759  26000 - 28000. Frequency: Annually             27000   \n129147                               50000             50000   \n35248              16000 - 18000 per annum             17000   \n\n                SourceName  Log1pSalary  \n126759  jobs4medical.co.uk    10.203629  \n129147    technojobs.co.uk    10.819798  \n35248          caterer.com     9.741028  ",
            "text/html": "<div>\n<style scoped>\n    .dataframe tbody tr th:only-of-type {\n        vertical-align: middle;\n    }\n\n    .dataframe tbody tr th {\n        vertical-align: top;\n    }\n\n    .dataframe thead th {\n        text-align: right;\n    }\n</style>\n<table border=\"1\" class=\"dataframe\">\n  <thead>\n    <tr style=\"text-align: right;\">\n      <th></th>\n      <th>Id</th>\n      <th>Title</th>\n      <th>FullDescription</th>\n      <th>LocationRaw</th>\n      <th>LocationNormalized</th>\n      <th>ContractType</th>\n      <th>ContractTime</th>\n      <th>Company</th>\n      <th>Category</th>\n      <th>SalaryRaw</th>\n      <th>SalaryNormalized</th>\n      <th>SourceName</th>\n      <th>Log1pSalary</th>\n    </tr>\n  </thead>\n  <tbody>\n    <tr>\n      <th>126759</th>\n      <td>70006767</td>\n      <td>Nurse : Staff Nurse  Guernsey AWS/GUER****</td>\n      <td>Medical Staff Nurse  Guernsey ****  **** Enjoy...</td>\n      <td>Cornwall, Devon</td>\n      <td>UK</td>\n      <td>NaN</td>\n      <td>permanent</td>\n      <td>NaN</td>\n      <td>Healthcare &amp; Nursing Jobs</td>\n      <td>26000 - 28000. Frequency: Annually</td>\n      <td>27000</td>\n      <td>jobs4medical.co.uk</td>\n      <td>10.203629</td>\n    </tr>\n    <tr>\n      <th>129147</th>\n      <td>70141661</td>\n      <td>Systems / IT Manager, MS Dynamics NAV, London,...</td>\n      <td>Systems / IT Manager, MS Dynamics NAV, London,...</td>\n      <td>London Greater London</td>\n      <td>London</td>\n      <td>NaN</td>\n      <td>permanent</td>\n      <td>NaN</td>\n      <td>IT Jobs</td>\n      <td>50000</td>\n      <td>50000</td>\n      <td>technojobs.co.uk</td>\n      <td>10.819798</td>\n    </tr>\n    <tr>\n      <th>35248</th>\n      <td>68234531</td>\n      <td>Demi Chef de Parti  ****Hotel AA rosette  amaz...</td>\n      <td>Demi chef de Partie  amazing opportunity  star...</td>\n      <td>London South East</td>\n      <td>South East London</td>\n      <td>NaN</td>\n      <td>NaN</td>\n      <td>The Change Group</td>\n      <td>Hospitality &amp; Catering Jobs</td>\n      <td>16000 - 18000 per annum</td>\n      <td>17000</td>\n      <td>caterer.com</td>\n      <td>9.741028</td>\n    </tr>\n  </tbody>\n</table>\n</div>"
          },
          "metadata": {}
        }
      ]
    },
    {
      "cell_type": "markdown",
      "source": [
        "### Preprocessing text data\n",
        "\n",
        "Applying NLP to a problem begins from tokenization: splitting raw text into sequences of tokens (words, punctuation, etc).\n",
        "\n",
        "I'm gonna to lowercase and tokenize all texts under `Title` and `FullDescription` columns. Store the tokenized data as a __space-separated__ string of tokens for performance reasons.\n",
        "\n",
        "It's okay to use nltk tokenizers. Assertions were designed for WordPunctTokenizer, slight deviations are okay."
      ],
      "metadata": {
        "id": "7jhUqGpfA7CD"
      }
    },
    {
      "cell_type": "code",
      "source": [
        "print(\"Raw text:\")\n",
        "print(data[\"FullDescription\"][2::100000])"
      ],
      "metadata": {
        "scrolled": true,
        "id": "csJ57mFuA7CD",
        "colab": {
          "base_uri": "https://localhost:8080/"
        },
        "outputId": "9154c6c4-bf1a-4fb1-9b35-32ffe120c9ef",
        "execution": {
          "iopub.status.busy": "2023-10-04T11:51:06.965740Z",
          "iopub.execute_input": "2023-10-04T11:51:06.966315Z",
          "iopub.status.idle": "2023-10-04T11:51:06.974266Z",
          "shell.execute_reply.started": "2023-10-04T11:51:06.966275Z",
          "shell.execute_reply": "2023-10-04T11:51:06.973149Z"
        },
        "trusted": true
      },
      "execution_count": null,
      "outputs": [
        {
          "name": "stdout",
          "text": "Raw text:\n2         Mathematical Modeller / Simulation Analyst / O...\n100002    A successful and high achieving specialist sch...\n200002    Web Designer  HTML, CSS, JavaScript, Photoshop...\nName: FullDescription, dtype: object\n",
          "output_type": "stream"
        }
      ]
    },
    {
      "cell_type": "code",
      "source": [
        "import nltk\n",
        "\n",
        "tokenizer = nltk.tokenize.WordPunctTokenizer()\n",
        "data[\"FullDescription\"].apply(lambda x : ' '.join(tokenizer.tokenize(x.lower())))"
      ],
      "metadata": {
        "id": "MyFD6rLfA7CE",
        "colab": {
          "base_uri": "https://localhost:8080/"
        },
        "outputId": "1cb7a4d6-b0d3-433c-f5af-eb7ffc649589",
        "execution": {
          "iopub.status.busy": "2023-10-04T11:51:06.975571Z",
          "iopub.execute_input": "2023-10-04T11:51:06.976672Z",
          "iopub.status.idle": "2023-10-04T11:51:31.642190Z",
          "shell.execute_reply.started": "2023-10-04T11:51:06.976640Z",
          "shell.execute_reply": "2023-10-04T11:51:31.641289Z"
        },
        "trusted": true
      },
      "execution_count": null,
      "outputs": [
        {
          "name": "stderr",
          "text": "/opt/conda/lib/python3.10/site-packages/scipy/__init__.py:146: UserWarning: A NumPy version >=1.16.5 and <1.23.0 is required for this version of SciPy (detected version 1.23.5\n  warnings.warn(f\"A NumPy version >={np_minversion} and <{np_maxversion}\"\n",
          "output_type": "stream"
        },
        {
          "execution_count": 8,
          "output_type": "execute_result",
          "data": {
            "text/plain": "0         engineering systems analyst dorking surrey sal...\n1         stress engineer glasgow salary **** to **** we...\n2         mathematical modeller / simulation analyst / o...\n3         engineering systems analyst / mathematical mod...\n4         pioneer , miser engineering systems analyst do...\n                                ...                        \n244763    position : qualified teacher subject / special...\n244764    position : qualified teacher or nqt subject / ...\n244765    position : qualified teacher subject / special...\n244766    position : qualified teacher subject / special...\n244767    this entrepreneurial and growing private equit...\nName: FullDescription, Length: 244768, dtype: object"
          },
          "metadata": {}
        }
      ]
    },
    {
      "cell_type": "code",
      "source": [
        "data[\"FullDescription\"] = data[\"FullDescription\"].apply(lambda x : ' '.join(tokenizer.tokenize(x.lower())))\n",
        "data[\"Title\"] = data[\"Title\"].apply(lambda x : ' '.join(tokenizer.tokenize(str(x).lower())))"
      ],
      "metadata": {
        "id": "8fLqiFX2ZAHT",
        "execution": {
          "iopub.status.busy": "2023-10-04T11:51:31.643572Z",
          "iopub.execute_input": "2023-10-04T11:51:31.644416Z",
          "iopub.status.idle": "2023-10-04T11:51:59.979946Z",
          "shell.execute_reply.started": "2023-10-04T11:51:31.644381Z",
          "shell.execute_reply": "2023-10-04T11:51:59.978984Z"
        },
        "trusted": true
      },
      "execution_count": null,
      "outputs": []
    },
    {
      "cell_type": "code",
      "source": [
        "data[\"Title\"].sample(10)"
      ],
      "metadata": {
        "colab": {
          "base_uri": "https://localhost:8080/"
        },
        "id": "T2Zlu3QcZPS7",
        "outputId": "5d171f79-90d7-4a75-fbba-cea28ac74cbe",
        "execution": {
          "iopub.status.busy": "2023-10-04T11:51:59.981208Z",
          "iopub.execute_input": "2023-10-04T11:51:59.981539Z",
          "iopub.status.idle": "2023-10-04T11:51:59.995103Z",
          "shell.execute_reply.started": "2023-10-04T11:51:59.981510Z",
          "shell.execute_reply": "2023-10-04T11:51:59.994193Z"
        },
        "trusted": true
      },
      "execution_count": null,
      "outputs": [
        {
          "execution_count": 10,
          "output_type": "execute_result",
          "data": {
            "text/plain": "96764              building services mechanical engineer\n65710                                       chef manager\n1085                 open day for care assistant in kent\n40080                         it service management lead\n138342    family court advisor hampshire immediate start\n100645                       general builder / carpenter\n50459             store manager store opening in october\n198208                technical internal sales executive\n211933                      reward & recognition manager\n192461                              net developer exeter\nName: Title, dtype: object"
          },
          "metadata": {}
        }
      ]
    },
    {
      "cell_type": "markdown",
      "source": [
        "Now we can assume that our text is a space-separated list of tokens:"
      ],
      "metadata": {
        "id": "rIA5WB7aA7CE"
      }
    },
    {
      "cell_type": "code",
      "source": [
        "print(\"Tokenized:\")\n",
        "print(data[\"FullDescription\"][2::100000])\n",
        "assert data[\"FullDescription\"][2][:50] == 'mathematical modeller / simulation analyst / opera'\n",
        "assert data[\"Title\"][54321] == 'international digital account manager ( german )'"
      ],
      "metadata": {
        "id": "J5hzHjdTA7CE",
        "colab": {
          "base_uri": "https://localhost:8080/"
        },
        "outputId": "07ad5ff3-6c18-4232-800d-186921f1be96",
        "execution": {
          "iopub.status.busy": "2023-10-04T11:51:59.996798Z",
          "iopub.execute_input": "2023-10-04T11:51:59.997429Z",
          "iopub.status.idle": "2023-10-04T11:52:00.004896Z",
          "shell.execute_reply.started": "2023-10-04T11:51:59.997400Z",
          "shell.execute_reply": "2023-10-04T11:52:00.003788Z"
        },
        "trusted": true
      },
      "execution_count": null,
      "outputs": [
        {
          "name": "stdout",
          "text": "Tokenized:\n2         mathematical modeller / simulation analyst / o...\n100002    a successful and high achieving specialist sch...\n200002    web designer html , css , javascript , photosh...\nName: FullDescription, dtype: object\n",
          "output_type": "stream"
        }
      ]
    },
    {
      "cell_type": "markdown",
      "source": [
        "Not all words are equally useful. Some of them are typos or rare words that are only present a few times.\n",
        "\n",
        "Let's count how many times is each word present in the data so that we can build a \"white list\" of known words."
      ],
      "metadata": {
        "id": "mYSE7BjqA7CE"
      }
    },
    {
      "cell_type": "code",
      "source": [
        "data[\"FullDescription\"].values"
      ],
      "metadata": {
        "colab": {
          "base_uri": "https://localhost:8080/"
        },
        "id": "25WOp9x-an7n",
        "outputId": "5ca92283-0dc1-47b3-fd4f-c6538991dcf0",
        "execution": {
          "iopub.status.busy": "2023-10-04T11:52:00.009198Z",
          "iopub.execute_input": "2023-10-04T11:52:00.009522Z",
          "iopub.status.idle": "2023-10-04T11:52:00.016042Z",
          "shell.execute_reply.started": "2023-10-04T11:52:00.009501Z",
          "shell.execute_reply": "2023-10-04T11:52:00.015064Z"
        },
        "trusted": true
      },
      "execution_count": null,
      "outputs": [
        {
          "execution_count": 12,
          "output_type": "execute_result",
          "data": {
            "text/plain": "array(['engineering systems analyst dorking surrey salary **** k our client is located in dorking , surrey and are looking for engineering systems analyst our client provides specialist software development keywords mathematical modelling , risk analysis , system modelling , optimisation , miser , pioneeer engineering systems analyst dorking surrey salary **** k',\n       'stress engineer glasgow salary **** to **** we re currently looking for talented engineers to join our growing glasgow team at a variety of levels . the roles are ideally suited to high calibre engineering graduates with any level of appropriate experience , so that we can give you the opportunity to use your technical skills to provide high quality input to our aerospace projects , spanning both aerostructures and aeroengines . in return , you can expect good career opportunities and the chance for advancement and personal and professional development , support while you gain chartership and some opportunities to possibly travel or work in other offices , in or outside of the uk . the requirements you will need to have a good engineering degree that includes structural analysis ( such as aeronautical , mechanical , automotive , civil ) with some experience in a professional engineering environment relevant to ( but not limited to ) the aerospace sector . you will need to demonstrate experience in at least one or more of the following areas : structural / stress analysis composite stress analysis ( any industry ) linear and nonlinear finite element analysis fatigue and damage tolerance structural dynamics thermal analysis aerostructures experience you will also be expected to demonstrate the following qualities : a strong desire to progress quickly to a position of leadership professional approach strong communication skills , written and verbal commercial awareness team working , being comfortable working in international teams and self managing please note security clearance is required for this role stress engineer glasgow salary **** to ****',\n       'mathematical modeller / simulation analyst / operational analyst basingstoke , hampshire up to **** k aae pension contribution , private medical and dental the opportunity our client is an independent consultancy firm which has an opportunity for a data analyst with 35 years experience . the role will require the successful candidate to demonstrate their ability to analyse a problem and arrive at a solution , with varying levels of data being available . essential skills thorough knowledge of excel and proven ability to utilise this to create powerful decision support models experience in modelling and simulation techniques , experience of techniques such as discrete event simulation and / or sd modelling mathematical / scientific background minimum degree qualified proven analytical and problem solving skills self starter ability to develop solid working relationships in addition to formal qualifications and experience , the successful candidate will require excellent written and verbal communication skills , be energetic , enterprising and have a determination to succeed . they will be required to build solid working relationships , both internally with colleagues and , most importantly , externally with our clients . they must be comfortable working independently to deliver against challenging client demands . the offices are located in basingstoke , hampshire , but our client work for clients worldwide . the successful candidate must therefore be prepared to undertake work at client sites for short periods of time . physics , mathematics , modelling , simulation , analytical , operational research , mathematical modelling mathematical modeller / simulation analyst / operational analyst basingstoke , hampshire **** k aae pension contribution , private medical and dental',\n       ...,\n       \"position : qualified teacher subject / specialism : english location : swindon contract : temporary / supply pay : **** to **** per week an outstanding school in swindon is looking to appoint a dynamic teacher of english to join their successful english department for temporary , short term and long term positions . this school of high achievers need teachers who will push the students to their full potential and maintain their record levels of attainment . the school embraces opportunities for change and focusses on developing the minds of the pupils who attend . the school operates a strict behaviour policy and is seeking to appoint a creative and innovative teacher of english . this post would suit either an nqt or experienced teacher who is committed to helping young people achieve . specific teaching responsibilities will be discussed at interview . they are looking for an individual who is dedicated to raising attainment and motivating pupils using innovative resources and teaching methods . the post offers the opportunity to teach english whilst contributing to the thriving extra curricular programme of the school . you must have qualified teacher status in the uk , or an equivalent overseas qualification with uk teaching experience . this will allow you to deliver the national curriculum and be properly equipped to deal with classroom management . you will be committed to raising standards and have good organisational and interpersonal skills . energy , ambition and enthusiasm are a must as a supply teacher with hays you will receive the following benefits : the support of a dedicated and experienced consultant within secondary education plenty of variety and a choice of work from day to day cover and longterm assignments competitive rates of pay excellent opportunities for cpd keep more of your hard earned pay by using hay ' s approved payroll partner . we can help you keep more of your earnings through taxefficient payment methods . details provided upon application . hays education is an accredited quality mark company and is committed to a policy of equal opportunities . we respect and value cultural and religious diversity and will not discriminate on the basis of age , gender , sexual orientation , race , ethnic origin , religion , culture or disability . each individual is assessed on merit alone .\",\n       \"position : qualified teacher subject / specialism : english , maths , science , mfl , dt , geography , history , humanities , pe , ict location : east wiltshire contract : temporary / supply pay : **** to **** per week a number of secondary schools in east wiltshire are looking for teachers and nqts for long term and short term roles to start asap . as a supply teacher you will have the opportunity to teach your specialised subject in a variety of different schools . you will also have the opportunity to cover a variety of other subjects including english , maths , science , design technology , ict , history , geography and more as well as teaching your own subject which you have trained to teach in . lessons will be planned and you will be expected to deliver it to the classroom and manage the pupils . it is vital that you have strong classroom management skills and are prepared to cover at short notice . to this end you will be reliable , resourceful and ready for anything if you have been applying for jobs but have been struggling to secure a permanent role within a school then working as a supply teacher offers the perfect opportunity to get your foot through the door with many schools in the local area . more often than not a reliable supply teacher will be offered the opportunity to stay on as a permanent member of staff . it also allows you the chance to find out which schools you would like to be permanently based in before going on to applying for a permanent role with them . we will ensure you get the most out of your time as a supply teacher . now is an excellent time to be registering with us to gain yourself vital experience within a school and support your future career . as a supply teacher with hays you will receive the following benefits : the support of a dedicated and experienced consultant within secondary education plenty of variety and a choice of work from day to day cover and longterm assignments competitive rates of pay excellent opportunities for cpd keep more of your hard earned pay by using hay ' s approved payroll partner . we can help you keep more of your earnings through taxefficient payment methods . details provided upon application . hays education is an accredited quality mark company and is committed to a policy of equal opportunities . we respect and value cultural and religious diversity and will not discriminate on the basis of age , gender , sexual orientation , race , ethnic origin , religion , culture or disability . each individual is assessed on merit alone .\",\n       'this entrepreneurial and growing private equity backed company is looking for an accountant to join them and support the fd in running the finance function . as the accountant you will manage a team of three accounts clerk and take responsibility for maintaining up to date and accurate financial records , preparing monthly management accounts and overseeing the ledgers , payroll and bank reconciliations . you will also provide the operational teams with relevant financial information . this would be an ideal opportunity for someone looking for their first move from practice or for someone already in an sme looking for a step up . you must be qualified ( aca / acca / cima ) and have strong it skills .'],\n      dtype=object)"
          },
          "metadata": {}
        }
      ]
    },
    {
      "cell_type": "code",
      "source": [
        "from collections import Counter\n",
        "token_counts = Counter()\n",
        "\n",
        "# Count how many times does each token occur in both \"Title\" and \"FullDescription\" in total\n",
        "for x in data[\"FullDescription\"].values + data[\"Title\"].values:\n",
        "  token_counts.update(x.split())\n"
      ],
      "metadata": {
        "id": "5grHU68PA7CE",
        "execution": {
          "iopub.status.busy": "2023-10-04T11:52:00.017410Z",
          "iopub.execute_input": "2023-10-04T11:52:00.018443Z",
          "iopub.status.idle": "2023-10-04T11:52:12.400848Z",
          "shell.execute_reply.started": "2023-10-04T11:52:00.018399Z",
          "shell.execute_reply": "2023-10-04T11:52:12.399920Z"
        },
        "trusted": true
      },
      "execution_count": null,
      "outputs": []
    },
    {
      "cell_type": "code",
      "source": [
        "print(\"Total unique tokens :\", len(token_counts))\n",
        "print('\\n'.join(map(str, token_counts.most_common(n=5))))\n",
        "print('...')\n",
        "print('\\n'.join(map(str, token_counts.most_common()[-3:])))\n",
        "\n",
        "assert token_counts.most_common(1)[0][1] in  range(2600000, 2700000)\n",
        "print('Correct!')"
      ],
      "metadata": {
        "id": "eegzOpt9A7CE",
        "colab": {
          "base_uri": "https://localhost:8080/"
        },
        "outputId": "2a93bdca-3cbd-4643-eaea-3ffb8b6f24f9",
        "execution": {
          "iopub.status.busy": "2023-10-04T11:52:12.402698Z",
          "iopub.execute_input": "2023-10-04T11:52:12.403306Z",
          "iopub.status.idle": "2023-10-04T11:52:12.533488Z",
          "shell.execute_reply.started": "2023-10-04T11:52:12.403275Z",
          "shell.execute_reply": "2023-10-04T11:52:12.532584Z"
        },
        "trusted": true
      },
      "execution_count": null,
      "outputs": [
        {
          "name": "stdout",
          "text": "Total unique tokens : 253743\n('and', 2657309)\n('.', 2453599)\n(',', 2317992)\n('the', 2080902)\n('to', 2018611)\n...\n('stephanietraveltraderecruitmnt', 1)\n('ruabon', 1)\n('lowehays', 1)\nCorrect!\n",
          "output_type": "stream"
        }
      ]
    },
    {
      "cell_type": "code",
      "source": [
        "# Let's see how many words are there for each count\n",
        "plt.hist(list(token_counts.values()), range=[0, 10**4], bins=150, log=True)\n",
        "plt.xlabel(\"Word counts\");"
      ],
      "metadata": {
        "id": "Hgz4_k06A7CE",
        "colab": {
          "base_uri": "https://localhost:8080/",
          "height": 449
        },
        "outputId": "c571039a-cec2-418c-b58c-05039d8df5c7",
        "execution": {
          "iopub.status.busy": "2023-10-04T11:52:12.534817Z",
          "iopub.execute_input": "2023-10-04T11:52:12.535738Z",
          "iopub.status.idle": "2023-10-04T11:52:14.160069Z",
          "shell.execute_reply.started": "2023-10-04T11:52:12.535708Z",
          "shell.execute_reply": "2023-10-04T11:52:14.159162Z"
        },
        "trusted": true
      },
      "execution_count": null,
      "outputs": [
        {
          "output_type": "display_data",
          "data": {
            "text/plain": "<Figure size 640x480 with 1 Axes>",
            "image/png": "[encoded data removed]"
          },
          "metadata": {}
        }
      ]
    },
    {
      "cell_type": "markdown",
      "source": [
        "Get a list of all tokens that occur at least 11 times."
      ],
      "metadata": {
        "id": "Sgo899oJA7CF"
      }
    },
    {
      "cell_type": "code",
      "source": [
        "min_count = 11\n",
        "\n",
        "# tokens from token_counts keys that had at least min_count occurrences throughout the dataset\n",
        "tokens = sorted(t for t, c in token_counts.items() if c >= min_count)\n",
        "# Add a special tokens for unknown and empty words\n",
        "UNK, PAD = \"UNK\", \"PAD\"\n",
        "tokens = [UNK, PAD] + tokens"
      ],
      "metadata": {
        "id": "-om2PzgnA7CF",
        "execution": {
          "iopub.status.busy": "2023-10-04T11:52:14.161462Z",
          "iopub.execute_input": "2023-10-04T11:52:14.162033Z",
          "iopub.status.idle": "2023-10-04T11:52:14.206799Z",
          "shell.execute_reply.started": "2023-10-04T11:52:14.162000Z",
          "shell.execute_reply": "2023-10-04T11:52:14.205970Z"
        },
        "trusted": true
      },
      "execution_count": null,
      "outputs": []
    },
    {
      "cell_type": "code",
      "source": [
        "tokens[::20]"
      ],
      "metadata": {
        "colab": {
          "base_uri": "https://localhost:8080/"
        },
        "id": "THgSxwbxbjmV",
        "outputId": "ed98fbad-65f6-4a7e-91b2-22a88bcce43a",
        "execution": {
          "iopub.status.busy": "2023-10-04T11:52:14.208126Z",
          "iopub.execute_input": "2023-10-04T11:52:14.209055Z",
          "iopub.status.idle": "2023-10-04T11:52:14.226131Z",
          "shell.execute_reply.started": "2023-10-04T11:52:14.209023Z",
          "shell.execute_reply": "2023-10-04T11:52:14.225125Z"
        },
        "trusted": true
      },
      "execution_count": null,
      "outputs": [
        {
          "execution_count": 17,
          "output_type": "execute_result",
          "data": {
            "text/plain": "['UNK',\n \"')\",\n '(****)',\n '(‘',\n ').senior',\n ')c',\n ')front',\n ')mortgage',\n ')registered',\n ')trainee',\n '****(****)****',\n '****/',\n '****:****:',\n '****ad',\n '****apprentice',\n '****b',\n '****building',\n '****cdp',\n '****clerical',\n '****conference',\n '****creative',\n '****desktop',\n '****duty',\n '****endoscopy',\n '****executive',\n '****fleet',\n '****fundraising',\n '****hgv',\n '****inbound',\n '****ios',\n '****leading',\n '****machine',\n '****mental',\n '****nhs',\n '****optical',\n '****payroll',\n '****power',\n '****professional',\n '****real',\n '****resourcing',\n '****scientific',\n '****sipp',\n '****staff',\n '****systems',\n '****tester',\n '****unit',\n '****welder',\n '++),',\n ',head',\n '.1st',\n '.adult',\n '.art',\n '.band',\n '.c',\n '.ce',\n '.cleaner',\n '.compiler',\n '.corporate',\n '.demand',\n '.door',\n '.emea',\n '.excellent',\n '.fire',\n '.functional',\n '.hgv',\n '.immigration',\n '.inventory',\n '.leading',\n '.m',\n '.mechanical',\n '.multiskilled',\n '.obiee',\n '.paediatric',\n '.perm',\n '.ppa',\n '.project',\n '.recruitment',\n '.reward',\n '.seasonal',\n '.sipp',\n '.start',\n '.sustainability',\n '.territory',\n '.unit',\n '.web',\n '.”',\n '/.',\n '00am',\n '03',\n '100million',\n '10million',\n '1216',\n '13th',\n '15pm',\n '18',\n '1984',\n '1am',\n '20022',\n '2013business',\n '2017',\n '21',\n '25m',\n '29',\n '30',\n '30am6pm',\n '333',\n '39hrs',\n '3years',\n '45k',\n '4th',\n '550m',\n '5th',\n '65365care',\n '6pm6am',\n '79',\n '810',\n '8am4',\n '9002',\n '9am12pm',\n ':****/',\n ';',\n \"?'\",\n '],',\n 'a1cae',\n 'aar',\n 'abap',\n 'aberdare',\n 'able',\n 'abrassociates',\n 'abu',\n 'acca',\n 'accessibility',\n 'accommodating',\n 'accordance',\n 'accountmanager_job',\n 'accrue',\n 'acheivable',\n 'acis',\n 'acorn',\n 'acr',\n 'actions',\n 'actors',\n 'adabas',\n 'adastra',\n 'additions',\n 'adelman',\n 'adidas',\n 'admincharterhouserecruitment',\n 'adminsitrator',\n 'adobe',\n 'ads',\n 'advent',\n 'advertorials',\n 'advocates',\n 'aerostructures',\n 'affected',\n 'afghanistan',\n 'aftersales',\n 'agencycare',\n 'aggregate',\n 'agreeable',\n 'aherne',\n 'aig',\n 'airfare',\n 'ais',\n 'alarge',\n 'ald',\n 'alerted',\n 'algo',\n 'alive',\n 'allerton',\n 'allotted',\n 'almo',\n 'also',\n 'although',\n 'amada',\n 'ambiguous',\n 'amendment',\n 'amigo',\n 'amplifier',\n 'ana',\n 'analysing',\n 'ance',\n 'andriod',\n 'anglesey',\n 'annan',\n 'annuity',\n 'answer',\n 'anticipates',\n 'anursing',\n 'ap',\n 'apmi',\n 'appearing',\n 'applications',\n 'applyregistered',\n 'appraisal',\n 'approach',\n 'apps',\n 'aptitudes',\n 'arable',\n 'archie',\n 'area',\n 'argyll',\n 'armour',\n 'array',\n 'artefact',\n 'artillery',\n 'as9001',\n 'ascent',\n 'ashby',\n 'asia',\n 'asp',\n 'aspnetdeveloper_job',\n 'assertively',\n 'assigned',\n 'assistantquantitysurveyor_job',\n 'assortment',\n 'astart',\n 'asv',\n 'atherstone',\n 'atleast',\n 'att',\n 'attendances',\n 'attitudes',\n 'atv',\n 'audit',\n 'auld',\n 'authentically',\n 'authors',\n 'automations',\n 'avaialble',\n 'averaged',\n 'avoiding',\n 'awarenessaccreditation',\n 'axis',\n 'azure',\n 'baccalaureate',\n 'backing',\n 'bacteria',\n 'bagshot',\n 'baking',\n 'balloons',\n 'banbridge',\n 'banked',\n 'banstead',\n 'bardon',\n 'barnett',\n 'barristers',\n 'baseband',\n 'basilson',\n 'bath',\n 'bayesian',\n 'bcp',\n 'beacons',\n 'beats',\n 'beckton',\n 'beech',\n 'begins',\n 'belgrave',\n 'belonging',\n 'benchmarks',\n 'benefitsbusiness',\n 'benefitted',\n 'benvenuto',\n 'berwick',\n 'bet',\n 'bex',\n 'bhf',\n 'bidder',\n 'bikes',\n 'bin',\n 'biochemist',\n 'biomass',\n 'biostatistician',\n 'births',\n 'bjelan',\n 'blade',\n 'bleedingedge',\n 'bloggers',\n 'bluearrow',\n 'bluetooth',\n 'bma',\n 'boardlevel',\n 'bodmin',\n 'bolster',\n 'bondselection',\n 'bookcases',\n 'booster',\n 'borders',\n 'borrowing',\n 'bottlenecks',\n 'bout',\n 'boyd',\n 'bpw',\n 'braille',\n 'branchmanager_job',\n 'brassiere',\n 'brbryou',\n 'breakout',\n 'brennand',\n 'brick',\n 'bridport',\n 'brightside',\n 'briskona',\n 'broadbent',\n 'brocade',\n 'bromsgrove',\n 'browning',\n 'brunch',\n 'bsf',\n 'bubb',\n 'buddies',\n 'bugs',\n 'bulbs',\n 'bunbury',\n 'bureaux',\n 'burning',\n 'bushey',\n 'businessdevelopmentmanager',\n 'businessnvq',\n 'businesstoconsumer',\n 'button',\n 'buzz',\n 'byron',\n 'cabling',\n 'caerdydd',\n 'cake',\n 'calendar',\n 'callcentremanagerjobs',\n 'calorifiers',\n 'camera',\n 'campuses',\n 'canddiate',\n 'cannot',\n 'capa',\n 'capitalises',\n 'capturing',\n 'cardiac',\n 'careers',\n 'cares',\n 'carlisle',\n 'caroline',\n 'carriers',\n 'cartref',\n 'caseltonclark',\n 'casing',\n 'castlerock',\n 'catchment',\n 'catford',\n 'cattrell',\n 'cbap',\n 'ccdp',\n 'ccr',\n 'cdi',\n 'cefa',\n 'cells',\n 'centered',\n 'centro',\n 'cern',\n 'certussales',\n 'cfr',\n 'chaired',\n 'champagnes',\n 'changers',\n 'characterising',\n 'charity',\n 'chartering',\n 'chatty',\n 'checklist',\n 'chefs',\n 'cherish',\n 'chicago',\n 'childrenteacher',\n 'chipping',\n 'chocolatier',\n 'chrislynesspectrumit',\n 'chunks',\n 'cii',\n 'circa',\n 'cisi',\n 'citybased',\n 'claas',\n 'clare',\n 'class1',\n 'classy',\n 'cleantech',\n 'cleckheaton',\n 'clicked',\n 'clientservicesmanager_job',\n 'clinician',\n 'closed',\n 'cloudfoundry',\n 'clyde',\n 'cml',\n 'cnp',\n 'coater',\n 'coclinical',\n 'coders',\n 'cognate',\n 'col',\n 'coleville',\n 'collating',\n 'collegiate',\n 'colourful',\n 'comarea',\n 'comcats',\n 'comdrupal',\n 'comglobal',\n 'comjava',\n 'commended',\n 'commerciality',\n 'commissioner',\n 'commodity',\n 'communities',\n 'comoperations',\n 'companysenior',\n 'compatability',\n 'competetive',\n 'complacent',\n 'complex',\n 'compliments',\n 'comprehending',\n 'compromised',\n 'computing',\n 'comsite',\n 'concentrate',\n 'concerning',\n 'concorde',\n 'conduction',\n 'confidential',\n 'confirmed',\n 'confusion',\n 'connects',\n 'consecutively',\n 'considerable',\n 'consists',\n 'constitutional',\n 'consultancies',\n 'consumerfacing',\n 'contactedteaching',\n 'contemporary',\n 'continous',\n 'contraction',\n 'contributor',\n 'convenient',\n 'converter',\n 'convince',\n 'cool',\n 'coordinated',\n 'coporate',\n 'cor',\n 'corkett',\n 'corporatewide',\n 'corresponds',\n 'cosine',\n 'costly',\n 'council',\n 'counters',\n 'courage',\n 'cover',\n 'cp',\n 'cppd',\n 'cracking',\n 'cranes',\n 'creams',\n 'credibly',\n 'crest',\n 'criminals',\n 'crms',\n 'crossasset',\n 'crosshouse',\n 'crosstrained',\n 'cruise',\n 'cs1000',\n 'csi',\n 'ct',\n 'cube',\n 'cultivating',\n 'cupboards',\n 'curriculum',\n 'customeraccountmanager_job',\n 'customerservicemanagerjobs',\n 'cutoffs',\n 'cvc',\n 'cvs',\n 'cxos',\n 'cymorth',\n 'd',\n 'daily',\n 'dampers',\n 'dante',\n 'dash',\n 'datadriven',\n 'datawarehousing',\n 'davies',\n 'day',\n 'dbase',\n 'dcww',\n 'deaf',\n 'dear',\n 'debriefs',\n 'decide',\n 'declared',\n 'decorators',\n 'deem',\n 'defect',\n 'definite',\n 'dejeuner',\n 'deliberate',\n 'delivering',\n 'demandware',\n 'demonstratable',\n 'dennis',\n 'departmentmanager_job',\n 'deployment',\n 'depute',\n 'derivation',\n 'descriptionfull',\n 'designer_job',\n 'desktop',\n 'detailbusiness',\n 'detective',\n 'detriment',\n 'developing',\n 'devise',\n 'dewranceaaronwallis',\n 'dfss',\n 'diagnosis',\n 'diamonds',\n 'dictionaries',\n 'differ',\n 'diffuse',\n 'digitalprojectmanager_job',\n 'dined',\n 'diplomatically',\n 'directorship',\n 'disappointmentcapita',\n 'disciplining',\n 'discoveries',\n 'diseases',\n 'disorder',\n 'displayed',\n 'disrupting',\n 'distill',\n 'distributers',\n 'diversification',\n 'divison',\n 'dma',\n 'dnc',\n 'doctoral',\n 'doer',\n 'domestically',\n 'donated',\n 'doolanliquidpersonnel',\n 'dosing',\n 'doubtful',\n 'download',\n 'dozen',\n 'drafts',\n 'draughts',\n 'dreams',\n 'drills',\n 'drl',\n 'drupal',\n 'dsl',\n 'du',\n 'duites',\n 'dundee',\n 'durch',\n 'dvla',\n 'dye',\n 'e',\n 'eame',\n 'earnings',\n 'easingwold',\n 'eateries',\n 'ebury',\n 'ecircle',\n 'ecomms',\n 'ecrm',\n 'edgbaston',\n 'editor',\n 'education',\n 'een',\n 'effluent',\n 'eggplant',\n 'eich',\n 'eka',\n 'elearning',\n 'electrifying',\n 'elegance',\n 'elicitation',\n 'ellesmere',\n 'elswimrecruit',\n 'emap',\n 'emblem',\n 'emergency',\n 'emotional',\n 'employability',\n 'employerpart',\n 'empowering',\n 'enablers',\n 'encore',\n 'ended',\n 'endpoints',\n 'enfield',\n 'enginee',\n 'english',\n 'enjoytechnical',\n 'enquiring',\n 'ensuring',\n 'enterprisesized',\n 'enthusing',\n 'entrepreneurialism',\n 'enviroments',\n 'epc',\n 'epo',\n 'equalling',\n 'equired',\n 'eradication',\n 'ergonomics',\n 'erts',\n 'eserve',\n 'esponsibilities',\n 'essentialsenior',\n 'estimate',\n 'etas',\n 'etiquette',\n 'eurocodes',\n 'evaluate',\n 'evenings',\n 'everybody',\n 'evolution',\n 'exadata',\n 'exceeding',\n 'excesses',\n 'exclusions',\n 'executive',\n 'exert',\n 'existence',\n 'expat',\n 'expeditiously',\n 'experieince',\n 'experienceprevious',\n 'experince',\n 'explanatory',\n 'exponentially',\n 'exquisite',\n 'externals',\n 'extreme',\n 'eyesight',\n 'fabric',\n 'facet',\n 'fact',\n 'fahymatchtech',\n 'fairs',\n 'fam',\n 'fanatics',\n 'farmed',\n 'fascinating',\n 'fastfit',\n 'faultfinding',\n 'fawley',\n 'fcnsp',\n 'feasibility',\n 'fee',\n 'felixstowe',\n 'fera',\n 'fetch',\n 'fibersim',\n 'fieldsales',\n 'figaro',\n 'filling',\n 'finalist',\n 'financiers',\n 'finger',\n 'fire',\n 'firmwide',\n 'fisheries',\n 'fitzpatrick',\n 'fixturing',\n 'flashing',\n 'fleetwood',\n 'flextime',\n 'floorplanning',\n 'flown',\n 'flushing',\n 'fms',\n 'focussing',\n 'following',\n 'foodrelated',\n 'fora',\n 'foreign',\n 'forgetting',\n 'formative',\n 'formulates',\n 'fortunate',\n 'fostercarers',\n 'fourday',\n 'fpi',\n 'fraine',\n 'francis',\n 'free',\n 'freezer',\n 'freshminds',\n 'frimley',\n 'frontoffice',\n 'frying',\n 'ftir',\n 'fulfil',\n 'fulltime',\n 'fundamental',\n 'funnel',\n 'fuses',\n 'fyfe',\n 'gain',\n 'galmorgan',\n 'gang',\n 'gardiner',\n 'garth',\n 'gastrostomy',\n 'gatley',\n 'gcb',\n 'ge',\n 'genders',\n 'generic',\n 'gentlemen',\n 'geophysical',\n 'geotechnical',\n 'gfr',\n 'gibb',\n 'gillett',\n 'giveaways',\n 'glasses',\n 'gll',\n 'glowing',\n 'gnfr',\n 'godstone',\n 'golf',\n 'goretail',\n 'governing',\n 'gpus',\n 'graduatebusinessanalyst_job',\n 'grafter',\n 'grant',\n 'gratuities',\n 'greatly',\n 'greenrecruitmentcompany',\n 'grey',\n 'grip',\n 'grosvenor',\n 'groups',\n 'gscc',\n 'guarantee',\n 'guidance',\n 'guitar',\n 'gwaith',\n 'gyflogwr',\n 'habitats',\n 'haemostasis',\n 'halfords',\n 'haml',\n 'handball',\n 'handling',\n 'handymen',\n 'happening',\n 'harder',\n 'harm',\n 'harris1stexecutive',\n 'harvester',\n 'hatfield',\n 'having',\n 'haysnqtuk',\n 'hca',\n 'hd',\n 'headhunter',\n 'headship',\n 'healthplan',\n 'heater',\n 'hectic',\n 'heir',\n 'helpfulness',\n 'henley',\n 'herein',\n 'hertforshire',\n 'hex',\n 'hibernate3',\n 'highassurance',\n 'highlevel',\n 'highperformance',\n 'highways',\n 'hindi',\n 'historians',\n 'hjob',\n 'hmrc',\n 'hockey',\n 'holding',\n 'holland',\n 'holywood',\n 'homer',\n 'honey',\n 'hoover',\n 'hornbill',\n 'hoskinsberkeleyscott',\n 'hotel',\n 'hourly',\n 'housewares',\n 'howsonevolutionjobs',\n 'hre',\n 'hsc',\n 'html5',\n 'huish',\n 'hums',\n 'huntress',\n 'hvca',\n 'hydroelectric',\n 'hyland',\n 'i2c',\n 'ibjx',\n 'icif',\n 'icu',\n 'identities',\n 'ieem',\n 'ig',\n 'iii',\n 'illuminated',\n 'imac',\n 'imitative',\n 'immigration',\n 'impacts',\n 'impetus',\n 'importance',\n 'impromptu',\n 'inaccurate',\n 'incentral',\n 'inclusive',\n 'incorporating',\n 'incurable',\n 'independents',\n 'indira',\n 'induction',\n 'industrystandard',\n 'infastructure',\n 'inflow',\n 'infomation',\n 'informationhgv',\n 'infrared',\n 'ingress',\n 'initiates',\n 'inks',\n 'innovates',\n 'input',\n 'inserting',\n 'insouth',\n 'installations',\n 'instill',\n 'instructions',\n 'insures',\n 'integrators',\n 'intensively',\n 'interconnected',\n 'interests',\n 'intermediate',\n 'internships',\n 'interprocess',\n 'interventional',\n 'intimacy',\n 'intrinsically',\n 'inv',\n 'inverurie',\n 'investors',\n 'invoices',\n 'iona',\n 'ipl',\n 'ipt',\n 'ird',\n 'irregular',\n 'isdn',\n 'ismm',\n 'isolate',\n 'issuer',\n 'itc',\n 'itnmark',\n 'iv',\n 'ixia',\n 'jacqui',\n 'jana',\n 'jasmin',\n 'jay',\n 'jdedwards',\n 'jennifer',\n 'jetty',\n 'jigs',\n 'jmock',\n 'jobber',\n 'jobsgraduate',\n 'jobssucceedrecruitment',\n 'johnson',\n 'jon',\n 'journal',\n 'jrules',\n 'judged',\n 'julie',\n 'jurisdiction',\n 'jv',\n 'kanani',\n 'kasey',\n 'kayleigh',\n 'kcommission',\n 'keepers',\n 'ken',\n 'kentscp',\n 'kexcellent',\n 'keyworker',\n 'kickstartsynergygroup',\n 'kim',\n 'kingdomassistant',\n 'kinship',\n 'kitchens',\n 'knack',\n 'knowhow',\n 'kofax',\n 'kpackage',\n 'ks1',\n 'kuka',\n 'l1',\n 'labs',\n 'laft',\n 'lamda',\n 'landed',\n 'lanes',\n 'lar',\n 'lat',\n 'laugh',\n 'lavender',\n 'layers',\n 'lcd',\n 'le',\n 'leadtimes',\n 'leap',\n 'leatham',\n 'ledger',\n 'legalisation',\n 'legoland',\n 'lenders',\n 'les',\n 'lettings',\n 'leveraged',\n 'lfearn',\n 'liaising',\n 'licences',\n 'lifechanging',\n 'lifethreatening',\n 'likeminded',\n 'lincolnshire',\n 'lines',\n 'linkedinjam',\n 'lipmannigelfrank',\n 'listen',\n 'litho',\n 'lively',\n 'llandrindod',\n 'lmc',\n 'loans',\n 'location',\n 'lodgements',\n 'logistic',\n 'london',\n 'longbridge',\n 'lonus',\n 'lops',\n 'lott',\n 'louth',\n 'lower',\n 'lpi',\n 'lss',\n 'lucas',\n 'lunan',\n 'luxurious',\n 'lync',\n 'm25',\n 'mac',\n 'macildowie',\n 'made',\n 'magnetics',\n 'mailed',\n 'mainly',\n 'maintenancetechnician_job',\n 'malaysian',\n 'malnutrition',\n 'managed',\n 'managerially',\n 'manageryou',\n 'mane',\n 'manipulate',\n 'mansfield',\n 'manufacturinglabourer',\n 'mara',\n 'marginbottom',\n 'marked',\n ...]"
          },
          "metadata": {}
        }
      ]
    },
    {
      "cell_type": "code",
      "source": [
        "print(\"Vocabulary size:\", len(tokens))\n",
        "assert type(tokens) == list\n",
        "assert len(tokens) in range(32000, 35000)\n",
        "assert 'me' in tokens\n",
        "assert UNK in tokens\n",
        "print(\"Correct!\")"
      ],
      "metadata": {
        "id": "842QDyUNA7CF",
        "colab": {
          "base_uri": "https://localhost:8080/"
        },
        "outputId": "2b2d46d9-3417-48f7-a416-64f44405b8c7",
        "execution": {
          "iopub.status.busy": "2023-10-04T11:52:14.227694Z",
          "iopub.execute_input": "2023-10-04T11:52:14.228391Z",
          "iopub.status.idle": "2023-10-04T11:52:14.237054Z",
          "shell.execute_reply.started": "2023-10-04T11:52:14.228336Z",
          "shell.execute_reply": "2023-10-04T11:52:14.235667Z"
        },
        "trusted": true
      },
      "execution_count": null,
      "outputs": [
        {
          "name": "stdout",
          "text": "Vocabulary size: 34778\nCorrect!\n",
          "output_type": "stream"
        }
      ]
    },
    {
      "cell_type": "markdown",
      "source": [
        "Build an inverse token index: a dictionary from token(string) to it's index in `tokens` (int)"
      ],
      "metadata": {
        "id": "3VY29TQ6A7CF"
      }
    },
    {
      "cell_type": "markdown",
      "source": [],
      "metadata": {
        "id": "A2QVWVqbciEJ"
      }
    },
    {
      "cell_type": "code",
      "source": [
        "token_to_id = {}\n",
        "for i, x in enumerate(tokens):\n",
        "  token_to_id[x] = i"
      ],
      "metadata": {
        "id": "4vXPQkCSA7CF",
        "execution": {
          "iopub.status.busy": "2023-10-04T11:52:14.238807Z",
          "iopub.execute_input": "2023-10-04T11:52:14.239475Z",
          "iopub.status.idle": "2023-10-04T11:52:14.255076Z",
          "shell.execute_reply.started": "2023-10-04T11:52:14.239442Z",
          "shell.execute_reply": "2023-10-04T11:52:14.254157Z"
        },
        "trusted": true
      },
      "execution_count": null,
      "outputs": []
    },
    {
      "cell_type": "code",
      "source": [
        "assert isinstance(token_to_id, dict)\n",
        "assert len(token_to_id) == len(tokens)\n",
        "for tok in tokens:\n",
        "    assert tokens[token_to_id[tok]] == tok\n",
        "\n",
        "print(\"Correct!\")"
      ],
      "metadata": {
        "id": "BL3v2cmkA7CF",
        "colab": {
          "base_uri": "https://localhost:8080/"
        },
        "outputId": "411e0e6f-fabc-4c88-e485-4cf239462aee",
        "execution": {
          "iopub.status.busy": "2023-10-04T11:52:14.256316Z",
          "iopub.execute_input": "2023-10-04T11:52:14.256651Z",
          "iopub.status.idle": "2023-10-04T11:52:14.273674Z",
          "shell.execute_reply.started": "2023-10-04T11:52:14.256619Z",
          "shell.execute_reply": "2023-10-04T11:52:14.272438Z"
        },
        "trusted": true
      },
      "execution_count": null,
      "outputs": [
        {
          "name": "stdout",
          "text": "Correct!\n",
          "output_type": "stream"
        }
      ]
    },
    {
      "cell_type": "markdown",
      "source": [
        "And finally, let's use the vocabulary I've built to map text lines into neural network-digestible matrices."
      ],
      "metadata": {
        "id": "Dl0o64twA7CF"
      }
    },
    {
      "cell_type": "code",
      "source": [
        "UNK_IX, PAD_IX = map(token_to_id.get, [UNK, PAD])\n",
        "\n",
        "def as_matrix(sequences, max_len=None):\n",
        "    \"\"\" Convert a list of tokens into a matrix with padding \"\"\"\n",
        "    if isinstance(sequences[0], str):\n",
        "        sequences = list(map(str.split, sequences))\n",
        "\n",
        "    max_len = min(max(map(len, sequences)), max_len or float('inf'))\n",
        "\n",
        "    matrix = np.full((len(sequences), max_len), np.int32(PAD_IX))\n",
        "    for i,seq in enumerate(sequences):\n",
        "        row_ix = [token_to_id.get(word, UNK_IX) for word in seq[:max_len]]\n",
        "        matrix[i, :len(row_ix)] = row_ix\n",
        "\n",
        "    return matrix"
      ],
      "metadata": {
        "id": "-H-0e6uZA7CG",
        "execution": {
          "iopub.status.busy": "2023-10-04T11:52:14.275142Z",
          "iopub.execute_input": "2023-10-04T11:52:14.275663Z",
          "iopub.status.idle": "2023-10-04T11:52:14.284681Z",
          "shell.execute_reply.started": "2023-10-04T11:52:14.275622Z",
          "shell.execute_reply": "2023-10-04T11:52:14.283989Z"
        },
        "trusted": true
      },
      "execution_count": null,
      "outputs": []
    },
    {
      "cell_type": "code",
      "source": [
        "print(\"Lines:\")\n",
        "print('\\n'.join(data[\"Title\"][::100000].values), end='\\n\\n')\n",
        "print(\"Matrix:\")\n",
        "print(as_matrix(data[\"Title\"][::100000]))"
      ],
      "metadata": {
        "id": "Bq0zJd72A7CG",
        "colab": {
          "base_uri": "https://localhost:8080/"
        },
        "outputId": "feb64d48-f6d4-4229-b730-e9072d19bf18",
        "execution": {
          "iopub.status.busy": "2023-10-04T11:52:14.285832Z",
          "iopub.execute_input": "2023-10-04T11:52:14.286648Z",
          "iopub.status.idle": "2023-10-04T11:52:14.297278Z",
          "shell.execute_reply.started": "2023-10-04T11:52:14.286617Z",
          "shell.execute_reply": "2023-10-04T11:52:14.295687Z"
        },
        "trusted": true
      },
      "execution_count": null,
      "outputs": [
        {
          "name": "stdout",
          "text": "Lines:\nengineering systems analyst\nhr assistant\nsenior ec & i engineer\n\nMatrix:\n[[12126 30668  3623     1     1]\n [16152  4292     1     1     1]\n [28276 11522    14 16339 12121]]\n",
          "output_type": "stream"
        }
      ]
    },
    {
      "cell_type": "markdown",
      "source": [
        "Now let's  encode the categirical data we have.\n",
        "\n",
        "As usual, we shall use one-hot encoding for simplicity."
      ],
      "metadata": {
        "id": "8AP6m9mJA7CG"
      }
    },
    {
      "cell_type": "code",
      "source": [
        "from sklearn.feature_extraction import DictVectorizer\n",
        "\n",
        "# we only consider top-1k most frequent companies to minimize memory usage\n",
        "top_companies, top_counts = zip(*Counter(data['Company']).most_common(1000))\n",
        "recognized_companies = set(top_companies)\n",
        "data[\"Company\"] = data[\"Company\"].apply(lambda comp: comp if comp in recognized_companies else \"Other\")\n",
        "\n",
        "categorical_vectorizer = DictVectorizer(dtype=np.float32, sparse=False)\n",
        "categorical_vectorizer.fit(data[categorical_columns].apply(dict, axis=1))"
      ],
      "metadata": {
        "id": "PuQ3tVMAA7CG",
        "colab": {
          "base_uri": "https://localhost:8080/",
          "height": 74
        },
        "outputId": "411b5105-6037-40d3-e3e5-94a4b4d50f42",
        "execution": {
          "iopub.status.busy": "2023-10-04T11:52:14.298768Z",
          "iopub.execute_input": "2023-10-04T11:52:14.299434Z",
          "iopub.status.idle": "2023-10-04T11:52:18.797911Z",
          "shell.execute_reply.started": "2023-10-04T11:52:14.299403Z",
          "shell.execute_reply": "2023-10-04T11:52:18.796899Z"
        },
        "trusted": true
      },
      "execution_count": null,
      "outputs": [
        {
          "execution_count": 23,
          "output_type": "execute_result",
          "data": {
            "text/plain": "DictVectorizer(dtype=<class 'numpy.float32'>, sparse=False)",
            "text/html": "<style>#sk-container-id-1 {color: black;background-color: white;}#sk-container-id-1 pre{padding: 0;}#sk-container-id-1 div.sk-toggleable {background-color: white;}#sk-container-id-1 label.sk-toggleable__label {cursor: pointer;display: block;width: 100%;margin-bottom: 0;padding: 0.3em;box-sizing: border-box;text-align: center;}#sk-container-id-1 label.sk-toggleable__label-arrow:before {content: \"▸\";float: left;margin-right: 0.25em;color: #696969;}#sk-container-id-1 label.sk-toggleable__label-arrow:hover:before {color: black;}#sk-container-id-1 div.sk-estimator:hover label.sk-toggleable__label-arrow:before {color: black;}#sk-container-id-1 div.sk-toggleable__content {max-height: 0;max-width: 0;overflow: hidden;text-align: left;background-color: #f0f8ff;}#sk-container-id-1 div.sk-toggleable__content pre {margin: 0.2em;color: black;border-radius: 0.25em;background-color: #f0f8ff;}#sk-container-id-1 input.sk-toggleable__control:checked~div.sk-toggleable__content {max-height: 200px;max-width: 100%;overflow: auto;}#sk-container-id-1 input.sk-toggleable__control:checked~label.sk-toggleable__label-arrow:before {content: \"▾\";}#sk-container-id-1 div.sk-estimator input.sk-toggleable__control:checked~label.sk-toggleable__label {background-color: #d4ebff;}#sk-container-id-1 div.sk-label input.sk-toggleable__control:checked~label.sk-toggleable__label {background-color: #d4ebff;}#sk-container-id-1 input.sk-hidden--visually {border: 0;clip: rect(1px 1px 1px 1px);clip: rect(1px, 1px, 1px, 1px);height: 1px;margin: -1px;overflow: hidden;padding: 0;position: absolute;width: 1px;}#sk-container-id-1 div.sk-estimator {font-family: monospace;background-color: #f0f8ff;border: 1px dotted black;border-radius: 0.25em;box-sizing: border-box;margin-bottom: 0.5em;}#sk-container-id-1 div.sk-estimator:hover {background-color: #d4ebff;}#sk-container-id-1 div.sk-parallel-item::after {content: \"\";width: 100%;border-bottom: 1px solid gray;flex-grow: 1;}#sk-container-id-1 div.sk-label:hover label.sk-toggleable__label {background-color: #d4ebff;}#sk-container-id-1 div.sk-serial::before {content: \"\";position: absolute;border-left: 1px solid gray;box-sizing: border-box;top: 0;bottom: 0;left: 50%;z-index: 0;}#sk-container-id-1 div.sk-serial {display: flex;flex-direction: column;align-items: center;background-color: white;padding-right: 0.2em;padding-left: 0.2em;position: relative;}#sk-container-id-1 div.sk-item {position: relative;z-index: 1;}#sk-container-id-1 div.sk-parallel {display: flex;align-items: stretch;justify-content: center;background-color: white;position: relative;}#sk-container-id-1 div.sk-item::before, #sk-container-id-1 div.sk-parallel-item::before {content: \"\";position: absolute;border-left: 1px solid gray;box-sizing: border-box;top: 0;bottom: 0;left: 50%;z-index: -1;}#sk-container-id-1 div.sk-parallel-item {display: flex;flex-direction: column;z-index: 1;position: relative;background-color: white;}#sk-container-id-1 div.sk-parallel-item:first-child::after {align-self: flex-end;width: 50%;}#sk-container-id-1 div.sk-parallel-item:last-child::after {align-self: flex-start;width: 50%;}#sk-container-id-1 div.sk-parallel-item:only-child::after {width: 0;}#sk-container-id-1 div.sk-dashed-wrapped {border: 1px dashed gray;margin: 0 0.4em 0.5em 0.4em;box-sizing: border-box;padding-bottom: 0.4em;background-color: white;}#sk-container-id-1 div.sk-label label {font-family: monospace;font-weight: bold;display: inline-block;line-height: 1.2em;}#sk-container-id-1 div.sk-label-container {text-align: center;}#sk-container-id-1 div.sk-container {/* jupyter's `normalize.less` sets `[hidden] { display: none; }` but bootstrap.min.css set `[hidden] { display: none !important; }` so we also need the `!important` here to be able to override the default hidden behavior on the sphinx rendered scikit-learn.org. See: https://github.com/scikit-learn/scikit-learn/issues/21755 */display: inline-block !important;position: relative;}#sk-container-id-1 div.sk-text-repr-fallback {display: none;}</style><div id=\"sk-container-id-1\" class=\"sk-top-container\"><div class=\"sk-text-repr-fallback\"><pre>DictVectorizer(dtype=&lt;class &#x27;numpy.float32&#x27;&gt;, sparse=False)</pre><b>In a Jupyter environment, please rerun this cell to show the HTML representation or trust the notebook. <br />On GitHub, the HTML representation is unable to render, please try loading this page with nbviewer.org.</b></div><div class=\"sk-container\" hidden><div class=\"sk-item\"><div class=\"sk-estimator sk-toggleable\"><input class=\"sk-toggleable__control sk-hidden--visually\" id=\"sk-estimator-id-1\" type=\"checkbox\" checked><label for=\"sk-estimator-id-1\" class=\"sk-toggleable__label sk-toggleable__label-arrow\">DictVectorizer</label><div class=\"sk-toggleable__content\"><pre>DictVectorizer(dtype=&lt;class &#x27;numpy.float32&#x27;&gt;, sparse=False)</pre></div></div></div></div></div>"
          },
          "metadata": {}
        }
      ]
    },
    {
      "cell_type": "code",
      "source": [
        "data[categorical_columns].apply(dict, axis=1)"
      ],
      "metadata": {
        "colab": {
          "base_uri": "https://localhost:8080/"
        },
        "id": "kOjVQ3UqlC36",
        "outputId": "ee6140a3-148f-404a-eb76-2f1455ff562e",
        "execution": {
          "iopub.status.busy": "2023-10-04T11:52:18.799521Z",
          "iopub.execute_input": "2023-10-04T11:52:18.800458Z",
          "iopub.status.idle": "2023-10-04T11:52:22.469009Z",
          "shell.execute_reply.started": "2023-10-04T11:52:18.800424Z",
          "shell.execute_reply": "2023-10-04T11:52:22.468069Z"
        },
        "trusted": true
      },
      "execution_count": null,
      "outputs": [
        {
          "execution_count": 24,
          "output_type": "execute_result",
          "data": {
            "text/plain": "0         {'Category': 'Engineering Jobs', 'Company': 'G...\n1         {'Category': 'Engineering Jobs', 'Company': 'G...\n2         {'Category': 'Engineering Jobs', 'Company': 'G...\n3         {'Category': 'Engineering Jobs', 'Company': 'G...\n4         {'Category': 'Engineering Jobs', 'Company': 'G...\n                                ...                        \n244763    {'Category': 'Teaching Jobs', 'Company': 'NaN'...\n244764    {'Category': 'Teaching Jobs', 'Company': 'NaN'...\n244765    {'Category': 'Teaching Jobs', 'Company': 'NaN'...\n244766    {'Category': 'Teaching Jobs', 'Company': 'NaN'...\n244767    {'Category': 'Teaching Jobs', 'Company': 'NaN'...\nLength: 244768, dtype: object"
          },
          "metadata": {}
        }
      ]
    },
    {
      "cell_type": "markdown",
      "source": [
        "### The deep learning part\n",
        "\n",
        "Once we've learned to tokenize the data, let's design a machine learning experiment.\n",
        "\n",
        "As before, we won't focus too much on validation, opting for a simple train-test split.\n",
        "\n",
        "__To be completely rigorous,__ we've comitted a small crime here: we used the whole data for tokenization and vocabulary building. A more strict way would be to do that part on training set only. You may want to do that and measure the magnitude of changes."
      ],
      "metadata": {
        "id": "UVvA2LKxA7CG"
      }
    },
    {
      "cell_type": "code",
      "source": [
        "data.sample(8)"
      ],
      "metadata": {
        "colab": {
          "base_uri": "https://localhost:8080/",
          "height": 806
        },
        "id": "qbNKes7bT7ML",
        "outputId": "0012287d-fa42-4d5a-eb90-3f77a2bea58b",
        "execution": {
          "iopub.status.busy": "2023-10-04T11:52:22.470569Z",
          "iopub.execute_input": "2023-10-04T11:52:22.471262Z",
          "iopub.status.idle": "2023-10-04T11:52:22.494678Z",
          "shell.execute_reply.started": "2023-10-04T11:52:22.471212Z",
          "shell.execute_reply": "2023-10-04T11:52:22.493504Z"
        },
        "trusted": true
      },
      "execution_count": null,
      "outputs": [
        {
          "execution_count": 25,
          "output_type": "execute_result",
          "data": {
            "text/plain": "              Id                                              Title  \\\n163164  71213985      recruitment / office administrator nottingham   \n180750  71591758                      web front end & cms developer   \n100326  69539855                                          resourcer   \n244557  72697269                         business support assistant   \n63451   68704053                              engineers setting out   \n112348  69690165                                 interim hr manager   \n199706  71851592                                    project manager   \n114185  69748293  rgn sexual health , family planning , register...   \n\n                                          FullDescription  \\\n163164  recruitment / office administrator nottingham ...   \n180750  central brighton based business are looking fo...   \n100326  our client , a leading professional recruitmen...   \n244557  job purpose : the jobholder will be responsibl...   \n63451   a privately owned civil engineering contractor...   \n112348  huxley associates are currently working with a...   \n199706  scope manage projects to agreed time and cost ...   \n114185  position rgn sexual health , family planning ,...   \n\n                          LocationRaw LocationNormalized ContractType  \\\n163164                     Nottingham         Nottingham    full_time   \n180750                       Brighton           Brighton    full_time   \n100326             Reading, Berkshire            Reading          NaN   \n244557                  Hertfordshire      Hertfordshire          NaN   \n63451     Guildford Surrey South East          Guildford          NaN   \n112348          London London England             London          NaN   \n199706  Witney Oxfordshire South East             Witney          NaN   \n114185                          Essex              Essex          NaN   \n\n       ContractTime                 Company                   Category  \\\n163164          NaN                   Other                 Admin Jobs   \n180750          NaN                   Other                    IT Jobs   \n100326    permanent        Focus Resourcing      HR & Recruitment Jobs   \n244557    permanent                   Other           Engineering Jobs   \n63451     permanent    Candidate Source Ltd              Graduate Jobs   \n112348          NaN       Huxley Associates      HR & Recruitment Jobs   \n199706    permanent                   Other         Other/General Jobs   \n114185    permanent  Support Services Group  Healthcare & Nursing Jobs   \n\n                                    SalaryRaw  SalaryNormalized  \\\n163164                                  16000             16000   \n180750         30,000.00 - 35,000.00 per year             32500   \n100326                18000 - 23000/annum OTE             20500   \n244557                Upto UKP 25680 per year             25680   \n63451   20000 - 30000 dependent on experience             25000   \n112348                 45000 -45000 per annum             45000   \n199706        From 40,000 to 50,000 per annum             45000   \n114185                    30000 - 33000/annum             31500   \n\n               SourceName  Log1pSalary  \n163164  careerbuilder.com     9.680407  \n180750     Jobcentre Plus    10.389026  \n100326   cv-library.co.uk     9.928229  \n244557  justengineers.net    10.153506  \n63451       totaljobs.com    10.126671  \n112348  gojobsearch.co.uk    10.714440  \n199706      totaljobs.com    10.714440  \n114185   cv-library.co.uk    10.357775  ",
            "text/html": "<div>\n<style scoped>\n    .dataframe tbody tr th:only-of-type {\n        vertical-align: middle;\n    }\n\n    .dataframe tbody tr th {\n        vertical-align: top;\n    }\n\n    .dataframe thead th {\n        text-align: right;\n    }\n</style>\n<table border=\"1\" class=\"dataframe\">\n  <thead>\n    <tr style=\"text-align: right;\">\n      <th></th>\n      <th>Id</th>\n      <th>Title</th>\n      <th>FullDescription</th>\n      <th>LocationRaw</th>\n      <th>LocationNormalized</th>\n      <th>ContractType</th>\n      <th>ContractTime</th>\n      <th>Company</th>\n      <th>Category</th>\n      <th>SalaryRaw</th>\n      <th>SalaryNormalized</th>\n      <th>SourceName</th>\n      <th>Log1pSalary</th>\n    </tr>\n  </thead>\n  <tbody>\n    <tr>\n      <th>163164</th>\n      <td>71213985</td>\n      <td>recruitment / office administrator nottingham</td>\n      <td>recruitment / office administrator nottingham ...</td>\n      <td>Nottingham</td>\n      <td>Nottingham</td>\n      <td>full_time</td>\n      <td>NaN</td>\n      <td>Other</td>\n      <td>Admin Jobs</td>\n      <td>16000</td>\n      <td>16000</td>\n      <td>careerbuilder.com</td>\n      <td>9.680407</td>\n    </tr>\n    <tr>\n      <th>180750</th>\n      <td>71591758</td>\n      <td>web front end &amp; cms developer</td>\n      <td>central brighton based business are looking fo...</td>\n      <td>Brighton</td>\n      <td>Brighton</td>\n      <td>full_time</td>\n      <td>NaN</td>\n      <td>Other</td>\n      <td>IT Jobs</td>\n      <td>30,000.00 - 35,000.00 per year</td>\n      <td>32500</td>\n      <td>Jobcentre Plus</td>\n      <td>10.389026</td>\n    </tr>\n    <tr>\n      <th>100326</th>\n      <td>69539855</td>\n      <td>resourcer</td>\n      <td>our client , a leading professional recruitmen...</td>\n      <td>Reading, Berkshire</td>\n      <td>Reading</td>\n      <td>NaN</td>\n      <td>permanent</td>\n      <td>Focus Resourcing</td>\n      <td>HR &amp; Recruitment Jobs</td>\n      <td>18000 - 23000/annum OTE</td>\n      <td>20500</td>\n      <td>cv-library.co.uk</td>\n      <td>9.928229</td>\n    </tr>\n    <tr>\n      <th>244557</th>\n      <td>72697269</td>\n      <td>business support assistant</td>\n      <td>job purpose : the jobholder will be responsibl...</td>\n      <td>Hertfordshire</td>\n      <td>Hertfordshire</td>\n      <td>NaN</td>\n      <td>permanent</td>\n      <td>Other</td>\n      <td>Engineering Jobs</td>\n      <td>Upto UKP 25680 per year</td>\n      <td>25680</td>\n      <td>justengineers.net</td>\n      <td>10.153506</td>\n    </tr>\n    <tr>\n      <th>63451</th>\n      <td>68704053</td>\n      <td>engineers setting out</td>\n      <td>a privately owned civil engineering contractor...</td>\n      <td>Guildford Surrey South East</td>\n      <td>Guildford</td>\n      <td>NaN</td>\n      <td>permanent</td>\n      <td>Candidate Source Ltd</td>\n      <td>Graduate Jobs</td>\n      <td>20000 - 30000 dependent on experience</td>\n      <td>25000</td>\n      <td>totaljobs.com</td>\n      <td>10.126671</td>\n    </tr>\n    <tr>\n      <th>112348</th>\n      <td>69690165</td>\n      <td>interim hr manager</td>\n      <td>huxley associates are currently working with a...</td>\n      <td>London London England</td>\n      <td>London</td>\n      <td>NaN</td>\n      <td>NaN</td>\n      <td>Huxley Associates</td>\n      <td>HR &amp; Recruitment Jobs</td>\n      <td>45000 -45000 per annum</td>\n      <td>45000</td>\n      <td>gojobsearch.co.uk</td>\n      <td>10.714440</td>\n    </tr>\n    <tr>\n      <th>199706</th>\n      <td>71851592</td>\n      <td>project manager</td>\n      <td>scope manage projects to agreed time and cost ...</td>\n      <td>Witney Oxfordshire South East</td>\n      <td>Witney</td>\n      <td>NaN</td>\n      <td>permanent</td>\n      <td>Other</td>\n      <td>Other/General Jobs</td>\n      <td>From 40,000 to 50,000 per annum</td>\n      <td>45000</td>\n      <td>totaljobs.com</td>\n      <td>10.714440</td>\n    </tr>\n    <tr>\n      <th>114185</th>\n      <td>69748293</td>\n      <td>rgn sexual health , family planning , register...</td>\n      <td>position rgn sexual health , family planning ,...</td>\n      <td>Essex</td>\n      <td>Essex</td>\n      <td>NaN</td>\n      <td>permanent</td>\n      <td>Support Services Group</td>\n      <td>Healthcare &amp; Nursing Jobs</td>\n      <td>30000 - 33000/annum</td>\n      <td>31500</td>\n      <td>cv-library.co.uk</td>\n      <td>10.357775</td>\n    </tr>\n  </tbody>\n</table>\n</div>"
          },
          "metadata": {}
        }
      ]
    },
    {
      "cell_type": "code",
      "source": [
        "from sklearn.model_selection import train_test_split\n",
        "\n",
        "data_train, data_val = train_test_split(data, test_size=0.2, random_state=42)\n",
        "data_train.index = range(len(data_train))\n",
        "data_val.index = range(len(data_val))\n",
        "\n",
        "print(\"Train size = \", len(data_train))\n",
        "print(\"Validation size = \", len(data_val))"
      ],
      "metadata": {
        "id": "zUeXZxL5A7CG",
        "colab": {
          "base_uri": "https://localhost:8080/"
        },
        "outputId": "a6323c97-0dbf-4030-d713-3b4fa6d56dc0",
        "execution": {
          "iopub.status.busy": "2023-10-04T11:52:22.496825Z",
          "iopub.execute_input": "2023-10-04T11:52:22.497700Z",
          "iopub.status.idle": "2023-10-04T11:52:22.611533Z",
          "shell.execute_reply.started": "2023-10-04T11:52:22.497661Z",
          "shell.execute_reply": "2023-10-04T11:52:22.610605Z"
        },
        "trusted": true
      },
      "execution_count": null,
      "outputs": [
        {
          "name": "stdout",
          "text": "Train size =  195814\nValidation size =  48954\n",
          "output_type": "stream"
        }
      ]
    },
    {
      "cell_type": "code",
      "source": [
        "import torch\n",
        "import torch.nn as nn\n",
        "import torch.functional as F\n",
        "MAX_LEN_DES = 1200\n",
        "MAX_LEN_TITLE = 150\n",
        "\n",
        "device = 'cuda' if torch.cuda.is_available() else 'cpu'\n",
        "\n",
        "\n",
        "def to_tensors(batch, device):\n",
        "    batch_tensors = dict()\n",
        "    for key, arr in batch.items():\n",
        "        if key in [\"FullDescription\", \"Title\"]:\n",
        "            batch_tensors[key] = torch.tensor(arr, device=device, dtype=torch.int64)\n",
        "        else:\n",
        "            batch_tensors[key] = torch.tensor(arr, device=device)\n",
        "    return batch_tensors\n",
        "\n",
        "\n",
        "def make_batch(data, word_dropout=0, device=device):\n",
        "    \"\"\"\n",
        "    Creates a keras-friendly dict from the batch data.\n",
        "    :param word_dropout: replaces token index with UNK_IX with this probability\n",
        "    :returns: a dict with {'title' : int64[batch, title_max_len]\n",
        "    \"\"\"\n",
        "    batch = {}\n",
        "    batch[\"Title\"] = as_matrix(data[\"Title\"].values, MAX_LEN_TITLE)\n",
        "    batch[\"FullDescription\"] = as_matrix(data[\"FullDescription\"].values, MAX_LEN_DES)\n",
        "    batch['Categorical'] = categorical_vectorizer.transform(data[categorical_columns].apply(dict, axis=1))\n",
        "\n",
        "    if word_dropout != 0:\n",
        "        batch[\"FullDescription\"] = apply_word_dropout(batch[\"FullDescription\"], 1. - word_dropout)\n",
        "\n",
        "    if TARGET_COLUMN in data.columns:\n",
        "        batch[TARGET_COLUMN] = data[TARGET_COLUMN].values\n",
        "\n",
        "    return to_tensors(batch, device)\n",
        "\n",
        "def apply_word_dropout(matrix, keep_prop, replace_with=UNK_IX, pad_ix=PAD_IX,):\n",
        "    dropout_mask = np.random.choice(2, np.shape(matrix), p=[keep_prop, 1 - keep_prop])\n",
        "    dropout_mask &= matrix != pad_ix\n",
        "    return np.choose(dropout_mask, [matrix, np.full_like(matrix, replace_with)])"
      ],
      "metadata": {
        "id": "y-Dn6tmCA7CG",
        "execution": {
          "iopub.status.busy": "2023-10-04T11:52:58.146410Z",
          "iopub.execute_input": "2023-10-04T11:52:58.146740Z",
          "iopub.status.idle": "2023-10-04T11:52:58.156252Z",
          "shell.execute_reply.started": "2023-10-04T11:52:58.146714Z",
          "shell.execute_reply": "2023-10-04T11:52:58.155298Z"
        },
        "trusted": true
      },
      "execution_count": null,
      "outputs": []
    },
    {
      "cell_type": "code",
      "source": [
        "example = make_batch(data_train[:3])"
      ],
      "metadata": {
        "scrolled": true,
        "id": "-oXoVUdVA7CG",
        "execution": {
          "iopub.status.busy": "2023-10-04T11:52:58.522957Z",
          "iopub.execute_input": "2023-10-04T11:52:58.523964Z",
          "iopub.status.idle": "2023-10-04T11:53:01.615292Z",
          "shell.execute_reply.started": "2023-10-04T11:52:58.523929Z",
          "shell.execute_reply": "2023-10-04T11:53:01.614270Z"
        },
        "trusted": true
      },
      "execution_count": null,
      "outputs": []
    },
    {
      "cell_type": "code",
      "source": [
        "example['FullDescription'].get_device()"
      ],
      "metadata": {
        "colab": {
          "base_uri": "https://localhost:8080/"
        },
        "id": "MXOXutsQZ19E",
        "outputId": "6d67f664-5bfa-407a-c4fc-84052dc61e45",
        "execution": {
          "iopub.status.busy": "2023-10-04T11:58:45.364747Z",
          "iopub.execute_input": "2023-10-04T11:58:45.365212Z",
          "iopub.status.idle": "2023-10-04T11:58:45.378271Z",
          "shell.execute_reply.started": "2023-10-04T11:58:45.365172Z",
          "shell.execute_reply": "2023-10-04T11:58:45.377247Z"
        },
        "trusted": true
      },
      "execution_count": null,
      "outputs": [
        {
          "execution_count": 63,
          "output_type": "execute_result",
          "data": {
            "text/plain": "0"
          },
          "metadata": {}
        }
      ]
    },
    {
      "cell_type": "code",
      "source": [
        "model.cuda()\n",
        "print(model(example))"
      ],
      "metadata": {
        "execution": {
          "iopub.status.busy": "2023-10-04T12:34:23.466957Z",
          "iopub.execute_input": "2023-10-04T12:34:23.467612Z",
          "iopub.status.idle": "2023-10-04T12:34:23.513966Z",
          "shell.execute_reply.started": "2023-10-04T12:34:23.467580Z",
          "shell.execute_reply": "2023-10-04T12:34:23.512988Z"
        },
        "trusted": true,
        "id": "JRlRYgq98ZSo",
        "outputId": "56a9b518-ddb4-4afc-976a-628c8469d81f"
      },
      "execution_count": null,
      "outputs": [
        {
          "name": "stdout",
          "text": "tensor([[-0.0922],\n        [-0.1205],\n        [-0.0574]], device='cuda:0', grad_fn=<AddmmBackward0>)\n",
          "output_type": "stream"
        }
      ]
    },
    {
      "cell_type": "code",
      "source": [
        "\n",
        "batch = make_batch(data_train[:100])"
      ],
      "metadata": {
        "id": "qrylX1TTPGX6",
        "execution": {
          "iopub.status.busy": "2023-10-04T11:53:01.625984Z",
          "iopub.execute_input": "2023-10-04T11:53:01.627041Z",
          "iopub.status.idle": "2023-10-04T11:53:01.651123Z",
          "shell.execute_reply.started": "2023-10-04T11:53:01.626988Z",
          "shell.execute_reply": "2023-10-04T11:53:01.650026Z"
        },
        "trusted": true
      },
      "execution_count": null,
      "outputs": []
    },
    {
      "cell_type": "markdown",
      "source": [
        "#### Architecture\n",
        "\n",
        "Our basic model consists of three branches:\n",
        "* Title encoder\n",
        "* Description encoder\n",
        "* Categorical features encoder\n",
        "\n",
        "We will then feed all 3 branches into one common network that predicts salary.\n",
        "\n",
        "![scheme](https://github.com/yandexdataschool/nlp_course/raw/master/resources/w2_conv_arch.png)"
      ],
      "metadata": {
        "id": "_NuWJpGxA7CG"
      }
    },
    {
      "cell_type": "markdown",
      "source": [
        "This clearly doesn't fit into keras' __Sequential__ interface. To build such a network, one will have to use PyTorch."
      ],
      "metadata": {
        "id": "0VrTk1QvA7CH"
      }
    },
    {
      "cell_type": "code",
      "source": [
        "class SalaryPredictor(nn.Module):\n",
        "    def __init__(self, n_tokens=len(tokens), n_cat_features=len(categorical_vectorizer.vocabulary_), hid_size=64,\n",
        "                 tit_len = MAX_LEN_TITLE, des_len = MAX_LEN_DES, emb_size = 150):\n",
        "        super().__init__()\n",
        "        self.tit_emb = nn.Embedding(n_tokens, emb_size)\n",
        "        self.tit_conv = nn.Conv1d(emb_size, 16, kernel_size=3)\n",
        "        self.tit_relu = nn.ReLU()\n",
        "        #self.tit_pool = nn.MaxPool1d(tit_len - 2)\n",
        "        self.des_emb = nn.Embedding(n_tokens, emb_size)\n",
        "        self.des_conv = nn.Conv1d(emb_size, 32, kernel_size=3)\n",
        "        self.des_relu = nn.ReLU()\n",
        "        #self.des_pool = nn.MaxPool1d(des_len - 2)\n",
        "        self.norm2 = nn.LayerNorm(n_cat_features)\n",
        "        self.cat_fc = nn.Linear(n_cat_features, n_cat_features)\n",
        "        self.cat_relu = nn.ReLU()\n",
        "        self.fc = nn.Linear(16+32 + n_cat_features, hid_size)\n",
        "        self.relu = nn.ReLU()\n",
        "        self.final = nn.Linear(hid_size, 1)\n",
        "        self.norm = nn.LayerNorm(16+32 + n_cat_features)\n",
        "\n",
        "    def forward(self, batch):\n",
        "#       print(batch['Title'].size())\n",
        "#       print(batch['FullDescription'].size())\n",
        "      m1 = nn.MaxPool1d(batch['Title'].size()[1] - 2)\n",
        "      title_procesed = m1(self.tit_relu(self.tit_conv(self.tit_emb(batch['Title']).permute(0,2,1))))\n",
        "      m2 = nn.MaxPool1d(batch['FullDescription'].size()[1] - 2)\n",
        "      description_procesed = m2(self.des_relu(self.des_conv(self.des_emb(batch['FullDescription']).permute(0,2,1))))\n",
        "      categorial_procesed = self.cat_relu(self.cat_fc(self.norm2(batch['Categorical'])))\n",
        "      title_procesed = title_procesed.reshape(batch['Title'].size()[0], 16)\n",
        "      description_procesed = description_procesed.reshape(batch['FullDescription'].size()[0], 32)\n",
        "#       print(title_procesed.size())\n",
        "#       print(description_procesed.size())\n",
        "#       print(categorial_procesed.size())\n",
        "      fin = torch.cat((title_procesed, description_procesed,\n",
        "                                                      categorial_procesed), 1)\n",
        "#       print(fin.size())\n",
        "      finals = self.final(self.relu(self.fc(self.norm(fin))))\n",
        "#       print(finals.size())\n",
        "      return finals\n",
        "\n"
      ],
      "metadata": {
        "id": "ioIukCPZA7CH",
        "trusted": true
      },
      "execution_count": null,
      "outputs": []
    },
    {
      "cell_type": "markdown",
      "source": [],
      "metadata": {
        "id": "h49iJhrvw1H_"
      }
    },
    {
      "cell_type": "code",
      "source": [
        "model = SalaryPredictor()"
      ],
      "metadata": {
        "id": "gDsGQ6ONA7CH",
        "execution": {
          "iopub.status.busy": "2023-10-04T12:34:16.225672Z",
          "iopub.execute_input": "2023-10-04T12:34:16.226533Z",
          "iopub.status.idle": "2023-10-04T12:34:16.491869Z",
          "shell.execute_reply.started": "2023-10-04T12:34:16.226500Z",
          "shell.execute_reply": "2023-10-04T12:34:16.490816Z"
        },
        "trusted": true
      },
      "execution_count": null,
      "outputs": []
    },
    {
      "cell_type": "code",
      "source": [
        "model = SalaryPredictor()\n",
        "batch = make_batch(data_train[:100])\n",
        "criterion = nn.MSELoss()\n",
        "\n",
        "print(type(batch['Title']))"
      ],
      "metadata": {
        "id": "PglDD8WdA7CH",
        "trusted": true
      },
      "execution_count": null,
      "outputs": []
    },
    {
      "cell_type": "code",
      "source": [
        "batch['Title'].size()"
      ],
      "metadata": {
        "colab": {
          "base_uri": "https://localhost:8080/"
        },
        "id": "F_cHn2n3isAY",
        "outputId": "675e21a5-f9a9-408d-93e4-2ed48e68e22c",
        "execution": {
          "iopub.status.busy": "2023-10-04T11:53:06.466153Z",
          "iopub.execute_input": "2023-10-04T11:53:06.467119Z",
          "iopub.status.idle": "2023-10-04T11:53:06.473730Z",
          "shell.execute_reply.started": "2023-10-04T11:53:06.467082Z",
          "shell.execute_reply": "2023-10-04T11:53:06.472587Z"
        },
        "trusted": true
      },
      "execution_count": null,
      "outputs": [
        {
          "execution_count": 50,
          "output_type": "execute_result",
          "data": {
            "text/plain": "torch.Size([100, 17])"
          },
          "metadata": {}
        }
      ]
    },
    {
      "cell_type": "code",
      "source": [
        "emb = nn.Embedding(len(tokens), 50)\n",
        "emb.cuda()\n",
        "bb = emb(batch['Title'].to(device))"
      ],
      "metadata": {
        "id": "FvTDDZqSiAl1",
        "execution": {
          "iopub.status.busy": "2023-10-04T12:04:46.625478Z",
          "iopub.execute_input": "2023-10-04T12:04:46.625823Z",
          "iopub.status.idle": "2023-10-04T12:04:46.660714Z",
          "shell.execute_reply.started": "2023-10-04T12:04:46.625796Z",
          "shell.execute_reply": "2023-10-04T12:04:46.659804Z"
        },
        "trusted": true
      },
      "execution_count": null,
      "outputs": []
    },
    {
      "cell_type": "code",
      "source": [
        "bb.size()"
      ],
      "metadata": {
        "colab": {
          "base_uri": "https://localhost:8080/"
        },
        "id": "If4MLtcqmaFT",
        "outputId": "4b80a751-76a1-4ab4-f691-4168d6083827",
        "execution": {
          "iopub.status.busy": "2023-10-04T11:54:57.155098Z",
          "iopub.execute_input": "2023-10-04T11:54:57.155829Z",
          "iopub.status.idle": "2023-10-04T11:54:57.162347Z",
          "shell.execute_reply.started": "2023-10-04T11:54:57.155798Z",
          "shell.execute_reply": "2023-10-04T11:54:57.161348Z"
        },
        "trusted": true
      },
      "execution_count": null,
      "outputs": [
        {
          "execution_count": 56,
          "output_type": "execute_result",
          "data": {
            "text/plain": "torch.Size([100, 8, 15])"
          },
          "metadata": {}
        }
      ]
    },
    {
      "cell_type": "code",
      "source": [
        "des_conv = nn.Conv1d(15, 8, kernel_size=3)\n",
        "des_conv.cuda(device)\n",
        "bb = des_conv(bb.to(device).permute(0,2,1))"
      ],
      "metadata": {
        "id": "S8WyqUj_mCAv",
        "execution": {
          "iopub.status.busy": "2023-10-04T12:04:18.045190Z",
          "iopub.execute_input": "2023-10-04T12:04:18.045904Z",
          "iopub.status.idle": "2023-10-04T12:04:24.120428Z",
          "shell.execute_reply.started": "2023-10-04T12:04:18.045872Z",
          "shell.execute_reply": "2023-10-04T12:04:24.119410Z"
        },
        "trusted": true
      },
      "execution_count": null,
      "outputs": []
    },
    {
      "cell_type": "code",
      "source": [
        "bb.size()"
      ],
      "metadata": {
        "colab": {
          "base_uri": "https://localhost:8080/"
        },
        "id": "X9boTkYjszHg",
        "outputId": "07c9c00e-a17a-405f-c31a-bfbfbe38e0b6",
        "execution": {
          "iopub.status.busy": "2023-10-04T11:52:26.616205Z",
          "iopub.execute_input": "2023-10-04T11:52:26.616558Z",
          "iopub.status.idle": "2023-10-04T11:52:26.623213Z",
          "shell.execute_reply.started": "2023-10-04T11:52:26.616528Z",
          "shell.execute_reply": "2023-10-04T11:52:26.622236Z"
        },
        "trusted": true
      },
      "execution_count": null,
      "outputs": [
        {
          "execution_count": 38,
          "output_type": "execute_result",
          "data": {
            "text/plain": "torch.Size([100, 8, 15])"
          },
          "metadata": {}
        }
      ]
    },
    {
      "cell_type": "code",
      "source": [],
      "metadata": {
        "id": "FdcPxuoQs8nf"
      },
      "execution_count": null,
      "outputs": []
    },
    {
      "cell_type": "code",
      "source": [
        "relu = nn.ReLU()\n",
        "bb = relu(bb)\n"
      ],
      "metadata": {
        "id": "vl-ivGHWsHyW",
        "execution": {
          "iopub.status.busy": "2023-10-04T11:52:26.624643Z",
          "iopub.execute_input": "2023-10-04T11:52:26.625230Z",
          "iopub.status.idle": "2023-10-04T11:52:26.641413Z",
          "shell.execute_reply.started": "2023-10-04T11:52:26.625179Z",
          "shell.execute_reply": "2023-10-04T11:52:26.640324Z"
        },
        "trusted": true
      },
      "execution_count": null,
      "outputs": []
    },
    {
      "cell_type": "code",
      "source": [
        "bb.size()"
      ],
      "metadata": {
        "colab": {
          "base_uri": "https://localhost:8080/"
        },
        "id": "ZzqWSLHnseUr",
        "outputId": "359cbbef-80d7-4fb7-a7e5-e79322ff8235",
        "execution": {
          "iopub.status.busy": "2023-10-04T11:52:26.642679Z",
          "iopub.execute_input": "2023-10-04T11:52:26.643208Z",
          "iopub.status.idle": "2023-10-04T11:52:26.649309Z",
          "shell.execute_reply.started": "2023-10-04T11:52:26.643161Z",
          "shell.execute_reply": "2023-10-04T11:52:26.648280Z"
        },
        "trusted": true
      },
      "execution_count": null,
      "outputs": [
        {
          "execution_count": 40,
          "output_type": "execute_result",
          "data": {
            "text/plain": "torch.Size([100, 8, 15])"
          },
          "metadata": {}
        }
      ]
    },
    {
      "cell_type": "code",
      "source": [
        "mp = nn.MaxPool1d(15)\n",
        "mp(bb).size()"
      ],
      "metadata": {
        "colab": {
          "base_uri": "https://localhost:8080/"
        },
        "id": "8qfkzto7sS0O",
        "outputId": "2bd1b5e5-2010-4808-9ba0-324f1b4361fa",
        "execution": {
          "iopub.status.busy": "2023-10-04T11:52:26.650747Z",
          "iopub.execute_input": "2023-10-04T11:52:26.651512Z",
          "iopub.status.idle": "2023-10-04T11:52:26.665730Z",
          "shell.execute_reply.started": "2023-10-04T11:52:26.651480Z",
          "shell.execute_reply": "2023-10-04T11:52:26.664659Z"
        },
        "trusted": true
      },
      "execution_count": null,
      "outputs": [
        {
          "execution_count": 41,
          "output_type": "execute_result",
          "data": {
            "text/plain": "torch.Size([100, 8, 1])"
          },
          "metadata": {}
        }
      ]
    },
    {
      "cell_type": "code",
      "source": [
        "model.cuda()\n",
        "dummy_pred = model(batch)\n",
        "dummy_loss = criterion(dummy_pred, batch[TARGET_COLUMN])"
      ],
      "metadata": {
        "id": "HCMvM84KhSQY",
        "execution": {
          "iopub.status.busy": "2023-10-04T12:34:33.778588Z",
          "iopub.execute_input": "2023-10-04T12:34:33.778927Z",
          "iopub.status.idle": "2023-10-04T12:34:33.788547Z",
          "shell.execute_reply.started": "2023-10-04T12:34:33.778897Z",
          "shell.execute_reply": "2023-10-04T12:34:33.787639Z"
        },
        "trusted": true
      },
      "execution_count": null,
      "outputs": []
    },
    {
      "cell_type": "code",
      "source": [
        "dummy_pred = torch.reshape(dummy_pred, (100,))"
      ],
      "metadata": {
        "id": "k_dxX7ONzBp0",
        "execution": {
          "iopub.status.busy": "2023-10-04T12:34:44.425536Z",
          "iopub.execute_input": "2023-10-04T12:34:44.426346Z",
          "iopub.status.idle": "2023-10-04T12:34:44.430525Z",
          "shell.execute_reply.started": "2023-10-04T12:34:44.426314Z",
          "shell.execute_reply": "2023-10-04T12:34:44.429308Z"
        },
        "trusted": true
      },
      "execution_count": null,
      "outputs": []
    },
    {
      "cell_type": "code",
      "source": [
        "\n",
        "assert dummy_pred.shape == torch.Size([100])\n",
        "assert len(torch.unique(dummy_pred)) > 20, \"model returns suspiciously few unique outputs. Check your initialization\"\n",
        "assert dummy_loss.ndim == 0 and 0. <= dummy_loss <= 250., \"make sure you minimize MSE\""
      ],
      "metadata": {
        "id": "V3ZRzT5Obwz1",
        "execution": {
          "iopub.status.busy": "2023-10-04T12:34:45.457374Z",
          "iopub.execute_input": "2023-10-04T12:34:45.457682Z",
          "iopub.status.idle": "2023-10-04T12:34:45.463175Z",
          "shell.execute_reply.started": "2023-10-04T12:34:45.457657Z",
          "shell.execute_reply": "2023-10-04T12:34:45.462308Z"
        },
        "trusted": true
      },
      "execution_count": null,
      "outputs": []
    },
    {
      "cell_type": "markdown",
      "source": [
        "#### Training and evaluation\n",
        "\n",
        "As usual, we gonna feed our monster with random minibatches of data.\n",
        "\n",
        "As we train, we want to monitor not only loss function, which is computed in log-space, but also the actual error measured in dollars."
      ],
      "metadata": {
        "id": "wKNqzdhZA7CH"
      }
    },
    {
      "cell_type": "code",
      "source": [
        "def iterate_minibatches(data, batch_size=256, shuffle=True, cycle=False, device=device, **kwargs):\n",
        "    \"\"\" iterates minibatches of data in random order \"\"\"\n",
        "    while True:\n",
        "        indices = np.arange(len(data))\n",
        "        if shuffle:\n",
        "            indices = np.random.permutation(indices)\n",
        "\n",
        "        for start in range(0, len(indices), batch_size):\n",
        "            batch = make_batch(data.iloc[indices[start : start + batch_size]], device=device, **kwargs)\n",
        "            yield batch\n",
        "\n",
        "        if not cycle: break"
      ],
      "metadata": {
        "id": "ky_BerqiA7CL",
        "execution": {
          "iopub.status.busy": "2023-10-04T12:34:48.066662Z",
          "iopub.execute_input": "2023-10-04T12:34:48.067338Z",
          "iopub.status.idle": "2023-10-04T12:34:48.072984Z",
          "shell.execute_reply.started": "2023-10-04T12:34:48.067307Z",
          "shell.execute_reply": "2023-10-04T12:34:48.071799Z"
        },
        "trusted": true
      },
      "execution_count": null,
      "outputs": []
    },
    {
      "cell_type": "markdown",
      "source": [
        "### Model training\n",
        "\n",
        "We can now fit our model the usual minibatch way. The interesting part is that we train on an infinite stream of minibatches, produced by `iterate_minibatches` function."
      ],
      "metadata": {
        "id": "6FYx9BIhA7CL"
      }
    },
    {
      "cell_type": "code",
      "source": [
        "from tqdm.auto import tqdm\n",
        "\n",
        "BATCH_SIZE = 16\n",
        "EPOCHS = 5"
      ],
      "metadata": {
        "id": "ijQYKaEAA7CL",
        "execution": {
          "iopub.status.busy": "2023-10-04T13:28:16.400204Z",
          "iopub.execute_input": "2023-10-04T13:28:16.400552Z",
          "iopub.status.idle": "2023-10-04T13:28:16.405105Z",
          "shell.execute_reply.started": "2023-10-04T13:28:16.400528Z",
          "shell.execute_reply": "2023-10-04T13:28:16.404254Z"
        },
        "trusted": true
      },
      "execution_count": null,
      "outputs": []
    },
    {
      "cell_type": "code",
      "source": [],
      "metadata": {
        "id": "Zu5qlVuA8ZSx"
      },
      "execution_count": null,
      "outputs": []
    },
    {
      "cell_type": "code",
      "source": [
        "def print_metrics(model, data, batch_size=BATCH_SIZE, name=\"\", device=torch.device('cpu'), **kw):\n",
        "    squared_error = abs_error = num_samples = 0.0\n",
        "    model.eval()\n",
        "    with torch.no_grad():\n",
        "        for batch in iterate_minibatches(data, batch_size=batch_size, shuffle=False, device=device, **kw):\n",
        "            batch_pred = model(batch)\n",
        "            squared_error += torch.sum(torch.square(batch_pred - batch[TARGET_COLUMN]))\n",
        "            abs_error += torch.sum(torch.abs(batch_pred - batch[TARGET_COLUMN]))\n",
        "            num_samples += len(batch_pred)\n",
        "    mse = squared_error.detach().cpu().numpy() / num_samples\n",
        "    mae = abs_error.detach().cpu().numpy() / num_samples\n",
        "    print(\"%s results:\" % (name or \"\"))\n",
        "    print(\"Mean square error: %.5f\" % mse)\n",
        "    print(\"Mean absolute error: %.5f\" % mae)\n",
        "    return mse, mae\n"
      ],
      "metadata": {
        "id": "hccHjp4BA7CL",
        "execution": {
          "iopub.status.busy": "2023-10-04T13:23:12.797957Z",
          "iopub.execute_input": "2023-10-04T13:23:12.798309Z",
          "iopub.status.idle": "2023-10-04T13:23:12.804897Z",
          "shell.execute_reply.started": "2023-10-04T13:23:12.798281Z",
          "shell.execute_reply": "2023-10-04T13:23:12.803918Z"
        },
        "trusted": true
      },
      "execution_count": null,
      "outputs": []
    },
    {
      "cell_type": "markdown",
      "source": [],
      "metadata": {
        "id": "R67lPBtV8ZSy"
      }
    },
    {
      "cell_type": "code",
      "source": [
        "import warnings\n",
        "\n",
        "warnings.filterwarnings(\"ignore\")"
      ],
      "metadata": {
        "execution": {
          "iopub.status.busy": "2023-10-04T12:21:41.039803Z",
          "iopub.execute_input": "2023-10-04T12:21:41.040489Z",
          "iopub.status.idle": "2023-10-04T12:21:41.044680Z",
          "shell.execute_reply.started": "2023-10-04T12:21:41.040457Z",
          "shell.execute_reply": "2023-10-04T12:21:41.043699Z"
        },
        "trusted": true,
        "id": "cmn_6uCz8ZSy"
      },
      "execution_count": null,
      "outputs": []
    },
    {
      "cell_type": "code",
      "source": [
        "model = SalaryPredictor().to(device)\n",
        "criterion = nn.MSELoss(reduction='sum')\n",
        "optimizer = torch.optim.Adam(model.parameters(), lr=1e-4)\n",
        "\n",
        "for epoch in range(EPOCHS):\n",
        "    print(f\"epoch: {epoch}\")\n",
        "    model.train()\n",
        "    for i, batch in tqdm(enumerate(\n",
        "            iterate_minibatches(data_train, batch_size=BATCH_SIZE, device=device)),\n",
        "            total=len(data_train) // BATCH_SIZE\n",
        "        ):\n",
        "        #print(batch['Title'].size())\n",
        "        pred = model(batch)\n",
        "        loss = criterion(pred, batch[TARGET_COLUMN])\n",
        "        optimizer.zero_grad()\n",
        "        loss.backward()\n",
        "        optimizer.step()\n",
        "\n",
        "    print_metrics(model, data_val, device=device)\n",
        "\n"
      ],
      "metadata": {
        "id": "aPllaPgPA7CL",
        "colab": {
          "base_uri": "https://localhost:8080/",
          "height": 1000,
          "referenced_widgets": [
            "a1302c3766f7425a99d59d7b22bb1724",
            "4c93fb4737214a7a9e5a63c7ceccae3f",
            "c13d7358bc794c409a961ab1b479ba31",
            "dd64abfaf44b48d3bf0d9b8105f81f2c",
            "4f8dbb8ba57a4d1f82f2e8d77bcd2d83",
            "3688c6c5e56a498da93820a559888fe0",
            "4a52d4c3a2a54ffbbb417344c909740b",
            "28cbac16da334193be36df61ad2a6678",
            "a985b5b7a0ca4ef8bedef9f7dece5ed1",
            "6794ce02697243c3b7e4349ceafbf2c7",
            "eb8d2c9946d34320a4616089b51ef4b7",
            "ca25f908ac094927a40bdfacdd3d9f1b",
            "8817a51b151f4b568522d89e3e896d2c",
            "2a1f43d106d14fee9556ae512d9cfce1",
            "5e78b709aae34c439f0951bb03ee8208",
            "fd360f0d7a4c411c94d55c2b443718b8"
          ]
        },
        "outputId": "1b54fc2c-9b37-47f4-dfc2-bfe54948821d",
        "execution": {
          "iopub.status.busy": "2023-10-04T13:28:20.461184Z",
          "iopub.execute_input": "2023-10-04T13:28:20.461557Z",
          "iopub.status.idle": "2023-10-04T13:42:18.514089Z",
          "shell.execute_reply.started": "2023-10-04T13:28:20.461532Z",
          "shell.execute_reply": "2023-10-04T13:42:18.513137Z"
        },
        "trusted": true
      },
      "execution_count": null,
      "outputs": [
        {
          "name": "stdout",
          "text": "epoch: 0\n",
          "output_type": "stream"
        },
        {
          "output_type": "display_data",
          "data": {
            "text/plain": "  0%|          | 0/12238 [00:00<?, ?it/s]",
            "application/vnd.jupyter.widget-view+json": {
              "version_major": 2,
              "version_minor": 0,
              "model_id": "ca25f908ac094927a40bdfacdd3d9f1b"
            }
          },
          "metadata": {}
        },
        {
          "name": "stdout",
          "text": " results:\nMean square error: 5.07985\nMean absolute error: 7.32456\nepoch: 1\n",
          "output_type": "stream"
        },
        {
          "output_type": "display_data",
          "data": {
            "text/plain": "  0%|          | 0/12238 [00:00<?, ?it/s]",
            "application/vnd.jupyter.widget-view+json": {
              "version_major": 2,
              "version_minor": 0,
              "model_id": "8817a51b151f4b568522d89e3e896d2c"
            }
          },
          "metadata": {}
        },
        {
          "name": "stdout",
          "text": " results:\nMean square error: 4.02466\nMean absolute error: 6.44312\nepoch: 2\n",
          "output_type": "stream"
        },
        {
          "output_type": "display_data",
          "data": {
            "text/plain": "  0%|          | 0/12238 [00:00<?, ?it/s]",
            "application/vnd.jupyter.widget-view+json": {
              "version_major": 2,
              "version_minor": 0,
              "model_id": "2a1f43d106d14fee9556ae512d9cfce1"
            }
          },
          "metadata": {}
        },
        {
          "name": "stdout",
          "text": " results:\nMean square error: 3.87223\nMean absolute error: 6.32883\nepoch: 3\n",
          "output_type": "stream"
        },
        {
          "output_type": "display_data",
          "data": {
            "text/plain": "  0%|          | 0/12238 [00:00<?, ?it/s]",
            "application/vnd.jupyter.widget-view+json": {
              "version_major": 2,
              "version_minor": 0,
              "model_id": "5e78b709aae34c439f0951bb03ee8208"
            }
          },
          "metadata": {}
        },
        {
          "name": "stdout",
          "text": " results:\nMean square error: 3.96518\nMean absolute error: 6.39775\nepoch: 4\n",
          "output_type": "stream"
        },
        {
          "output_type": "display_data",
          "data": {
            "text/plain": "  0%|          | 0/12238 [00:00<?, ?it/s]",
            "application/vnd.jupyter.widget-view+json": {
              "version_major": 2,
              "version_minor": 0,
              "model_id": "fd360f0d7a4c411c94d55c2b443718b8"
            }
          },
          "metadata": {}
        },
        {
          "name": "stdout",
          "text": " results:\nMean square error: 3.86062\nMean absolute error: 6.33184\n",
          "output_type": "stream"
        }
      ]
    },
    {
      "cell_type": "markdown",
      "source": [
        "### Bonus part: explaining model predictions\n",
        "\n",
        "It's usually a good idea to understand how your model works before you let it make actual decisions. It's simple for linear models: just see which words learned positive or negative weights. However, its much harder for neural networks that learn complex nonlinear dependencies.\n",
        "\n",
        "There are, however, some ways to look inside the black box:\n",
        "* Seeing how model responds to input perturbations\n",
        "* Finding inputs that maximize/minimize activation of some chosen neurons (_read more [on distill.pub](https://distill.pub/2018/building-blocks/)_)\n",
        "* Building local linear approximations to your neural network: [article](https://arxiv.org/abs/1602.04938), [eli5 library](https://github.com/TeamHG-Memex/eli5/tree/master/eli5/formatters)\n",
        "\n",
        "Today we gonna try the first method just because it's the simplest one."
      ],
      "metadata": {
        "id": "_pD4ckXZA7CL"
      }
    },
    {
      "cell_type": "code",
      "source": [
        "def explain(model, sample, col_name='Title'):\n",
        "    \"\"\" Computes the effect each word had on model predictions \"\"\"\n",
        "    sample = dict(sample)\n",
        "    sample_col_tokens = [tokens[token_to_id.get(tok, 0)] for tok in sample[col_name].split()]\n",
        "    data_drop_one_token = pd.DataFrame([sample] * (len(sample_col_tokens) + 1))\n",
        "\n",
        "    for drop_i in range(len(sample_col_tokens)):\n",
        "        data_drop_one_token.loc[drop_i, col_name] = ' '.join(UNK if i == drop_i else tok\n",
        "                                                   for i, tok in enumerate(sample_col_tokens))\n",
        "\n",
        "    *predictions_drop_one_token, baseline_pred = model(make_batch(data_drop_one_token, device=device)).detach().cpu()\n",
        "    diffs = baseline_pred - torch.Tensor(predictions_drop_one_token)\n",
        "    return list(zip(sample_col_tokens, diffs))"
      ],
      "metadata": {
        "id": "BP06dwEIA7CM",
        "execution": {
          "iopub.status.busy": "2023-10-04T13:44:03.384669Z",
          "iopub.execute_input": "2023-10-04T13:44:03.385059Z",
          "iopub.status.idle": "2023-10-04T13:44:03.397144Z",
          "shell.execute_reply.started": "2023-10-04T13:44:03.385024Z",
          "shell.execute_reply": "2023-10-04T13:44:03.396240Z"
        },
        "trusted": true
      },
      "execution_count": null,
      "outputs": []
    },
    {
      "cell_type": "code",
      "source": [
        "from IPython.display import HTML, display_html\n",
        "\n",
        "\n",
        "def draw_html(tokens_and_weights, cmap=plt.get_cmap(\"bwr\"), display=True,\n",
        "              token_template=\"\"\"<span style=\"background-color: {color_hex}\">{token}</span>\"\"\",\n",
        "              font_style=\"font-size:14px;\"\n",
        "             ):\n",
        "\n",
        "    def get_color_hex(weight):\n",
        "        rgba = cmap(1. / (1 + np.exp(float(weight))), bytes=True)\n",
        "        return '#%02X%02X%02X' % rgba[:3]\n",
        "\n",
        "    tokens_html = [\n",
        "        token_template.format(token=token, color_hex=get_color_hex(weight))\n",
        "        for token, weight in tokens_and_weights\n",
        "    ]\n",
        "\n",
        "\n",
        "    raw_html = \"\"\"<p style=\"{}\">{}</p>\"\"\".format(font_style, ' '.join(tokens_html))\n",
        "    if display:\n",
        "        display_html(HTML(raw_html))\n",
        "\n",
        "    return raw_html\n"
      ],
      "metadata": {
        "id": "1v8vAEBaA7CM",
        "execution": {
          "iopub.status.busy": "2023-10-04T13:44:05.097551Z",
          "iopub.execute_input": "2023-10-04T13:44:05.097900Z",
          "iopub.status.idle": "2023-10-04T13:44:05.104183Z",
          "shell.execute_reply.started": "2023-10-04T13:44:05.097860Z",
          "shell.execute_reply": "2023-10-04T13:44:05.103161Z"
        },
        "trusted": true
      },
      "execution_count": null,
      "outputs": []
    },
    {
      "cell_type": "code",
      "source": [
        "i = 36605\n",
        "tokens_and_weights = explain(model, data.loc[i], \"Title\")\n",
        "draw_html([(tok, weight * 5) for tok, weight in tokens_and_weights], font_style='font-size:20px;');\n",
        "\n",
        "tokens_and_weights = explain(model, data.loc[i], \"FullDescription\")\n",
        "draw_html([(tok, weight * 10) for tok, weight in tokens_and_weights]);"
      ],
      "metadata": {
        "id": "X_6X4p52A7CM",
        "execution": {
          "iopub.status.busy": "2023-10-04T13:44:05.283255Z",
          "iopub.execute_input": "2023-10-04T13:44:05.283884Z",
          "iopub.status.idle": "2023-10-04T13:44:05.434213Z",
          "shell.execute_reply.started": "2023-10-04T13:44:05.283854Z",
          "shell.execute_reply": "2023-10-04T13:44:05.433264Z"
        },
        "trusted": true,
        "outputId": "6face892-3a41-4c93-cad5-58bbbd8fae6b"
      },
      "execution_count": null,
      "outputs": [
        {
          "output_type": "display_data",
          "data": {
            "text/html": "<p style=\"font-size:20px;\"><span style=\"background-color: #FCFCFF\">sales</span> <span style=\"background-color: #F8F8FF\">specialist</span> <span style=\"background-color: #FCFCFF\">iv</span> <span style=\"background-color: #FFFAFA\">access</span> <span style=\"background-color: #FEFEFF\">and</span> <span style=\"background-color: #FEFEFF\">infusion</span></p>"
          },
          "metadata": {}
        },
        {
          "output_type": "display_data",
          "data": {
            "text/html": "<p style=\"font-size:14px;\"><span style=\"background-color: #FFFEFE\">sales</span> <span style=\"background-color: #FFFEFE\">representative</span> <span style=\"background-color: #FFFEFE\">medical</span> <span style=\"background-color: #FEFEFF\">sales</span> <span style=\"background-color: #FFFEFE\">iv</span> <span style=\"background-color: #FFFEFE\">access</span> <span style=\"background-color: #FFFEFE\">and</span> <span style=\"background-color: #FFFEFE\">infusion</span> <span style=\"background-color: #FFFEFE\">an</span> <span style=\"background-color: #FFFEFE\">opportunity</span> <span style=\"background-color: #FFFEFE\">to</span> <span style=\"background-color: #FFFEFE\">work</span> <span style=\"background-color: #FFFEFE\">for</span> <span style=\"background-color: #FFFEFE\">the</span> <span style=\"background-color: #FEFEFF\">industry</span> <span style=\"background-color: #FFFEFE\">leading</span> <span style=\"background-color: #FEFEFF\">manufacturer</span> <span style=\"background-color: #FEFEFF\">of</span> <span style=\"background-color: #FEFEFF\">iv</span> <span style=\"background-color: #FFFEFE\">access</span> <span style=\"background-color: #FFFEFE\">and</span> <span style=\"background-color: #FFFEFE\">infusion</span> <span style=\"background-color: #FFFEFE\">solutions</span> <span style=\"background-color: #FFFCFC\">.</span> <span style=\"background-color: #FFFEFE\">formally</span> <span style=\"background-color: #FFFEFE\">recognised</span> <span style=\"background-color: #FFFEFE\">as</span> <span style=\"background-color: #FFFEFE\">the</span> <span style=\"background-color: #FFFEFE\">number</span> <span style=\"background-color: #FFFEFE\">****</span> <span style=\"background-color: #FFFEFE\">company</span> <span style=\"background-color: #FFFEFE\">in</span> <span style=\"background-color: #FEFEFF\">this</span> <span style=\"background-color: #FEFEFF\">market</span> <span style=\"background-color: #FFFEFE\">space</span> <span style=\"background-color: #FFFEFE\">,</span> <span style=\"background-color: #FFFEFE\">our</span> <span style=\"background-color: #FFFEFE\">client</span> <span style=\"background-color: #FFFEFE\">are</span> <span style=\"background-color: #FEFEFF\">an</span> <span style=\"background-color: #FFFEFE\">ethical</span> <span style=\"background-color: #FEFEFF\">and</span> <span style=\"background-color: #FFFEFE\">dynamic</span> <span style=\"background-color: #FFFEFE\">organisation</span> <span style=\"background-color: #FFFEFE\">absolutely</span> <span style=\"background-color: #FFFEFE\">committed</span> <span style=\"background-color: #FFFEFE\">to</span> <span style=\"background-color: #FFFEFE\">the</span> <span style=\"background-color: #FFFEFE\">advancement</span> <span style=\"background-color: #FFFEFE\">of</span> <span style=\"background-color: #FFFEFE\">innovative</span> <span style=\"background-color: #FFFEFE\">technologies</span> <span style=\"background-color: #FFFEFE\">.</span> <span style=\"background-color: #FFFEFE\">job</span> <span style=\"background-color: #FFFEFE\">title</span> <span style=\"background-color: #FFFEFE\">:</span> <span style=\"background-color: #FFFEFE\">sales</span> <span style=\"background-color: #FEFEFF\">specialist</span> <span style=\"background-color: #FFFEFE\">iv</span> <span style=\"background-color: #FFFEFE\">access</span> <span style=\"background-color: #FFFEFE\">and</span> <span style=\"background-color: #FFFEFE\">infusion</span> <span style=\"background-color: #FFFEFE\">selling</span> <span style=\"background-color: #FFFEFE\">:</span> <span style=\"background-color: #FFFEFE\">medication</span> <span style=\"background-color: #FEFEFF\">delivery</span> <span style=\"background-color: #FFFEFE\">solutions</span> <span style=\"background-color: #FFFEFE\">selling</span> <span style=\"background-color: #FFFEFE\">to</span> <span style=\"background-color: #FFFEFE\">:</span> <span style=\"background-color: #FFFEFE\">iv</span> <span style=\"background-color: #FFFEFE\">teams</span> <span style=\"background-color: #FFFEFE\">,</span> <span style=\"background-color: #FFFEFE\">infection</span> <span style=\"background-color: #FFFEFE\">control</span> <span style=\"background-color: #FFFEFE\">,</span> <span style=\"background-color: #FFFEFE\">lead</span> <span style=\"background-color: #FFFEFE\">intensive</span> <span style=\"background-color: #FFFEFE\">care</span> <span style=\"background-color: #FFFEFE\">nurse</span> <span style=\"background-color: #FEFEFF\">specialists</span> <span style=\"background-color: #FFFEFE\">,</span> <span style=\"background-color: #FEFEFF\">ward</span> <span style=\"background-color: #FEFEFF\">managers</span> <span style=\"background-color: #FEFEFF\">territory</span> <span style=\"background-color: #FFFEFE\">:</span> <span style=\"background-color: #FFFEFE\">east</span> <span style=\"background-color: #FEFEFF\">midlands</span> <span style=\"background-color: #FFFEFE\">location</span> <span style=\"background-color: #FEFEFF\">:</span> <span style=\"background-color: #FFFEFE\">east</span> <span style=\"background-color: #FEFEFF\">midlands</span> <span style=\"background-color: #FFFEFE\">package</span> <span style=\"background-color: #FFFEFE\">:</span> <span style=\"background-color: #FFFEFE\">basic</span> <span style=\"background-color: #FFFEFE\">:</span> <span style=\"background-color: #FFFEFE\">****</span> <span style=\"background-color: #FFFEFE\">k</span> <span style=\"background-color: #FFFEFE\">****</span> <span style=\"background-color: #FFFEFE\">k</span> <span style=\"background-color: #FFFEFE\">,</span> <span style=\"background-color: #FFFEFE\">uncapped</span> <span style=\"background-color: #FFFEFE\">bonus</span> <span style=\"background-color: #FCFCFF\">in</span> <span style=\"background-color: #FEFEFF\">addition</span> <span style=\"background-color: #FCFCFF\">,</span> <span style=\"background-color: #FEFEFF\">full</span> <span style=\"background-color: #FEFEFF\">corporate</span> <span style=\"background-color: #FFFEFE\">benefits</span> <span style=\"background-color: #FFFEFE\">company</span> <span style=\"background-color: #FCFCFF\">information</span> <span style=\"background-color: #FEFEFF\">hugely</span> <span style=\"background-color: #FCFCFF\">ethical</span> <span style=\"background-color: #FFFEFE\">and</span> <span style=\"background-color: #FFFEFE\">professional</span> <span style=\"background-color: #F8F8FF\">global</span> <span style=\"background-color: #FFFEFE\">organisation</span> <span style=\"background-color: #FCFCFF\">extremely</span> <span style=\"background-color: #FEFEFF\">well</span> <span style=\"background-color: #FEFEFF\">established</span> <span style=\"background-color: #FFFEFE\">in</span> <span style=\"background-color: #FFFEFE\">the</span> <span style=\"background-color: #FFFEFE\">uk</span> <span style=\"background-color: #FFFEFE\">the</span> <span style=\"background-color: #FEFEFF\">market</span> <span style=\"background-color: #FEFEFF\">leader</span> <span style=\"background-color: #FEFEFF\">across</span> <span style=\"background-color: #FEFEFF\">all</span> <span style=\"background-color: #FFFEFE\">of</span> <span style=\"background-color: #FEFEFF\">their</span> <span style=\"background-color: #FFFEFE\">core</span> <span style=\"background-color: #FFFEFE\">business</span> <span style=\"background-color: #FFFEFE\">areas</span> <span style=\"background-color: #FFFEFE\">focus</span> <span style=\"background-color: #FFFEFE\">on</span> <span style=\"background-color: #FFFEFE\">providing</span> <span style=\"background-color: #FFFEFE\">cutting</span> <span style=\"background-color: #FFFEFE\">edge</span> <span style=\"background-color: #FFFEFE\">solutions</span> <span style=\"background-color: #FFFEFE\">along</span> <span style=\"background-color: #FFFEFE\">with</span> <span style=\"background-color: #FFFEFE\">outstanding</span> <span style=\"background-color: #FFFEFE\">service</span> <span style=\"background-color: #FFFEFE\">and</span> <span style=\"background-color: #FFFEFE\">support</span> <span style=\"background-color: #FFFEFE\">a</span> <span style=\"background-color: #FFFEFE\">business</span> <span style=\"background-color: #FFFEFE\">that</span> <span style=\"background-color: #FFFEFE\">retain</span> <span style=\"background-color: #FEFEFF\">talented</span> <span style=\"background-color: #FFFEFE\">personnel</span> <span style=\"background-color: #FFFEFE\">by</span> <span style=\"background-color: #FEFEFF\">offering</span> <span style=\"background-color: #FEFEFF\">a</span> <span style=\"background-color: #FFFEFE\">strong</span> <span style=\"background-color: #FFFEFE\">platform</span> <span style=\"background-color: #FFFEFE\">for</span> <span style=\"background-color: #FFFEFE\">career</span> <span style=\"background-color: #FFFEFE\">development</span> <span style=\"background-color: #FFFEFE\">sales</span> <span style=\"background-color: #FEFEFF\">specialist</span> <span style=\"background-color: #FFFEFE\">iv</span> <span style=\"background-color: #FFFEFE\">access</span> <span style=\"background-color: #FFFEFE\">and</span> <span style=\"background-color: #FFFEFE\">infusion</span> <span style=\"background-color: #FFFEFE\">you</span> <span style=\"background-color: #FFFEFE\">must</span> <span style=\"background-color: #FFFEFE\">have</span> <span style=\"background-color: #FFFEFE\">/</span> <span style=\"background-color: #FFFEFE\">be</span> <span style=\"background-color: #FFFEFE\">the</span> <span style=\"background-color: #FFFEFE\">following</span> <span style=\"background-color: #FFFEFE\">at</span> <span style=\"background-color: #FFFEFE\">least</span> <span style=\"background-color: #FFFEFE\">2</span> <span style=\"background-color: #FFFEFE\">years</span> <span style=\"background-color: #FFFEFE\">medical</span> <span style=\"background-color: #FEFEFF\">device</span> <span style=\"background-color: #FFFEFE\">sales</span> <span style=\"background-color: #FEFEFF\">experience</span> <span style=\"background-color: #FFFEFE\">.</span> <span style=\"background-color: #FFFEFE\">candidates</span> <span style=\"background-color: #FFFEFE\">who</span> <span style=\"background-color: #FFFEFE\">have</span> <span style=\"background-color: #FEFEFF\">sold</span> <span style=\"background-color: #FEFEFF\">disposables</span> <span style=\"background-color: #FFFEFE\">/</span> <span style=\"background-color: #FFFEFE\">consumables</span> <span style=\"background-color: #FFFEFE\">or</span> <span style=\"background-color: #FFFEFE\">similar</span> <span style=\"background-color: #FFFEFE\">into</span> <span style=\"background-color: #FEFEFF\">hospitals</span> <span style=\"background-color: #FFFEFE\">would</span> <span style=\"background-color: #FFFEFE\">be</span> <span style=\"background-color: #FFFEFE\">of</span> <span style=\"background-color: #FFFEFE\">particular</span> <span style=\"background-color: #FFFEFE\">interest</span> <span style=\"background-color: #FFFEFE\">.</span> <span style=\"background-color: #FFFEFE\">candidates</span> <span style=\"background-color: #FFFEFE\">must</span> <span style=\"background-color: #FFFEFE\">have</span> <span style=\"background-color: #FFFEFE\">sold</span> <span style=\"background-color: #FFFEFE\">into</span> <span style=\"background-color: #FFFEFE\">hospitals</span> <span style=\"background-color: #FEFEFF\">demonstrable</span> <span style=\"background-color: #FEFEFF\">performance</span> <span style=\"background-color: #FEFEFF\">and</span> <span style=\"background-color: #FFFEFE\">achievements</span> <span style=\"background-color: #FFFEFE\">so</span> <span style=\"background-color: #FFFEFE\">far</span> <span style=\"background-color: #FFFEFE\">personable</span> <span style=\"background-color: #FCFCFF\">,</span> <span style=\"background-color: #FFFEFE\">adaptable</span> <span style=\"background-color: #FCFCFF\">and</span> <span style=\"background-color: #FFFEFE\">willing</span> <span style=\"background-color: #FFFEFE\">to</span> <span style=\"background-color: #FEFEFF\">learn</span> <span style=\"background-color: #FEFEFF\">keen</span> <span style=\"background-color: #FEFEFF\">and</span> <span style=\"background-color: #FFFEFE\">eager</span> <span style=\"background-color: #FFFEFE\">to</span> <span style=\"background-color: #FFFEFE\">be</span> <span style=\"background-color: #FFFEFE\">a</span> <span style=\"background-color: #FFFEFE\">success</span> <span style=\"background-color: #FFFEFE\">candidates</span> <span style=\"background-color: #FFFEFE\">must</span> <span style=\"background-color: #FFFEFE\">have</span> <span style=\"background-color: #FFFEFE\">a</span> <span style=\"background-color: #FFFEFE\">degree</span> <span style=\"background-color: #FFFEFE\">or</span> <span style=\"background-color: #FFFEFE\">at</span> <span style=\"background-color: #FFFEFE\">least</span> <span style=\"background-color: #FFFEFE\">be</span> <span style=\"background-color: #FFFEFE\">able</span> <span style=\"background-color: #FFFEFE\">to</span> <span style=\"background-color: #FFFEFE\">show</span> <span style=\"background-color: #FFFEFE\">a</span> <span style=\"background-color: #FFFEFE\">strong</span> <span style=\"background-color: #FFFEFE\">ability</span> <span style=\"background-color: #FFFEFE\">to</span> <span style=\"background-color: #FFFEFE\">learn</span> <span style=\"background-color: #FFFEFE\">role</span> <span style=\"background-color: #FFFEFE\">information</span> <span style=\"background-color: #FFFEFE\">managing</span> <span style=\"background-color: #FFFEFE\">the</span> <span style=\"background-color: #FEFEFF\">east</span> <span style=\"background-color: #FEFEFF\">midlands</span> <span style=\"background-color: #FEFEFF\">region</span> <span style=\"background-color: #FFFEFE\">selling</span> <span style=\"background-color: #FFFEFE\">across</span> <span style=\"background-color: #FEFEFF\">the</span> <span style=\"background-color: #FFFEFE\">company</span> <span style=\"background-color: #FFFEFE\">'</span> <span style=\"background-color: #FFFEFE\">s</span> <span style=\"background-color: #FFFEFE\">range</span> <span style=\"background-color: #FEFEFF\">of</span> <span style=\"background-color: #FFFEFE\">iv</span> <span style=\"background-color: #FFFEFE\">and</span> <span style=\"background-color: #FFFEFE\">infusion</span> <span style=\"background-color: #FEFEFF\">solutions</span> <span style=\"background-color: #FFFEFE\">portfolio</span> <span style=\"background-color: #FFFEFE\">selling</span> <span style=\"background-color: #FFFEFE\">into</span> <span style=\"background-color: #FFFEFE\">lead</span> <span style=\"background-color: #FFFEFE\">intensive</span> <span style=\"background-color: #FFFEFE\">care</span> <span style=\"background-color: #FFFEFE\">nurse</span> <span style=\"background-color: #FEFEFF\">specialists</span> <span style=\"background-color: #FFFEFE\">,</span> <span style=\"background-color: #FFFEFE\">ward</span> <span style=\"background-color: #FFFEFE\">managers</span> <span style=\"background-color: #FEFEFF\">,</span> <span style=\"background-color: #FFFEFE\">iv</span> <span style=\"background-color: #FFFEFE\">teams</span> <span style=\"background-color: #FFFEFE\">,</span> <span style=\"background-color: #FFFEFE\">infection</span> <span style=\"background-color: #FEFEFF\">control</span> <span style=\"background-color: #FFFEFE\">teams</span> <span style=\"background-color: #FEFEFF\">,</span> <span style=\"background-color: #FFFEFE\">procurement</span> <span style=\"background-color: #FFFEFE\">sales</span> <span style=\"background-color: #FEFEFF\">specialist</span> <span style=\"background-color: #FFFEFE\">iv</span> <span style=\"background-color: #FFFEFE\">access</span> <span style=\"background-color: #FFFEFE\">and</span> <span style=\"background-color: #FFFEFE\">infusion</span> <span style=\"background-color: #FFFEFE\">candidates</span> <span style=\"background-color: #FFFEFE\">must</span> <span style=\"background-color: #FFFEFE\">be</span> <span style=\"background-color: #FFFEFE\">eligible</span> <span style=\"background-color: #FFFEFE\">to</span> <span style=\"background-color: #FFFEFE\">work</span> <span style=\"background-color: #FFFEFE\">and</span> <span style=\"background-color: #FFFEFE\">live</span> <span style=\"background-color: #FFFEFE\">in</span> <span style=\"background-color: #FFFEFE\">the</span> <span style=\"background-color: #FFFEFE\">uk</span> <span style=\"background-color: #FFFEFE\">.</span> <span style=\"background-color: #FFFEFE\">please</span> <span style=\"background-color: #FFFEFE\">contact</span> <span style=\"background-color: #FFFEFE\">allan</span> <span style=\"background-color: #FFFEFE\">waller</span> <span style=\"background-color: #FEFEFF\">on</span> <span style=\"background-color: #FFFEFE\">****</span> <span style=\"background-color: #FFFEFE\">****</span> <span style=\"background-color: #FFFEFE\">****</span> <span style=\"background-color: #FFFEFE\">or</span> <span style=\"background-color: #FFFEFE\">please</span> <span style=\"background-color: #FFFEFE\">hit</span> <span style=\"background-color: #FFFEFE\">the</span> <span style=\"background-color: #FEFEFF\">apply</span> <span style=\"background-color: #FFFEFE\">button</span> <span style=\"background-color: #FCFCFF\">.</span> <span style=\"background-color: #FCFCFF\">this</span> <span style=\"background-color: #FFFEFE\">job</span> <span style=\"background-color: #FFFEFE\">was</span> <span style=\"background-color: #FFFEFE\">originally</span> <span style=\"background-color: #FFFEFE\">posted</span> <span style=\"background-color: #FFFEFE\">as</span> <span style=\"background-color: #FFFEFE\">www</span> <span style=\"background-color: #FEFEFF\">.</span> <span style=\"background-color: #FFFEFE\">salestarget</span> <span style=\"background-color: #FFFEFE\">.</span> <span style=\"background-color: #FFFEFE\">co</span> <span style=\"background-color: #FFFEFE\">.</span> <span style=\"background-color: #FFFEFE\">uk</span> <span style=\"background-color: #FFFEFE\">/</span> <span style=\"background-color: #FFFEFE\">jobseeking</span> <span style=\"background-color: #FFFEFE\">/</span> <span style=\"background-color: #FFFEFE\">UNK</span> <span style=\"background-color: #FFFEFE\">****</span></p>"
          },
          "metadata": {}
        }
      ]
    },
    {
      "cell_type": "code",
      "source": [
        "i = np.random.randint(len(data))\n",
        "print(\"Index:\", i)\n",
        "print(\"Salary (gbp):\", np.expm1(model(make_batch(data.iloc[i: i+1], device=device)).detach().cpu()))\n",
        "\n",
        "tokens_and_weights = explain(model, data.loc[i], \"Title\")\n",
        "draw_html([(tok, weight * 5) for tok, weight in tokens_and_weights], font_style='font-size:20px;');\n",
        "\n",
        "tokens_and_weights = explain(model, data.loc[i], \"FullDescription\")\n",
        "draw_html([(tok, weight * 10) for tok, weight in tokens_and_weights]);"
      ],
      "metadata": {
        "id": "Qo6Aq67LA7CM",
        "execution": {
          "iopub.status.busy": "2023-10-04T13:44:45.165814Z",
          "iopub.execute_input": "2023-10-04T13:44:45.166147Z",
          "iopub.status.idle": "2023-10-04T13:44:45.318544Z",
          "shell.execute_reply.started": "2023-10-04T13:44:45.166121Z",
          "shell.execute_reply": "2023-10-04T13:44:45.317677Z"
        },
        "trusted": true,
        "outputId": "b30b74e8-2a2c-4132-e67b-643bcb668fbe"
      },
      "execution_count": null,
      "outputs": [
        {
          "name": "stdout",
          "text": "Index: 29881\nSalary (gbp): tensor([[31151.0352]])\n",
          "output_type": "stream"
        },
        {
          "output_type": "display_data",
          "data": {
            "text/html": "<p style=\"font-size:20px;\"><span style=\"background-color: #FFFEFE\">key</span> <span style=\"background-color: #FFFEFE\">account</span> <span style=\"background-color: #FAFAFF\">manager</span> <span style=\"background-color: #FEFEFF\">abrasives</span></p>"
          },
          "metadata": {}
        },
        {
          "output_type": "display_data",
          "data": {
            "text/html": "<p style=\"font-size:14px;\"><span style=\"background-color: #FFFEFE\">key</span> <span style=\"background-color: #FFFEFE\">account</span> <span style=\"background-color: #FFFEFE\">manager</span> <span style=\"background-color: #FEFEFF\">uk</span> <span style=\"background-color: #FFFEFE\">ireland</span> <span style=\"background-color: #FEFEFF\">********</span> <span style=\"background-color: #FFFEFE\">bonus</span> <span style=\"background-color: #FFFEFE\">,</span> <span style=\"background-color: #FEFEFF\">car</span> <span style=\"background-color: #FFFEFE\">benefits</span> <span style=\"background-color: #FFFEFE\">there</span> <span style=\"background-color: #FFFEFE\">could</span> <span style=\"background-color: #FFFEFE\">never</span> <span style=\"background-color: #FEFEFF\">be</span> <span style=\"background-color: #FFFEFE\">a</span> <span style=\"background-color: #FFFEFE\">better</span> <span style=\"background-color: #FFFEFE\">time</span> <span style=\"background-color: #FFFEFE\">to</span> <span style=\"background-color: #FFFEFE\">join</span> <span style=\"background-color: #FEFEFF\">this</span> <span style=\"background-color: #FEFEFF\">major</span> <span style=\"background-color: #FFFEFE\">,</span> <span style=\"background-color: #FCFCFF\">global</span> <span style=\"background-color: #FFFEFE\">manufacturer</span> <span style=\"background-color: #FEFEFF\">.</span> <span style=\"background-color: #FFFEFE\">they</span> <span style=\"background-color: #FFFEFE\">are</span> <span style=\"background-color: #FEFEFF\">one</span> <span style=\"background-color: #FEFEFF\">of</span> <span style=\"background-color: #FFFEFE\">the</span> <span style=\"background-color: #FFFEFE\">major</span> <span style=\"background-color: #FFFEFE\">players</span> <span style=\"background-color: #FFFEFE\">in</span> <span style=\"background-color: #FEFEFF\">the</span> <span style=\"background-color: #FFFEFE\">field</span> <span style=\"background-color: #FFFEFE\">of</span> <span style=\"background-color: #FFFEFE\">diamond</span> <span style=\"background-color: #FFFEFE\">cutting</span> <span style=\"background-color: #FFFEFE\">tools</span> <span style=\"background-color: #FFFEFE\">and</span> <span style=\"background-color: #FFFEFE\">abrasives</span> <span style=\"background-color: #FFFEFE\">and</span> <span style=\"background-color: #FFFEFE\">cover</span> <span style=\"background-color: #FFFEFE\">a</span> <span style=\"background-color: #FFFEFE\">range</span> <span style=\"background-color: #FFFEFE\">of</span> <span style=\"background-color: #FFFEFE\">industries</span> <span style=\"background-color: #FFFEFE\">including</span> <span style=\"background-color: #FEFEFF\">construction</span> <span style=\"background-color: #FFFEFE\">,</span> <span style=\"background-color: #FEFEFF\">engineering</span> <span style=\"background-color: #FEFEFF\">,</span> <span style=\"background-color: #FFFEFE\">manufacturing</span> <span style=\"background-color: #FEFEFF\">,</span> <span style=\"background-color: #FFFEFE\">industrial</span> <span style=\"background-color: #FEFEFF\">and</span> <span style=\"background-color: #FFFEFE\">automotive</span> <span style=\"background-color: #FFFEFE\">.</span> <span style=\"background-color: #FEFEFF\">they</span> <span style=\"background-color: #FFFEFE\">are</span> <span style=\"background-color: #FEFEFF\">renowned</span> <span style=\"background-color: #FFFEFE\">for</span> <span style=\"background-color: #FFFEFE\">the</span> <span style=\"background-color: #FFFEFE\">quality</span> <span style=\"background-color: #FFFEFE\">of</span> <span style=\"background-color: #FFFEFE\">their</span> <span style=\"background-color: #FFFEFE\">product</span> <span style=\"background-color: #FFFEFE\">and</span> <span style=\"background-color: #FCFCFF\">service</span> <span style=\"background-color: #FCFCFF\">.</span> <span style=\"background-color: #FCFCFF\">continued</span> <span style=\"background-color: #FFFEFE\">success</span> <span style=\"background-color: #FFFEFE\">has</span> <span style=\"background-color: #FFFEFE\">resulted</span> <span style=\"background-color: #FFFEFE\">in</span> <span style=\"background-color: #FFFEFE\">a</span> <span style=\"background-color: #FFFEFE\">newly</span> <span style=\"background-color: #FEFEFF\">created</span> <span style=\"background-color: #FEFEFF\">role</span> <span style=\"background-color: #FEFEFF\">for</span> <span style=\"background-color: #FFFEFE\">a</span> <span style=\"background-color: #FFFEFE\">talented</span> <span style=\"background-color: #FEFEFF\">key</span> <span style=\"background-color: #FFFEFE\">account</span> <span style=\"background-color: #FFFEFE\">manager</span> <span style=\"background-color: #FEFEFF\">.</span> <span style=\"background-color: #FFFEFE\">working</span> <span style=\"background-color: #FFFEFE\">from</span> <span style=\"background-color: #FFFEFE\">home</span> <span style=\"background-color: #FFFEFE\">and</span> <span style=\"background-color: #FFFEFE\">reporting</span> <span style=\"background-color: #FFFEFE\">to</span> <span style=\"background-color: #FFFEFE\">the</span> <span style=\"background-color: #FFFEFE\">national</span> <span style=\"background-color: #FFFEFE\">sales</span> <span style=\"background-color: #FFFEFE\">manager</span> <span style=\"background-color: #FFFEFE\">,</span> <span style=\"background-color: #FFFEFE\">you</span> <span style=\"background-color: #FFFEFE\">will</span> <span style=\"background-color: #FEFEFF\">be</span> <span style=\"background-color: #FEFEFF\">responsible</span> <span style=\"background-color: #FEFEFF\">for</span> <span style=\"background-color: #FFFEFE\">managing</span> <span style=\"background-color: #FEFEFF\">existing</span> <span style=\"background-color: #FEFEFF\">and</span> <span style=\"background-color: #FFFEFE\">securing</span> <span style=\"background-color: #FFFEFE\">new</span> <span style=\"background-color: #FFFEFE\">key</span> <span style=\"background-color: #FFFEFE\">account</span> <span style=\"background-color: #FFFEFE\">business</span> <span style=\"background-color: #FFFEFE\">.</span> <span style=\"background-color: #FFFEFE\">you</span> <span style=\"background-color: #FFFEFE\">will</span> <span style=\"background-color: #FEFEFF\">be</span> <span style=\"background-color: #FFFEFE\">defining</span> <span style=\"background-color: #FFFEFE\">and</span> <span style=\"background-color: #FEFEFF\">implementing</span> <span style=\"background-color: #FEFEFF\">strategies</span> <span style=\"background-color: #FFFEFE\">for</span> <span style=\"background-color: #FEFEFF\">generating</span> <span style=\"background-color: #FFFEFE\">key</span> <span style=\"background-color: #FFFEFE\">account</span> <span style=\"background-color: #FFFEFE\">sales</span> <span style=\"background-color: #FFFEFE\">,</span> <span style=\"background-color: #FFFEFE\">and</span> <span style=\"background-color: #FFFEFE\">preparing</span> <span style=\"background-color: #FFFEFE\">target</span> <span style=\"background-color: #FFFEFE\">plans</span> <span style=\"background-color: #FFFEFE\">to</span> <span style=\"background-color: #FFFEFE\">identify</span> <span style=\"background-color: #FFFEFE\">and</span> <span style=\"background-color: #FFFEFE\">achieve</span> <span style=\"background-color: #FFFEFE\">short</span> <span style=\"background-color: #FEFEFF\">,</span> <span style=\"background-color: #FFFEFE\">medium</span> <span style=\"background-color: #FEFEFF\">and</span> <span style=\"background-color: #FFFEFE\">long</span> <span style=\"background-color: #FFFEFE\">term</span> <span style=\"background-color: #FFFEFE\">objectives</span> <span style=\"background-color: #FFFEFE\">.</span> <span style=\"background-color: #FEFEFF\">your</span> <span style=\"background-color: #FEFEFF\">brief</span> <span style=\"background-color: #FFFEFE\">will</span> <span style=\"background-color: #FFFEFE\">include</span> <span style=\"background-color: #FEFEFF\">the</span> <span style=\"background-color: #FEFEFF\">identification</span> <span style=\"background-color: #FFFEFE\">of</span> <span style=\"background-color: #FFFEFE\">new</span> <span style=\"background-color: #FFFEFE\">sales</span> <span style=\"background-color: #FFFEFE\">opportunities</span> <span style=\"background-color: #FFFEFE\">via</span> <span style=\"background-color: #FEFEFF\">new</span> <span style=\"background-color: #FFFEFE\">account</span> <span style=\"background-color: #FEFEFF\">generation</span> <span style=\"background-color: #FFFEFE\">whilst</span> <span style=\"background-color: #FEFEFF\">building</span> <span style=\"background-color: #FEFEFF\">strong</span> <span style=\"background-color: #FEFEFF\">relationships</span> <span style=\"background-color: #FEFEFF\">at</span> <span style=\"background-color: #FEFEFF\">all</span> <span style=\"background-color: #FEFEFF\">levels</span> <span style=\"background-color: #FEFEFF\">.</span> <span style=\"background-color: #FFFEFE\">you</span> <span style=\"background-color: #FEFEFF\">'</span> <span style=\"background-color: #FFFEFE\">ll</span> <span style=\"background-color: #FFFEFE\">be</span> <span style=\"background-color: #FFFEFE\">liaising</span> <span style=\"background-color: #FFFEFE\">with</span> <span style=\"background-color: #FFFEFE\">the</span> <span style=\"background-color: #FFFEFE\">national</span> <span style=\"background-color: #FFFEFE\">sales</span> <span style=\"background-color: #FFFEFE\">manager</span> <span style=\"background-color: #FFFEFE\">on</span> <span style=\"background-color: #FFFEFE\">a</span> <span style=\"background-color: #FFFEFE\">regular</span> <span style=\"background-color: #FFFEFE\">basis</span> <span style=\"background-color: #FEFEFF\">in</span> <span style=\"background-color: #FFFEFE\">order</span> <span style=\"background-color: #FFFEFE\">to</span> <span style=\"background-color: #FFFEFE\">develop</span> <span style=\"background-color: #FFFEFE\">sales</span> <span style=\"background-color: #FFFEFE\">within</span> <span style=\"background-color: #FFFEFE\">the</span> <span style=\"background-color: #FFFEFE\">key</span> <span style=\"background-color: #FEFEFF\">account</span> <span style=\"background-color: #FFFEFE\">headquarters</span> <span style=\"background-color: #FFFEFE\">and</span> <span style=\"background-color: #FFFEFE\">the</span> <span style=\"background-color: #FFFEFE\">branches</span> <span style=\"background-color: #FFFEFE\">via</span> <span style=\"background-color: #FFFEFE\">support</span> <span style=\"background-color: #FFFEFE\">from</span> <span style=\"background-color: #FFFEFE\">the</span> <span style=\"background-color: #FFFEFE\">trade</span> <span style=\"background-color: #FFFEFE\">sales</span> <span style=\"background-color: #FFFEFE\">team</span> <span style=\"background-color: #FFFEFE\">.</span> <span style=\"background-color: #FFFEFE\">centrally</span> <span style=\"background-color: #FFFEFE\">based</span> <span style=\"background-color: #FFFEFE\">,</span> <span style=\"background-color: #FFFEFE\">it</span> <span style=\"background-color: #FFFEFE\">is</span> <span style=\"background-color: #FFFEFE\">essential</span> <span style=\"background-color: #FEFEFF\">that</span> <span style=\"background-color: #FEFEFF\">you</span> <span style=\"background-color: #FFFEFE\">can</span> <span style=\"background-color: #FEFEFF\">demonstrate</span> <span style=\"background-color: #FFFEFE\">success</span> <span style=\"background-color: #FFFEFE\">in</span> <span style=\"background-color: #FFFEFE\">winning</span> <span style=\"background-color: #FFFEFE\">,</span> <span style=\"background-color: #FFFEFE\">developing</span> <span style=\"background-color: #FFFEFE\">and</span> <span style=\"background-color: #FFFEFE\">managing</span> <span style=\"background-color: #FFFEFE\">key</span> <span style=\"background-color: #FFFEFE\">account</span> <span style=\"background-color: #FEFEFF\">business</span> <span style=\"background-color: #FFFEFE\">as</span> <span style=\"background-color: #FEFEFF\">well</span> <span style=\"background-color: #FEFEFF\">as</span> <span style=\"background-color: #FFFEFE\">showing</span> <span style=\"background-color: #FFFEFE\">extensive</span> <span style=\"background-color: #FFFEFE\">experience</span> <span style=\"background-color: #FFFEFE\">selling</span> <span style=\"background-color: #FFFEFE\">via</span> <span style=\"background-color: #FFFEFE\">distributors</span> <span style=\"background-color: #FFFEFE\">and</span> <span style=\"background-color: #FFFEFE\">resellers</span> <span style=\"background-color: #FFFEFE\">.</span> <span style=\"background-color: #FFFEFE\">your</span> <span style=\"background-color: #FEFEFF\">experience</span> <span style=\"background-color: #FFFEFE\">will</span> <span style=\"background-color: #FEFEFF\">have</span> <span style=\"background-color: #FFFEFE\">been</span> <span style=\"background-color: #FFFEFE\">gained</span> <span style=\"background-color: #FFFEFE\">in</span> <span style=\"background-color: #FEFEFF\">the</span> <span style=\"background-color: #FFFEFE\">abrasives</span> <span style=\"background-color: #FFFEFE\">,</span> <span style=\"background-color: #FFFEFE\">cutting</span> <span style=\"background-color: #FFFEFE\">tools</span> <span style=\"background-color: #FFFEFE\">,</span> <span style=\"background-color: #FFFEFE\">power</span> <span style=\"background-color: #FFFEFE\">tools</span> <span style=\"background-color: #FFFEFE\">,</span> <span style=\"background-color: #FFFEFE\">hand</span> <span style=\"background-color: #FFFEFE\">tools</span> <span style=\"background-color: #FFFEFE\">or</span> <span style=\"background-color: #FEFEFF\">industrial</span> <span style=\"background-color: #FEFEFF\">supplies</span> <span style=\"background-color: #FFFEFE\">market</span> <span style=\"background-color: #FFFEFE\">.</span> <span style=\"background-color: #FFFEFE\">first</span> <span style=\"background-color: #FFFEFE\">class</span> <span style=\"background-color: #FFFEFE\">communication</span> <span style=\"background-color: #FEFEFF\">and</span> <span style=\"background-color: #FFFEFE\">presentation</span> <span style=\"background-color: #FFFEFE\">skills</span> <span style=\"background-color: #FFFEFE\">are</span> <span style=\"background-color: #FEFEFF\">essential</span> <span style=\"background-color: #FFFEFE\">together</span> <span style=\"background-color: #FEFEFF\">with</span> <span style=\"background-color: #FFFEFE\">it</span> <span style=\"background-color: #FFFEFE\">literacy</span> <span style=\"background-color: #FEFEFF\">,</span> <span style=\"background-color: #FEFEFF\">attention</span> <span style=\"background-color: #FFFEFE\">to</span> <span style=\"background-color: #FEFEFF\">detail</span> <span style=\"background-color: #FEFEFF\">,</span> <span style=\"background-color: #FEFEFF\">and</span> <span style=\"background-color: #FFFEFE\">the</span> <span style=\"background-color: #FFFEFE\">discipline</span> <span style=\"background-color: #FFFEFE\">,</span> <span style=\"background-color: #FFFEFE\">initiative</span> <span style=\"background-color: #FFFEFE\">and</span> <span style=\"background-color: #FFFEFE\">motivation</span> <span style=\"background-color: #FFFEFE\">required</span> <span style=\"background-color: #FFFEFE\">to</span> <span style=\"background-color: #FFFEFE\">work</span> <span style=\"background-color: #FEFEFF\">successfully</span> <span style=\"background-color: #FEFEFF\">from</span> <span style=\"background-color: #FFFEFE\">home</span> <span style=\"background-color: #FFFEFE\">.</span> <span style=\"background-color: #FFFEFE\">this</span> <span style=\"background-color: #FFFEFE\">is</span> <span style=\"background-color: #FFFEFE\">a</span> <span style=\"background-color: #FEFEFF\">superb</span> <span style=\"background-color: #FEFEFF\">opportunity</span> <span style=\"background-color: #FEFEFF\">to</span> <span style=\"background-color: #FEFEFF\">progress</span> <span style=\"background-color: #FEFEFF\">your</span> <span style=\"background-color: #FEFEFF\">career</span> <span style=\"background-color: #FEFEFF\">with</span> <span style=\"background-color: #FFFEFE\">a</span> <span style=\"background-color: #FFFEFE\">forward</span> <span style=\"background-color: #FFFEFE\">thinking</span> <span style=\"background-color: #FFFEFE\">,</span> <span style=\"background-color: #FFFEFE\">innovative</span> <span style=\"background-color: #FEFEFF\">organisation</span> <span style=\"background-color: #FEFEFF\">.</span> <span style=\"background-color: #FEFEFF\">this</span> <span style=\"background-color: #FFFEFE\">job</span> <span style=\"background-color: #FFFEFE\">was</span> <span style=\"background-color: #FFFEFE\">originally</span> <span style=\"background-color: #FFFEFE\">posted</span> <span style=\"background-color: #FFFEFE\">as</span> <span style=\"background-color: #FEFEFF\">www</span> <span style=\"background-color: #FEFEFF\">.</span> <span style=\"background-color: #FFFEFE\">totaljobs</span> <span style=\"background-color: #FFFEFE\">.</span> <span style=\"background-color: #FFFEFE\">com</span> <span style=\"background-color: #FEFEFF\">/</span> <span style=\"background-color: #FFFEFE\">jobseeking</span> <span style=\"background-color: #FFFEFE\">/</span> <span style=\"background-color: #FFFEFE\">UNK</span> <span style=\"background-color: #FEFEFF\">****</span></p>"
          },
          "metadata": {}
        }
      ]
    },
    {
      "cell_type": "markdown",
      "source": [
        "__Terrible start-up idea #1962:__ make a tool that automaticaly rephrases your job description (or CV) to meet salary expectations :)"
      ],
      "metadata": {
        "id": "ShDbIvlAA7CM"
      }
    }
  ]
}