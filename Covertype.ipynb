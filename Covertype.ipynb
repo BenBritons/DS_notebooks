{
  "cells": [
    {
      "cell_type": "markdown",
      "metadata": {
        "id": "pkoNPahKRsv7"
      },
      "source": [
        "# Computind Covertype from the UCI dataset with the help of basic Scikit-learn tools\n",
        "### I will use dataset from UCI Machine Learning Repository (http://archive.ics.uci.edu/ml/datasets/Covertype)"
      ]
    },
    {
      "cell_type": "markdown",
      "metadata": {
        "id": "XjBgNWOmTk7t"
      },
      "source": [
        "Lets download our dataset:"
      ]
    },
    {
      "cell_type": "code",
      "execution_count": null,
      "metadata": {
        "colab": {
          "base_uri": "https://localhost:8080/"
        },
        "id": "gjpnGEwUTrQZ",
        "outputId": "9c95652e-1a99-4dc4-b4f1-0095137b6734"
      },
      "outputs": [
        {
          "output_type": "stream",
          "name": "stdout",
          "text": [
            "  % Total    % Received % Xferd  Average Speed   Time    Time     Time  Current\n",
            "                                 Dload  Upload   Total   Spent    Left  Speed\n",
            "100 10.7M  100 10.7M    0     0  12.6M      0 --:--:-- --:--:-- --:--:-- 12.6M\n",
            "gzip: dataset.data already exists; do you wish to overwrite (y or n)? n\n",
            "\tnot overwritten\n"
          ]
        }
      ],
      "source": [
        "!curl -o dataset.data.gz https://archive.ics.uci.edu/ml/machine-learning-databases/covtype/covtype.data.gz\n",
        "!gunzip dataset.data.gz\n",
        "!rm -f dataset.data.gz"
      ]
    },
    {
      "cell_type": "code",
      "source": [
        "import numpy as np\n",
        "np.logspace(1.0, 4.0, num=6)"
      ],
      "metadata": {
        "colab": {
          "base_uri": "https://localhost:8080/"
        },
        "id": "erjo931dy7uo",
        "outputId": "07e74197-e82b-4230-a727-e4413dbe8cad"
      },
      "execution_count": null,
      "outputs": [
        {
          "output_type": "execute_result",
          "data": {
            "text/plain": [
              "array([   10.        ,    39.81071706,   158.48931925,   630.95734448,\n",
              "        2511.88643151, 10000.        ])"
            ]
          },
          "metadata": {},
          "execution_count": 2
        }
      ]
    },
    {
      "cell_type": "markdown",
      "metadata": {
        "id": "zgfRMZWpUIXM"
      },
      "source": [
        "###Download required libraries for dataset representation:\n",
        "\n"
      ]
    },
    {
      "cell_type": "code",
      "execution_count": null,
      "metadata": {
        "colab": {
          "base_uri": "https://localhost:8080/",
          "height": 235
        },
        "id": "vNQ98uORU5QM",
        "outputId": "cfe09584-321f-4cdf-e4c6-ec841a36c945"
      },
      "outputs": [
        {
          "output_type": "execute_result",
          "data": {
            "text/plain": [
              "     0    1   2    3    4     5    6    7    8     9   ...  45  46  47  48  \\\n",
              "0  2596   51   3  258    0   510  221  232  148  6279  ...   0   0   0   0   \n",
              "1  2590   56   2  212   -6   390  220  235  151  6225  ...   0   0   0   0   \n",
              "2  2804  139   9  268   65  3180  234  238  135  6121  ...   0   0   0   0   \n",
              "3  2785  155  18  242  118  3090  238  238  122  6211  ...   0   0   0   0   \n",
              "4  2595   45   2  153   -1   391  220  234  150  6172  ...   0   0   0   0   \n",
              "\n",
              "   49  50  51  52  53  54  \n",
              "0   0   0   0   0   0   5  \n",
              "1   0   0   0   0   0   5  \n",
              "2   0   0   0   0   0   2  \n",
              "3   0   0   0   0   0   2  \n",
              "4   0   0   0   0   0   5  \n",
              "\n",
              "[5 rows x 55 columns]"
            ],
            "text/html": [
              "\n",
              "  <div id=\"df-3de1e88b-5018-4d2d-991e-03d31d57771d\">\n",
              "    <div class=\"colab-df-container\">\n",
              "      <div>\n",
              "<style scoped>\n",
              "    .dataframe tbody tr th:only-of-type {\n",
              "        vertical-align: middle;\n",
              "    }\n",
              "\n",
              "    .dataframe tbody tr th {\n",
              "        vertical-align: top;\n",
              "    }\n",
              "\n",
              "    .dataframe thead th {\n",
              "        text-align: right;\n",
              "    }\n",
              "</style>\n",
              "<table border=\"1\" class=\"dataframe\">\n",
              "  <thead>\n",
              "    <tr style=\"text-align: right;\">\n",
              "      <th></th>\n",
              "      <th>0</th>\n",
              "      <th>1</th>\n",
              "      <th>2</th>\n",
              "      <th>3</th>\n",
              "      <th>4</th>\n",
              "      <th>5</th>\n",
              "      <th>6</th>\n",
              "      <th>7</th>\n",
              "      <th>8</th>\n",
              "      <th>9</th>\n",
              "      <th>...</th>\n",
              "      <th>45</th>\n",
              "      <th>46</th>\n",
              "      <th>47</th>\n",
              "      <th>48</th>\n",
              "      <th>49</th>\n",
              "      <th>50</th>\n",
              "      <th>51</th>\n",
              "      <th>52</th>\n",
              "      <th>53</th>\n",
              "      <th>54</th>\n",
              "    </tr>\n",
              "  </thead>\n",
              "  <tbody>\n",
              "    <tr>\n",
              "      <th>0</th>\n",
              "      <td>2596</td>\n",
              "      <td>51</td>\n",
              "      <td>3</td>\n",
              "      <td>258</td>\n",
              "      <td>0</td>\n",
              "      <td>510</td>\n",
              "      <td>221</td>\n",
              "      <td>232</td>\n",
              "      <td>148</td>\n",
              "      <td>6279</td>\n",
              "      <td>...</td>\n",
              "      <td>0</td>\n",
              "      <td>0</td>\n",
              "      <td>0</td>\n",
              "      <td>0</td>\n",
              "      <td>0</td>\n",
              "      <td>0</td>\n",
              "      <td>0</td>\n",
              "      <td>0</td>\n",
              "      <td>0</td>\n",
              "      <td>5</td>\n",
              "    </tr>\n",
              "    <tr>\n",
              "      <th>1</th>\n",
              "      <td>2590</td>\n",
              "      <td>56</td>\n",
              "      <td>2</td>\n",
              "      <td>212</td>\n",
              "      <td>-6</td>\n",
              "      <td>390</td>\n",
              "      <td>220</td>\n",
              "      <td>235</td>\n",
              "      <td>151</td>\n",
              "      <td>6225</td>\n",
              "      <td>...</td>\n",
              "      <td>0</td>\n",
              "      <td>0</td>\n",
              "      <td>0</td>\n",
              "      <td>0</td>\n",
              "      <td>0</td>\n",
              "      <td>0</td>\n",
              "      <td>0</td>\n",
              "      <td>0</td>\n",
              "      <td>0</td>\n",
              "      <td>5</td>\n",
              "    </tr>\n",
              "    <tr>\n",
              "      <th>2</th>\n",
              "      <td>2804</td>\n",
              "      <td>139</td>\n",
              "      <td>9</td>\n",
              "      <td>268</td>\n",
              "      <td>65</td>\n",
              "      <td>3180</td>\n",
              "      <td>234</td>\n",
              "      <td>238</td>\n",
              "      <td>135</td>\n",
              "      <td>6121</td>\n",
              "      <td>...</td>\n",
              "      <td>0</td>\n",
              "      <td>0</td>\n",
              "      <td>0</td>\n",
              "      <td>0</td>\n",
              "      <td>0</td>\n",
              "      <td>0</td>\n",
              "      <td>0</td>\n",
              "      <td>0</td>\n",
              "      <td>0</td>\n",
              "      <td>2</td>\n",
              "    </tr>\n",
              "    <tr>\n",
              "      <th>3</th>\n",
              "      <td>2785</td>\n",
              "      <td>155</td>\n",
              "      <td>18</td>\n",
              "      <td>242</td>\n",
              "      <td>118</td>\n",
              "      <td>3090</td>\n",
              "      <td>238</td>\n",
              "      <td>238</td>\n",
              "      <td>122</td>\n",
              "      <td>6211</td>\n",
              "      <td>...</td>\n",
              "      <td>0</td>\n",
              "      <td>0</td>\n",
              "      <td>0</td>\n",
              "      <td>0</td>\n",
              "      <td>0</td>\n",
              "      <td>0</td>\n",
              "      <td>0</td>\n",
              "      <td>0</td>\n",
              "      <td>0</td>\n",
              "      <td>2</td>\n",
              "    </tr>\n",
              "    <tr>\n",
              "      <th>4</th>\n",
              "      <td>2595</td>\n",
              "      <td>45</td>\n",
              "      <td>2</td>\n",
              "      <td>153</td>\n",
              "      <td>-1</td>\n",
              "      <td>391</td>\n",
              "      <td>220</td>\n",
              "      <td>234</td>\n",
              "      <td>150</td>\n",
              "      <td>6172</td>\n",
              "      <td>...</td>\n",
              "      <td>0</td>\n",
              "      <td>0</td>\n",
              "      <td>0</td>\n",
              "      <td>0</td>\n",
              "      <td>0</td>\n",
              "      <td>0</td>\n",
              "      <td>0</td>\n",
              "      <td>0</td>\n",
              "      <td>0</td>\n",
              "      <td>5</td>\n",
              "    </tr>\n",
              "  </tbody>\n",
              "</table>\n",
              "<p>5 rows × 55 columns</p>\n",
              "</div>\n",
              "      <button class=\"colab-df-convert\" onclick=\"convertToInteractive('df-3de1e88b-5018-4d2d-991e-03d31d57771d')\"\n",
              "              title=\"Convert this dataframe to an interactive table.\"\n",
              "              style=\"display:none;\">\n",
              "        \n",
              "  <svg xmlns=\"http://www.w3.org/2000/svg\" height=\"24px\"viewBox=\"0 0 24 24\"\n",
              "       width=\"24px\">\n",
              "    <path d=\"M0 0h24v24H0V0z\" fill=\"none\"/>\n",
              "    <path d=\"M18.56 5.44l.94 2.06.94-2.06 2.06-.94-2.06-.94-.94-2.06-.94 2.06-2.06.94zm-11 1L8.5 8.5l.94-2.06 2.06-.94-2.06-.94L8.5 2.5l-.94 2.06-2.06.94zm10 10l.94 2.06.94-2.06 2.06-.94-2.06-.94-.94-2.06-.94 2.06-2.06.94z\"/><path d=\"M17.41 7.96l-1.37-1.37c-.4-.4-.92-.59-1.43-.59-.52 0-1.04.2-1.43.59L10.3 9.45l-7.72 7.72c-.78.78-.78 2.05 0 2.83L4 21.41c.39.39.9.59 1.41.59.51 0 1.02-.2 1.41-.59l7.78-7.78 2.81-2.81c.8-.78.8-2.07 0-2.86zM5.41 20L4 18.59l7.72-7.72 1.47 1.35L5.41 20z\"/>\n",
              "  </svg>\n",
              "      </button>\n",
              "      \n",
              "  <style>\n",
              "    .colab-df-container {\n",
              "      display:flex;\n",
              "      flex-wrap:wrap;\n",
              "      gap: 12px;\n",
              "    }\n",
              "\n",
              "    .colab-df-convert {\n",
              "      background-color: #E8F0FE;\n",
              "      border: none;\n",
              "      border-radius: 50%;\n",
              "      cursor: pointer;\n",
              "      display: none;\n",
              "      fill: #1967D2;\n",
              "      height: 32px;\n",
              "      padding: 0 0 0 0;\n",
              "      width: 32px;\n",
              "    }\n",
              "\n",
              "    .colab-df-convert:hover {\n",
              "      background-color: #E2EBFA;\n",
              "      box-shadow: 0px 1px 2px rgba(60, 64, 67, 0.3), 0px 1px 3px 1px rgba(60, 64, 67, 0.15);\n",
              "      fill: #174EA6;\n",
              "    }\n",
              "\n",
              "    [theme=dark] .colab-df-convert {\n",
              "      background-color: #3B4455;\n",
              "      fill: #D2E3FC;\n",
              "    }\n",
              "\n",
              "    [theme=dark] .colab-df-convert:hover {\n",
              "      background-color: #434B5C;\n",
              "      box-shadow: 0px 1px 3px 1px rgba(0, 0, 0, 0.15);\n",
              "      filter: drop-shadow(0px 1px 2px rgba(0, 0, 0, 0.3));\n",
              "      fill: #FFFFFF;\n",
              "    }\n",
              "  </style>\n",
              "\n",
              "      <script>\n",
              "        const buttonEl =\n",
              "          document.querySelector('#df-3de1e88b-5018-4d2d-991e-03d31d57771d button.colab-df-convert');\n",
              "        buttonEl.style.display =\n",
              "          google.colab.kernel.accessAllowed ? 'block' : 'none';\n",
              "\n",
              "        async function convertToInteractive(key) {\n",
              "          const element = document.querySelector('#df-3de1e88b-5018-4d2d-991e-03d31d57771d');\n",
              "          const dataTable =\n",
              "            await google.colab.kernel.invokeFunction('convertToInteractive',\n",
              "                                                     [key], {});\n",
              "          if (!dataTable) return;\n",
              "\n",
              "          const docLinkHtml = 'Like what you see? Visit the ' +\n",
              "            '<a target=\"_blank\" href=https://colab.research.google.com/notebooks/data_table.ipynb>data table notebook</a>'\n",
              "            + ' to learn more about interactive tables.';\n",
              "          element.innerHTML = '';\n",
              "          dataTable['output_type'] = 'display_data';\n",
              "          await google.colab.output.renderOutput(dataTable, element);\n",
              "          const docLink = document.createElement('div');\n",
              "          docLink.innerHTML = docLinkHtml;\n",
              "          element.appendChild(docLink);\n",
              "        }\n",
              "      </script>\n",
              "    </div>\n",
              "  </div>\n",
              "  "
            ]
          },
          "metadata": {},
          "execution_count": 3
        }
      ],
      "source": [
        "import pandas as pd\n",
        "import numpy as np\n",
        "\n",
        "all_data = pd.read_csv('dataset.data', header = None)\n",
        "all_data.head()"
      ]
    },
    {
      "cell_type": "markdown",
      "metadata": {
        "id": "kPfcI7NiXPMn"
      },
      "source": [
        "###Feature extraction"
      ]
    },
    {
      "cell_type": "code",
      "execution_count": null,
      "metadata": {
        "id": "GKsgPbpQXaF5"
      },
      "outputs": [],
      "source": [
        "labels = all_data[all_data.columns[-1]].values\n",
        "feature_matrix = all_data[all_data.columns[:-1]].values"
      ]
    },
    {
      "cell_type": "markdown",
      "metadata": {
        "id": "Hb--sjuaXmHB"
      },
      "source": [
        "### With the help of `train_test_split` divide our dataset for trainset and testset:"
      ]
    },
    {
      "cell_type": "code",
      "execution_count": null,
      "metadata": {
        "id": "Oc2NqeiQYGOU"
      },
      "outputs": [],
      "source": [
        "from sklearn.model_selection import train_test_split\n",
        "\n",
        "train_feature_matrix, test_feature_matrix, train_labels, test_labels = train_test_split(feature_matrix, labels, test_size=0.2, random_state=42)"
      ]
    },
    {
      "cell_type": "markdown",
      "metadata": {
        "id": "xyqrAaYDZfuc"
      },
      "source": [
        "###Let's try to use LogisticRegression() estimator\n"
      ]
    },
    {
      "cell_type": "code",
      "execution_count": null,
      "metadata": {
        "id": "GDDGmfPWZqPh",
        "colab": {
          "base_uri": "https://localhost:8080/"
        },
        "outputId": "73188aa2-77eb-4323-a856-15f378fbc9f8"
      },
      "outputs": [
        {
          "output_type": "stream",
          "name": "stderr",
          "text": [
            "/usr/local/lib/python3.9/dist-packages/sklearn/linear_model/_logistic.py:458: ConvergenceWarning: lbfgs failed to converge (status=1):\n",
            "STOP: TOTAL NO. of ITERATIONS REACHED LIMIT.\n",
            "\n",
            "Increase the number of iterations (max_iter) or scale the data as shown in:\n",
            "    https://scikit-learn.org/stable/modules/preprocessing.html\n",
            "Please also refer to the documentation for alternative solver options:\n",
            "    https://scikit-learn.org/stable/modules/linear_model.html#logistic-regression\n",
            "  n_iter_i = _check_optimize_result(\n"
          ]
        }
      ],
      "source": [
        "from sklearn.linear_model import LogisticRegression\n",
        "\n",
        "#creating model with next parametrs\n",
        "model = LogisticRegression()\n",
        "#fitting our model\n",
        "model.fit(train_feature_matrix, train_labels)\n",
        "#making prediction\n",
        "test_predictions = model.predict(test_feature_matrix)"
      ]
    },
    {
      "cell_type": "markdown",
      "metadata": {
        "id": "GlSGWcSf8kz9"
      },
      "source": [
        "###Checking accuracy from `metrics.accuracy_score`:\n"
      ]
    },
    {
      "cell_type": "code",
      "execution_count": null,
      "metadata": {
        "id": "J6WSelmh8w54",
        "colab": {
          "base_uri": "https://localhost:8080/"
        },
        "outputId": "d7a97124-c9a5-4481-9807-eebbd856a9f4"
      },
      "outputs": [
        {
          "output_type": "execute_result",
          "data": {
            "text/plain": [
              "0.622290302315775"
            ]
          },
          "metadata": {},
          "execution_count": 7
        }
      ],
      "source": [
        "from sklearn.metrics import accuracy_score\n",
        "\n",
        "accuracy_score(test_predictions, test_labels)"
      ]
    },
    {
      "cell_type": "markdown",
      "source": [
        "### As you can see we've got a little bit unaccurate model, with 62% accuracy lvl. Let's try to improve the resoult with the help of `model_selection.GridSearchCV` by choosing best hyperparams:\n",
        "I will choose folowing params\n",
        "\n",
        "1.   `C` for the inverse of regularization strength (C=1/λ)\n",
        "2.   `l1_ratio` for regularization\n",
        "\n",
        "I will use saga solver due to the fact I will use Elastic-Net penalty for l1 and l2-norm regularization\n",
        "\n",
        "### And also i need to norm my dataset to have zero mean and unit variance. I will use `sklearn.preprocessing.StandardScaler` for this purpose:"
      ],
      "metadata": {
        "id": "CV_TlQB6M6jd"
      }
    },
    {
      "cell_type": "code",
      "source": [
        "train_feature_matrix"
      ],
      "metadata": {
        "colab": {
          "base_uri": "https://localhost:8080/"
        },
        "id": "7APysxCK351O",
        "outputId": "10a77996-012b-4769-935e-cd903fa3a8b3"
      },
      "execution_count": null,
      "outputs": [
        {
          "output_type": "execute_result",
          "data": {
            "text/plain": [
              "array([[3289,   22,   19, ...,    0,    0,    0],\n",
              "       [2963,   21,   18, ...,    0,    0,    0],\n",
              "       [3037,  185,    9, ...,    0,    0,    0],\n",
              "       ...,\n",
              "       [3153,  287,   17, ...,    0,    0,    0],\n",
              "       [3065,  348,   21, ...,    0,    0,    0],\n",
              "       [3021,   26,   16, ...,    0,    0,    0]])"
            ]
          },
          "metadata": {},
          "execution_count": 8
        }
      ]
    },
    {
      "cell_type": "code",
      "source": [
        "from sklearn.preprocessing import StandardScaler\n",
        "scaler = StandardScaler()\n",
        "train_feature_matrix_transformed = scaler.fit_transform(train_feature_matrix)"
      ],
      "metadata": {
        "id": "h4bQVGr336WU"
      },
      "execution_count": null,
      "outputs": []
    },
    {
      "cell_type": "code",
      "source": [
        "from sklearn.model_selection import GridSearchCV\n",
        "from sklearn.preprocessing import StandardScaler\n",
        "\n",
        "pipe = LogisticRegression(solver= 'saga', penalty='elasticnet', max_iter=1500)\n",
        "\n",
        "my_params = {'C' : np.logspace(1.0, 4.0, num=6),\n",
        "             'l1_ratio' : [0, 0.5, 1]}\n",
        "\n",
        "my_grid = GridSearchCV(pipe, my_params, cv=2, refit=True, scoring= 'accuracy', verbose=4)"
      ],
      "metadata": {
        "id": "Z-DZuII3RL63"
      },
      "execution_count": null,
      "outputs": []
    },
    {
      "cell_type": "markdown",
      "source": [
        "So our grid search is ready so let's try to find best params:"
      ],
      "metadata": {
        "id": "Lueb_w7dHFzI"
      }
    },
    {
      "cell_type": "code",
      "source": [
        "my_grid.fit(train_feature_matrix_transformed, train_labels)\n",
        "print(my_grid.best_estimator_)\n",
        "print(my_grid.best_params_)\n",
        "print(my_grid.best_score_)"
      ],
      "metadata": {
        "colab": {
          "base_uri": "https://localhost:8080/"
        },
        "id": "PP0EobdBGqFa",
        "outputId": "216ac530-3efa-462a-ddd3-d530838d0d25"
      },
      "execution_count": null,
      "outputs": [
        {
          "output_type": "stream",
          "name": "stdout",
          "text": [
            "Fitting 2 folds for each of 18 candidates, totalling 36 fits\n"
          ]
        }
      ]
    },
    {
      "cell_type": "markdown",
      "source": [
        "After waiting for about 12 hours(on the kaggle notebook) i've got the next:\n",
        "\n",
        "`LogisticRegression(C=158.48931924611142, l1_ratio=0, max_iter=1500,\n",
        "penalty='elasticnet', solver='saga')`\n",
        "\n",
        "`{'C': 158.48931924611142, 'l1_ratio': 0}`\n",
        "\n",
        "`0.7242136055286749`"
      ],
      "metadata": {
        "id": "IyzD06Gj4MBz"
      }
    },
    {
      "cell_type": "markdown",
      "source": [
        "<b>Ok. As you can see we recieved not so high accuracy, so let's try to use some other models for our purpose</b>"
      ],
      "metadata": {
        "id": "5aYfa6XN9XBv"
      }
    },
    {
      "cell_type": "markdown",
      "source": [
        "### K Nearest Neighbors (KNN)\n",
        "\n",
        "The nearest neighbor method (k Nearest Neighbors, or kNN) is a very popular classification method, also sometimes used in regression problems. This is one of the most understandable approaches to classification. At the level of intuition, the essence of the method is: look at the neighbors; which predominate -- like you. The technique is formally based on the compactness hypothesis: if the distance metric between the examples is introduced well enough, then similar examples are much more common in the same class than in different ones.\n",
        "\n",
        "<img src='https://hsto.org/web/68d/a45/6f0/68da456f00f8434e87628dbe7e3f54a7.png' width=600>"
      ],
      "metadata": {
        "id": "Rq2kS1Fm9-QZ"
      }
    },
    {
      "cell_type": "markdown",
      "source": [
        "Now i will try to use Pipeline for scaling and evaluation without GridSearch"
      ],
      "metadata": {
        "id": "K7xLcbTmAqIC"
      }
    },
    {
      "cell_type": "code",
      "source": [
        "from sklearn.neighbors import KNeighborsClassifier\n",
        "from sklearn.pipeline import Pipeline\n",
        "\n",
        "my_pipe = Pipeline([('scaling', StandardScaler()), \n",
        "                   ('model', KNeighborsClassifier())])\n",
        "\n",
        "my_pipe.fit(train_feature_matrix, train_labels)\n",
        "my_pipe.score(test_feature_matrix, test_labels)"
      ],
      "metadata": {
        "colab": {
          "base_uri": "https://localhost:8080/"
        },
        "id": "e7sKSAAm__nX",
        "outputId": "921bede4-a641-46cb-c39c-2c0812157230"
      },
      "execution_count": null,
      "outputs": [
        {
          "output_type": "execute_result",
          "data": {
            "text/plain": [
              "0.9279708785487466"
            ]
          },
          "metadata": {},
          "execution_count": 14
        }
      ]
    },
    {
      "cell_type": "code",
      "source": [],
      "metadata": {
        "id": "5OzovurPHUo5"
      },
      "execution_count": null,
      "outputs": []
    },
    {
      "cell_type": "markdown",
      "source": [
        "As we can see we've recieved 93% of accuracy with the help of knn and standart scaling\n",
        "At the end let's try RandomForestClassifier:"
      ],
      "metadata": {
        "id": "ORLzLLt7DVA8"
      }
    },
    {
      "cell_type": "markdown",
      "source": [
        "### RandomForestClassifier\n",
        "In a random forest classification, multiple decision trees are created using different random subsets of the data and features. Each decision tree is like an expert, providing its opinion on how to classify the data. Predictions are made by calculating the prediction for each decision tree, then taking the most popular result. (For regression, predictions use an averaging technique instead.\n",
        "\n",
        "<img src='https://res.cloudinary.com/dyd911kmh/image/upload/v1677239993/image5_c214968fd6.png' width=1000>\n"
      ],
      "metadata": {
        "id": "oH_fD83lHd_G"
      }
    },
    {
      "cell_type": "code",
      "source": [
        "from sklearn.ensemble import RandomForestClassifier\n",
        "\n",
        "my_pipe = Pipeline([('scaling', StandardScaler()), \n",
        "                   ('model', RandomForestClassifier())])\n",
        "\n",
        "my_pipe.fit(train_feature_matrix, train_labels)\n",
        "my_pipe.score(test_feature_matrix, test_labels)"
      ],
      "metadata": {
        "id": "QrMmUvUjSb-Q",
        "colab": {
          "base_uri": "https://localhost:8080/"
        },
        "outputId": "37ecaf6f-bfc1-4cca-baa8-764ff4bb980d"
      },
      "execution_count": null,
      "outputs": [
        {
          "output_type": "execute_result",
          "data": {
            "text/plain": [
              "0.9552679362839169"
            ]
          },
          "metadata": {},
          "execution_count": 20
        }
      ]
    },
    {
      "cell_type": "markdown",
      "source": [
        "As we can see we've recieved 96% of accuracy with the help of knn and standart scaling\n"
      ],
      "metadata": {
        "id": "yUMA1n0MKmmL"
      }
    }
  ],
  "metadata": {
    "colab": {
      "provenance": []
    },
    "kernelspec": {
      "display_name": "Python 3",
      "name": "python3"
    },
    "language_info": {
      "name": "python"
    }
  },
  "nbformat": 4,
  "nbformat_minor": 0
}